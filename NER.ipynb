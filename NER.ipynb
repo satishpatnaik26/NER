{
  "nbformat": 4,
  "nbformat_minor": 0,
  "metadata": {
    "colab": {
      "name": "NER.ipynb",
      "provenance": [],
      "collapsed_sections": []
    },
    "kernelspec": {
      "name": "python3",
      "display_name": "Python 3"
    }
  },
  "cells": [
    {
      "cell_type": "code",
      "metadata": {
        "id": "iIkNwHQT_H6U",
        "colab_type": "code",
        "outputId": "a046d556-7992-4739-86d6-0fea78981c79",
        "colab": {
          "base_uri": "https://localhost:8080/",
          "height": 205
        }
      },
      "source": [
        "!pip install pytesseract"
      ],
      "execution_count": 1,
      "outputs": [
        {
          "output_type": "stream",
          "text": [
            "Collecting pytesseract\n",
            "  Downloading https://files.pythonhosted.org/packages/1d/d8/521db389ff0aae32035bfda6ed39cb2c2e28521c47015f6431f07460c50a/pytesseract-0.3.4.tar.gz\n",
            "Requirement already satisfied: Pillow in /usr/local/lib/python3.6/dist-packages (from pytesseract) (7.0.0)\n",
            "Building wheels for collected packages: pytesseract\n",
            "  Building wheel for pytesseract (setup.py) ... \u001b[?25l\u001b[?25hdone\n",
            "  Created wheel for pytesseract: filename=pytesseract-0.3.4-py2.py3-none-any.whl size=13431 sha256=edcc151117abf5473a1b76375d13cbfc094d96d9c1f22abf9c19ab615d2517f9\n",
            "  Stored in directory: /root/.cache/pip/wheels/63/2a/a0/7596d2e0a73cf0aeffd6f6170862c4e73f3763b7827e48691a\n",
            "Successfully built pytesseract\n",
            "Installing collected packages: pytesseract\n",
            "Successfully installed pytesseract-0.3.4\n"
          ],
          "name": "stdout"
        }
      ]
    },
    {
      "cell_type": "code",
      "metadata": {
        "id": "i3UdWSIrBPVh",
        "colab_type": "code",
        "outputId": "347d8fc1-efec-4007-f9b7-519b3d0c53a4",
        "colab": {
          "base_uri": "https://localhost:8080/",
          "height": 205
        }
      },
      "source": [
        "!pip install tesseract"
      ],
      "execution_count": 2,
      "outputs": [
        {
          "output_type": "stream",
          "text": [
            "Collecting tesseract\n",
            "\u001b[?25l  Downloading https://files.pythonhosted.org/packages/8d/b7/c4fae9af5842f69d9c45bf1195a94aec090628535c102894552a7a7dbe6c/tesseract-0.1.3.tar.gz (45.6MB)\n",
            "\u001b[K     |████████████████████████████████| 45.6MB 91kB/s \n",
            "\u001b[?25hBuilding wheels for collected packages: tesseract\n",
            "  Building wheel for tesseract (setup.py) ... \u001b[?25l\u001b[?25hdone\n",
            "  Created wheel for tesseract: filename=tesseract-0.1.3-cp36-none-any.whl size=45562571 sha256=b6d95b555b2a015f8a49ba21f8815125e501967d5ca7eab06c2edf0328988c99\n",
            "  Stored in directory: /root/.cache/pip/wheels/82/1f/d9/24797b123379e4ea9511cf660835468b62dad609634cad2aba\n",
            "Successfully built tesseract\n",
            "Installing collected packages: tesseract\n",
            "Successfully installed tesseract-0.1.3\n"
          ],
          "name": "stdout"
        }
      ]
    },
    {
      "cell_type": "code",
      "metadata": {
        "id": "hwSu39N8ETv1",
        "colab_type": "code",
        "outputId": "e798a1a4-d7a0-4593-9b6f-02dd215afdd3",
        "colab": {
          "base_uri": "https://localhost:8080/",
          "height": 34
        }
      },
      "source": [
        "!pip install Pillow"
      ],
      "execution_count": 3,
      "outputs": [
        {
          "output_type": "stream",
          "text": [
            "Requirement already satisfied: Pillow in /usr/local/lib/python3.6/dist-packages (7.0.0)\n"
          ],
          "name": "stdout"
        }
      ]
    },
    {
      "cell_type": "code",
      "metadata": {
        "id": "vM-jYoFNFtxG",
        "colab_type": "code",
        "outputId": "e07585cb-d5ce-4326-d193-f749b551d8ee",
        "colab": {
          "base_uri": "https://localhost:8080/",
          "height": 625
        }
      },
      "source": [
        "!sudo apt-get install tesseract-ocr"
      ],
      "execution_count": 4,
      "outputs": [
        {
          "output_type": "stream",
          "text": [
            "\rReading package lists... 0%\r\rReading package lists... 0%\r\rReading package lists... 0%\r\rReading package lists... 6%\r\rReading package lists... 6%\r\rReading package lists... 7%\r\rReading package lists... 7%\r\rReading package lists... 63%\r\rReading package lists... 63%\r\rReading package lists... 64%\r\rReading package lists... 64%\r\rReading package lists... 64%\r\rReading package lists... 71%\r\rReading package lists... 71%\r\rReading package lists... 72%\r\rReading package lists... 72%\r\rReading package lists... 81%\r\rReading package lists... 81%\r\rReading package lists... 81%\r\rReading package lists... 81%\r\rReading package lists... 81%\r\rReading package lists... 81%\r\rReading package lists... 81%\r\rReading package lists... 81%\r\rReading package lists... 87%\r\rReading package lists... 87%\r\rReading package lists... 87%\r\rReading package lists... 87%\r\rReading package lists... 93%\r\rReading package lists... 93%\r\rReading package lists... 93%\r\rReading package lists... 93%\r\rReading package lists... 93%\r\rReading package lists... 93%\r\rReading package lists... 94%\r\rReading package lists... 94%\r\rReading package lists... 95%\r\rReading package lists... 95%\r\rReading package lists... 98%\r\rReading package lists... 98%\r\rReading package lists... 98%\r\rReading package lists... 98%\r\rReading package lists... Done\r\n",
            "\rBuilding dependency tree... 0%\r\rBuilding dependency tree... 0%\r\rBuilding dependency tree... 50%\r\rBuilding dependency tree... 50%\r\rBuilding dependency tree       \r\n",
            "\rReading state information... 0%\r\rReading state information... 0%\r\rReading state information... Done\r\n",
            "The following additional packages will be installed:\n",
            "  tesseract-ocr-eng tesseract-ocr-osd\n",
            "The following NEW packages will be installed:\n",
            "  tesseract-ocr tesseract-ocr-eng tesseract-ocr-osd\n",
            "0 upgraded, 3 newly installed, 0 to remove and 29 not upgraded.\n",
            "Need to get 4,795 kB of archives.\n",
            "After this operation, 15.8 MB of additional disk space will be used.\n",
            "Get:1 http://archive.ubuntu.com/ubuntu bionic/universe amd64 tesseract-ocr-eng all 4.00~git24-0e00fe6-1.2 [1,588 kB]\n",
            "Get:2 http://archive.ubuntu.com/ubuntu bionic/universe amd64 tesseract-ocr-osd all 4.00~git24-0e00fe6-1.2 [2,989 kB]\n",
            "Get:3 http://archive.ubuntu.com/ubuntu bionic/universe amd64 tesseract-ocr amd64 4.00~git2288-10f4998a-2 [218 kB]\n",
            "Fetched 4,795 kB in 1s (4,222 kB/s)\n",
            "debconf: unable to initialize frontend: Dialog\n",
            "debconf: (No usable dialog-like program is installed, so the dialog based frontend cannot be used. at /usr/share/perl5/Debconf/FrontEnd/Dialog.pm line 76, <> line 3.)\n",
            "debconf: falling back to frontend: Readline\n",
            "debconf: unable to initialize frontend: Readline\n",
            "debconf: (This frontend requires a controlling tty.)\n",
            "debconf: falling back to frontend: Teletype\n",
            "dpkg-preconfigure: unable to re-open stdin: \n",
            "Selecting previously unselected package tesseract-ocr-eng.\n",
            "(Reading database ... 144429 files and directories currently installed.)\n",
            "Preparing to unpack .../tesseract-ocr-eng_4.00~git24-0e00fe6-1.2_all.deb ...\n",
            "Unpacking tesseract-ocr-eng (4.00~git24-0e00fe6-1.2) ...\n",
            "Selecting previously unselected package tesseract-ocr-osd.\n",
            "Preparing to unpack .../tesseract-ocr-osd_4.00~git24-0e00fe6-1.2_all.deb ...\n",
            "Unpacking tesseract-ocr-osd (4.00~git24-0e00fe6-1.2) ...\n",
            "Selecting previously unselected package tesseract-ocr.\n",
            "Preparing to unpack .../tesseract-ocr_4.00~git2288-10f4998a-2_amd64.deb ...\n",
            "Unpacking tesseract-ocr (4.00~git2288-10f4998a-2) ...\n",
            "Setting up tesseract-ocr-osd (4.00~git24-0e00fe6-1.2) ...\n",
            "Setting up tesseract-ocr-eng (4.00~git24-0e00fe6-1.2) ...\n",
            "Setting up tesseract-ocr (4.00~git2288-10f4998a-2) ...\n",
            "Processing triggers for man-db (2.8.3-2ubuntu0.1) ...\n"
          ],
          "name": "stdout"
        }
      ]
    },
    {
      "cell_type": "code",
      "metadata": {
        "id": "RhEhAJLkq_Zv",
        "colab_type": "code",
        "outputId": "912e0751-a528-4d70-9cdf-5bb26f842235",
        "colab": {
          "base_uri": "https://localhost:8080/",
          "height": 709
        }
      },
      "source": [
        "!sudo apt install build-essential libpoppler-cpp-dev pkg-config python3-dev"
      ],
      "execution_count": 5,
      "outputs": [
        {
          "output_type": "stream",
          "text": [
            "\rReading package lists... 0%\r\rReading package lists... 0%\r\rReading package lists... 0%\r\rReading package lists... 6%\r\rReading package lists... 6%\r\rReading package lists... 7%\r\rReading package lists... 7%\r\rReading package lists... 63%\r\rReading package lists... 63%\r\rReading package lists... 64%\r\rReading package lists... 64%\r\rReading package lists... 64%\r\rReading package lists... 71%\r\rReading package lists... 71%\r\rReading package lists... 72%\r\rReading package lists... 72%\r\rReading package lists... 81%\r\rReading package lists... 81%\r\rReading package lists... 81%\r\rReading package lists... 81%\r\rReading package lists... 81%\r\rReading package lists... 81%\r\rReading package lists... 81%\r\rReading package lists... 81%\r\rReading package lists... 87%\r\rReading package lists... 87%\r\rReading package lists... 87%\r\rReading package lists... 87%\r\rReading package lists... 93%\r\rReading package lists... 93%\r\rReading package lists... 93%\r\rReading package lists... 93%\r\rReading package lists... 93%\r\rReading package lists... 93%\r\rReading package lists... 94%\r\rReading package lists... 94%\r\rReading package lists... 95%\r\rReading package lists... 95%\r\rReading package lists... 98%\r\rReading package lists... 98%\r\rReading package lists... 98%\r\rReading package lists... 98%\r\rReading package lists... Done\r\n",
            "\rBuilding dependency tree... 0%\r\rBuilding dependency tree... 0%\r\rBuilding dependency tree... 50%\r\rBuilding dependency tree... 50%\r\rBuilding dependency tree       \r\n",
            "\rReading state information... 0%\r\rReading state information... 0%\r\rReading state information... Done\r\n",
            "build-essential is already the newest version (12.4ubuntu1).\n",
            "pkg-config is already the newest version (0.29.1-0ubuntu2).\n",
            "python3-dev is already the newest version (3.6.7-1~18.04).\n",
            "The following additional packages will be installed:\n",
            "  libpoppler-cpp0v5 libpoppler-dev\n",
            "The following NEW packages will be installed:\n",
            "  libpoppler-cpp-dev libpoppler-cpp0v5 libpoppler-dev\n",
            "0 upgraded, 3 newly installed, 0 to remove and 29 not upgraded.\n",
            "Need to get 41.3 kB of archives.\n",
            "After this operation, 233 kB of additional disk space will be used.\n",
            "\u001b[33m\r0% [Working]\u001b[0m\r            \rGet:1 http://archive.ubuntu.com/ubuntu bionic-updates/main amd64 libpoppler-cpp0v5 amd64 0.62.0-2ubuntu2.10 [28.0 kB]\n",
            "\u001b[33m\r5% [1 libpoppler-cpp0v5 2,615 B/28.0 kB 9%]\u001b[0m\u001b[33m\r                                           \r61% [Waiting for headers]\u001b[0m\r                         \rGet:2 http://archive.ubuntu.com/ubuntu bionic-updates/main amd64 libpoppler-dev amd64 0.62.0-2ubuntu2.10 [4,608 B]\n",
            "\u001b[33m\r66% [2 libpoppler-dev 2,616 B/4,608 B 57%]\u001b[0m\u001b[33m\r                                          \r77% [Working]\u001b[0m\r             \rGet:3 http://archive.ubuntu.com/ubuntu bionic-updates/main amd64 libpoppler-cpp-dev amd64 0.62.0-2ubuntu2.10 [8,684 B]\n",
            "\u001b[33m\r78% [3 libpoppler-cpp-dev 624 B/8,684 B 7%]\u001b[0m\u001b[33m\r                                           \r100% [Working]\u001b[0m\r              \rFetched 41.3 kB in 1s (73.1 kB/s)\n",
            "debconf: unable to initialize frontend: Dialog\n",
            "debconf: (No usable dialog-like program is installed, so the dialog based frontend cannot be used. at /usr/share/perl5/Debconf/FrontEnd/Dialog.pm line 76, <> line 3.)\n",
            "debconf: falling back to frontend: Readline\n",
            "debconf: unable to initialize frontend: Readline\n",
            "debconf: (This frontend requires a controlling tty.)\n",
            "debconf: falling back to frontend: Teletype\n",
            "dpkg-preconfigure: unable to re-open stdin: \n",
            "Selecting previously unselected package libpoppler-cpp0v5:amd64.\n",
            "(Reading database ... \r(Reading database ... 5%\r(Reading database ... 10%\r(Reading database ... 15%\r(Reading database ... 20%\r(Reading database ... 25%\r(Reading database ... 30%\r(Reading database ... 35%\r(Reading database ... 40%\r(Reading database ... 45%\r(Reading database ... 50%\r(Reading database ... 55%\r(Reading database ... 60%\r(Reading database ... 65%\r(Reading database ... 70%\r(Reading database ... 75%\r(Reading database ... 80%\r(Reading database ... 85%\r(Reading database ... 90%\r(Reading database ... 95%\r(Reading database ... 100%\r(Reading database ... 144476 files and directories currently installed.)\n",
            "Preparing to unpack .../libpoppler-cpp0v5_0.62.0-2ubuntu2.10_amd64.deb ...\n",
            "Unpacking libpoppler-cpp0v5:amd64 (0.62.0-2ubuntu2.10) ...\n",
            "Selecting previously unselected package libpoppler-dev:amd64.\n",
            "Preparing to unpack .../libpoppler-dev_0.62.0-2ubuntu2.10_amd64.deb ...\n",
            "Unpacking libpoppler-dev:amd64 (0.62.0-2ubuntu2.10) ...\n",
            "Selecting previously unselected package libpoppler-cpp-dev:amd64.\n",
            "Preparing to unpack .../libpoppler-cpp-dev_0.62.0-2ubuntu2.10_amd64.deb ...\n",
            "Unpacking libpoppler-cpp-dev:amd64 (0.62.0-2ubuntu2.10) ...\n",
            "Setting up libpoppler-dev:amd64 (0.62.0-2ubuntu2.10) ...\n",
            "Setting up libpoppler-cpp0v5:amd64 (0.62.0-2ubuntu2.10) ...\n",
            "Setting up libpoppler-cpp-dev:amd64 (0.62.0-2ubuntu2.10) ...\n",
            "Processing triggers for libc-bin (2.27-3ubuntu1) ...\n",
            "/sbin/ldconfig.real: /usr/local/lib/python3.6/dist-packages/ideep4py/lib/libmkldnn.so.0 is not a symbolic link\n",
            "\n"
          ],
          "name": "stdout"
        }
      ]
    },
    {
      "cell_type": "code",
      "metadata": {
        "id": "RsA7fTrSrUgA",
        "colab_type": "code",
        "outputId": "ce65b240-35e4-4577-8358-40c7cbff8249",
        "colab": {
          "base_uri": "https://localhost:8080/",
          "height": 205
        }
      },
      "source": [
        "!pip install pdftotext"
      ],
      "execution_count": 6,
      "outputs": [
        {
          "output_type": "stream",
          "text": [
            "Collecting pdftotext\n",
            "\u001b[?25l  Downloading https://files.pythonhosted.org/packages/58/38/f04c252f4cb2d10af9abcde0a2db1bcd38288a76a99e88333f2a434e0c40/pdftotext-2.1.4.tar.gz (113kB)\n",
            "\r\u001b[K     |██▉                             | 10kB 17.6MB/s eta 0:00:01\r\u001b[K     |█████▊                          | 20kB 2.2MB/s eta 0:00:01\r\u001b[K     |████████▋                       | 30kB 2.8MB/s eta 0:00:01\r\u001b[K     |███████████▌                    | 40kB 2.1MB/s eta 0:00:01\r\u001b[K     |██████████████▍                 | 51kB 2.3MB/s eta 0:00:01\r\u001b[K     |█████████████████▎              | 61kB 2.7MB/s eta 0:00:01\r\u001b[K     |████████████████████▏           | 71kB 2.9MB/s eta 0:00:01\r\u001b[K     |███████████████████████         | 81kB 3.2MB/s eta 0:00:01\r\u001b[K     |██████████████████████████      | 92kB 3.5MB/s eta 0:00:01\r\u001b[K     |████████████████████████████▉   | 102kB 3.5MB/s eta 0:00:01\r\u001b[K     |███████████████████████████████▋| 112kB 3.5MB/s eta 0:00:01\r\u001b[K     |████████████████████████████████| 122kB 3.5MB/s \n",
            "\u001b[?25hBuilding wheels for collected packages: pdftotext\n",
            "  Building wheel for pdftotext (setup.py) ... \u001b[?25l\u001b[?25hdone\n",
            "  Created wheel for pdftotext: filename=pdftotext-2.1.4-cp36-cp36m-linux_x86_64.whl size=54080 sha256=0dd58135f29ea1d2fdeb0589a7cb16234a3a8cd7f719081afc1cc223e0cffc8d\n",
            "  Stored in directory: /root/.cache/pip/wheels/88/c3/62/c1ef7f738f8c0c1ac67cbe63786cae734d555c5077088036f0\n",
            "Successfully built pdftotext\n",
            "Installing collected packages: pdftotext\n",
            "Successfully installed pdftotext-2.1.4\n"
          ],
          "name": "stdout"
        }
      ]
    },
    {
      "cell_type": "code",
      "metadata": {
        "id": "mI0xt-bNaxsA",
        "colab_type": "code",
        "colab": {}
      },
      "source": [
        "import pdftotext\n",
        "import re\n",
        "import pandas as pd\n",
        "import os\n",
        "import glob\n",
        "import json"
      ],
      "execution_count": 0,
      "outputs": []
    },
    {
      "cell_type": "markdown",
      "metadata": {
        "id": "Ww9k0uNlIdIj",
        "colab_type": "text"
      },
      "source": [
        "# OCR Framework to covert image to text"
      ]
    },
    {
      "cell_type": "code",
      "metadata": {
        "id": "Qn6PqxnOEDji",
        "colab_type": "code",
        "colab": {}
      },
      "source": [
        "try:\n",
        "    from PIL import Image\n",
        "except ImportError:\n",
        "    import Image\n",
        "import pytesseract\n",
        "\n",
        "def ocr_core(filename):\n",
        "    \"\"\"\n",
        "    This function will handle the core OCR processing of images.\n",
        "    \"\"\"\n",
        "    text = pytesseract.image_to_string(Image.open(filename))  \n",
        "    return text\n",
        "\n"
      ],
      "execution_count": 0,
      "outputs": []
    },
    {
      "cell_type": "code",
      "metadata": {
        "id": "HBfTKKwiqyAV",
        "colab_type": "code",
        "colab": {}
      },
      "source": [
        "\n",
        "def pdf_core(filename):\n",
        "    \n",
        "    with open(filename, \"rb\") as f:\n",
        "        pdf = pdftotext.PDF(f)\n",
        "    return \"\\n\\n\".join(pdf)\n",
        "    \n",
        "\n",
        "\n",
        "\n",
        "    "
      ],
      "execution_count": 0,
      "outputs": []
    },
    {
      "cell_type": "markdown",
      "metadata": {
        "id": "5kQy3qdn-P4U",
        "colab_type": "text"
      },
      "source": [
        "# Create NER TAGS\n"
      ]
    },
    {
      "cell_type": "code",
      "metadata": {
        "id": "Vni3apn3VnXi",
        "colab_type": "code",
        "colab": {}
      },
      "source": [
        "def extension_type_process(extension,f):\n",
        "  if extension == 'pdf':\n",
        "    return pdf_core(f)\n",
        "  elif extension == 'png':\n",
        "    return ocr_core(f)"
      ],
      "execution_count": 0,
      "outputs": []
    },
    {
      "cell_type": "code",
      "metadata": {
        "id": "LNAVr763Lsn8",
        "colab_type": "code",
        "colab": {}
      },
      "source": [
        "def find_start_end(labelcontent,text,label,category):\n",
        "  annolist = []\n",
        "\n",
        "  \n",
        "  if label == 'CATEGORY':\n",
        "    if category == 'Merrilllynch_CRA':\n",
        "      text = 'Merrill Lynch'\n",
        "    elif category == 'Schwab_IRA':\n",
        "      text = 'Schwab'\n",
        "    for match in re.finditer(text, labelcontent):\n",
        "      annolist.append({\"label\":[label],\"points\":[{\"start\":match.start(),\"end\":match.end(),\"text\":text}]})\n",
        "  elif label == 'PHONE':\n",
        "    num = \"(\"+text[0:3]+\") \"+text[3:6]+\"-\"+text[6:10]\n",
        "    for match in re.finditer(r'\\(\\w{3}\\) \\w{3}-\\w{4}', labelcontent):\n",
        "      if labelcontent[match.start():match.end()] == num:\n",
        "        annolist.append({\"label\":[label],\"points\":[{\"start\":match.start(),\"end\":match.end(),\"text\":num}]})\n",
        "  elif label == 'CITY':\n",
        "    city = text.split(',')[0]\n",
        "    for match in re.finditer(city, labelcontent):\n",
        "      annolist.append({\"label\":[label],\"points\":[{\"start\":match.start(),\"end\":match.end(),\"text\":city}]})\n",
        "  elif label == 'EMAIL':\n",
        "    for match in re.finditer(r'[\\w\\.-]+@[\\w\\.-]+', labelcontent):\n",
        "      if labelcontent[match.start():match.end()] == text:\n",
        "        annolist.append({\"label\":[label],\"points\":[{\"start\":match.start(),\"end\":match.end(),\"text\":text}]})\n",
        "  else:\n",
        "    for match in re.finditer(text, labelcontent):\n",
        "      annolist.append({\"label\":[label],\"points\":[{\"start\":match.start(),\"end\":match.end(),\"text\":text}]})\n",
        "  return annolist"
      ],
      "execution_count": 0,
      "outputs": []
    },
    {
      "cell_type": "code",
      "metadata": {
        "id": "6O7SQkvU5sqq",
        "colab_type": "code",
        "colab": {}
      },
      "source": [
        "def pdf_tag(file,category,filename,df):\n",
        "    if category == 'Ameritrade Institutional':\n",
        "      labels = ['CATEGORY','TITLE','CLIENT','ADDRESS','SOCIAL SECURITY NO','RELATIONSHIP NO.','ACC NO','ACC TYPE','PHONE']\n",
        "    else:\n",
        "      labels = ['CATEGORY','TITLE','CLIENT','ADDRESS','SOCIAL SECURITY NO','RELATIONSHIP NO.','ACC NO','ACC TYPE','PHONE','CITY','EMAIL']\n",
        "    dict={}\n",
        "    annolist = []\n",
        "    content = pdf_core(file)\n",
        "    \n",
        "    dict['content'] = content\n",
        "    for label in labels:\n",
        "      result = df[(df['CATEGORY']==category) & (df['FILE NAME']==filename)][label]\n",
        "      if (list(result) == []):\n",
        "        continue\n",
        "      else:\n",
        "        text=str(result.values[0]).strip()\n",
        "        annolist = annolist + find_start_end(content,text,label,category)\n",
        "     \n",
        "    dict['annotation'] = annolist\n",
        "    \n",
        "    return json.dumps(dict)\n"
      ],
      "execution_count": 0,
      "outputs": []
    },
    {
      "cell_type": "code",
      "metadata": {
        "id": "6TaPjs6_aIe8",
        "colab_type": "code",
        "colab": {}
      },
      "source": [
        "def png_tag(file,category,filename,df):\n",
        "    labels = ['CATEGORY','TITLE','CLIENT','ADDRESS','SOCIAL SECURITY NO','RELATIONSHIP NO.','ACC NO','ACC TYPE','PHONE','CITY','EMAIL']\n",
        "    dict={}\n",
        "    annolist = []\n",
        "    content = ocr_core(file)\n",
        "    dict['content'] = content\n",
        "    for label in labels:\n",
        "      result = df[(df['CATEGORY']==category) & (df['FILE NAME']==filename)][label]\n",
        "      if (list(result) == []):\n",
        "        continue\n",
        "      else:\n",
        "        text=str(result.values[0]).strip()\n",
        "        annolist = annolist + find_start_end(content,text,label,category)\n",
        "    dict['annotation'] = annolist\n",
        "    \n",
        "    return json.dumps(dict)\n"
      ],
      "execution_count": 0,
      "outputs": []
    },
    {
      "cell_type": "code",
      "metadata": {
        "id": "G3o2CN2hOu6B",
        "colab_type": "code",
        "colab": {}
      },
      "source": [
        "df = pd.read_csv(\"/content/drive/My Drive/DOC-NER/IRA.csv\")"
      ],
      "execution_count": 0,
      "outputs": []
    },
    {
      "cell_type": "code",
      "metadata": {
        "id": "YMIiYMx-iRRn",
        "colab_type": "code",
        "outputId": "67e8ab94-6cb9-4477-fd32-9a9746d8ad9b",
        "colab": {
          "base_uri": "https://localhost:8080/",
          "height": 121
        }
      },
      "source": [
        "from google.colab import drive\n",
        "drive.mount('/content/drive')"
      ],
      "execution_count": 15,
      "outputs": [
        {
          "output_type": "stream",
          "text": [
            "Go to this URL in a browser: https://accounts.google.com/o/oauth2/auth?client_id=947318989803-6bn6qk8qdgf4n4g3pfee6491hc0brc4i.apps.googleusercontent.com&redirect_uri=urn%3aietf%3awg%3aoauth%3a2.0%3aoob&response_type=code&scope=email%20https%3a%2f%2fwww.googleapis.com%2fauth%2fdocs.test%20https%3a%2f%2fwww.googleapis.com%2fauth%2fdrive%20https%3a%2f%2fwww.googleapis.com%2fauth%2fdrive.photos.readonly%20https%3a%2f%2fwww.googleapis.com%2fauth%2fpeopleapi.readonly\n",
            "\n",
            "Enter your authorization code:\n",
            "··········\n",
            "Mounted at /content/drive\n"
          ],
          "name": "stdout"
        }
      ]
    },
    {
      "cell_type": "code",
      "metadata": {
        "id": "Hh5sDV2cMv3e",
        "colab_type": "code",
        "colab": {}
      },
      "source": [
        "categories = ['Merrilllynch_CRA','Schwab_IRA','Ameritrade Institutional']\n",
        "pdf_doc_dict={}\n",
        "png_doc_dict={}\n",
        "for company in categories:\n",
        "  fullpath = \"/content/drive/My Drive/DOC-NER/\"+company\n",
        "  os.chdir(fullpath)\n",
        "  all_filenames = [i for i in glob.glob('*.{}'.format('pdf'))]\n",
        "  pdf_doc_dict[company] = [pdf_tag(f,company,f.split('.')[0],df) for f in all_filenames ]\n",
        "  all_filenames = [i for i in glob.glob('*.{}'.format('png'))]\n",
        "  png_doc_dict[company] = [png_tag(f,company,f.split('.')[0],df) for f in all_filenames ]\n",
        "\n"
      ],
      "execution_count": 0,
      "outputs": []
    },
    {
      "cell_type": "code",
      "metadata": {
        "id": "F9U8J3O6SP38",
        "colab_type": "code",
        "outputId": "227f2efd-d186-41bd-ec15-87130a073d1c",
        "colab": {
          "base_uri": "https://localhost:8080/",
          "height": 188
        }
      },
      "source": [
        "list(png_doc_dict.values())[0]"
      ],
      "execution_count": 18,
      "outputs": [
        {
          "output_type": "execute_result",
          "data": {
            "text/plain": [
              "['{\"content\": \"DTC8862\\\\nACATO671\\\\n\\\\nClient Account Transfer Form\\\\n\\\\nUse this form to transfer all or a portion of your account from\\\\nanother financial institution to your Merrill Lynch, Pierce, Fenner &\\\\nSmith Incorporated (\\\\u201cMerrill Lynch\\\\u201d) account.\\\\n\\\\nMERRILL bos\\\\n\\\\nA BANK OF AMERICA COMPANY\\\\n\\\\nFor best results, please complete the information requested below in parts 1 to 4 using ALL CAPITAL letters and\\\\nblack ink. If you need more room for information or signatures, use a copy of the relevant page or a blank sheet. Use\\\\none form for each account that you\\'re transferring.\\\\n\\\\nThings to know before you begin:\\\\n\\\\nMany firms transfer assets using an automated transfer process, which typically takes 5 to 6 business days. Other\\\\nfirms either don\\\\u2019t use the automated process or must process some assets manually, which takes more time. The\\\\nfollowing estimated time frames for manual transfers are from the date of receipt of instructions by the delivering\\\\nfirm and may vary greatly:\\\\n\\\\u2014 Equities, bonds and options, approximately 15 business days\\\\n\\\\u2014 Restricted securities, approximately 15 to 20 business days\\\\n\\\\u2014 Mutual funds, up to 30 business days\\\\n\\\\u2014 Foreign securities, 4 to 6 weeks\\\\n\\\\nNote: Annuities are not transferred using this form. Please use the Merrill Lynch Annuity Transfer Form.\\\\n\\\\nRemember to update any automatic deposits or withdrawals you\\'ve set up on the account you\\'re transferring to\\\\nMerrill Lynch\\\\n\\\\nSome transfers may result in tax consequences, penalties or financial risk. Consult your tax and financial\\\\nprofessionals before requesting this transfer.\\\\n\\\\nIf you\\'re rolling over assets from a 401(k) or other employer-sponsored plan, consider all of your choices. You may\\\\n\\\\nbe able to roll over to an IRA, roll over an old 401(k) to a 401(k) at a new employer, take a distribution or leave the\\\\naccount where it is, depending on your unique financial needs and retirement goals. Each choice may offer different\\\\nbenefits and limitations including investment options and services, fees and expenses, withdrawal options, required\\\\nminimum distributions, tax treatment and protection from creditors and legal judgments. Additionally, there are\\\\nlimits to how often and when you can roll over your account. Please contact your 401(k) or other employer-sponsored\\\\nplan administrator for help with the transfer.\\\\n\\\\n \\\\n\\\\nPart 1\\\\nWhere your account\\\\nis now\\\\n\\\\nAttach all pages\\\\n\\\\n  \\\\n  \\\\n \\\\n\\\\nrecent\\\\n\\\\naccount to\\\\n\\\\nany delays.\\\\n\\\\nFIRM NAME FIRM PHONE\\\\n\\\\nWestwood Management Corp. i (541) 666-3010\\\\n\\\\nFIRM ADDRESS CITY, STATE, ZIP\\\\n200 Crescent Ct #1200 : Dallas, TX,75201\\\\n\\\\nACCOUNTNUMBER SS ACCOUNTTITLE\\\\n71457554 : Angelica E Senn\\\\n\\\\nSOCIAL SECURITY NUMBER (If used for tax reporting)\\\\nIRA \\'404711495\\\\n\\\\nAccount holders (individual accounts) or authorized signers (for business, trust, estate, etc.)\\\\nList all names exactly as they appear on this account.\\\\n\\\\nCONTACT NAME\\\\n| Isabel J Haller\\\\n\\\\n \\\\n\\\\n \\\\n\\\\n \\\\n\\\\nPart 2\\\\n\\\\nMerrill Lynch account\\\\nreceiving your\\\\ntransferred assets\\\\n\\\\nThis can include a\\\\n\\\\nM,\\\\n\\\\n   \\\\n\\\\nLynch account\\\\n\\\\n  \\\\n\\\\nvh\\\\nfiduciary services\\\\nfrom U.S. Trust.\\\\n\\\\nlich you receive\\\\n\\\\nCODE 1566 MLPFS - 03/2018\\\\n\\\\nMERRILL LYNCH ACCOUNT NUMBER\\\\n335-1254 CMA\\\\n\\\\nACCOUNT TITLE (Here at Merrill Lynch)\\\\nAngelica E Senn\\\\n\\\\nSOCIAL SECURITY NUMBER ([If used for tax reporting)\\\\n404711495\\\\n\\\\nAccount holders (individual accounts) or authorized signers (for business, trust, estate, etc.)\\\\nList all names exactly as they appear on this account. This account must have at least one owner in common with\\\\nyour transferring account, otherwise this process will be delayed.\\\\n\\\\n \\\\n\\\\n \\\\n\\\\nDAYTIME PHONE\\\\n(541) 666-2215\\\\n\\\\nEVENING PHONE\\\\ni : Angelica@gmail.com\\\\n\\\\n \\\\n\\\\nBRANCH CONTACT NAME\\\\nNICK LANE\\\\n\\\\n \\\\n\\\\nNCH CONTACT NUMBER\\\\n} 866.848.6554\", \"annotation\": []}',\n",
              " '{\"content\": \"DTC8862 .\\\\n\\\\nacATOR Client Account Transfer Form GS\\\\nUse this form to transfer all or a portion of your account from MERRILL .\\\\n\\\\n. co . , A BANK OF AMERICA COMPANY\\\\nanother financial institution to your Merrill Lynch, Pierce, Fenner &\\\\nSmith Incorporated (\\\\u201cMerrill Lynch\\\\u201d) account.\\\\nFor best results, please complete the information requested below in parts 1 to 4 using ALL CAPITAL letters and\\\\nblack ink. If you need more room for information or signatures, use a copy of the relevant page or a blank sheet. Use\\\\none form for each account that you\\'re transferring.\\\\nThings to know before you begin:\\\\nMany firms transfer assets using an automated transfer process, which typically takes 5 to 6 business days. Other\\\\nfirms either don\\\\u2019t use the automated process or must process some assets manually, which takes more time. The\\\\nfollowing estimated time frames for manual transfers are from the date of receipt of instructions by the delivering\\\\nfirm and may vary greatly:\\\\n\\\\u2014 Equities, bonds and options, approximately 15 business days\\\\n\\\\u2014 Restricted securities, approximately 15 to 20 business days\\\\n\\\\u2014 Mutual funds, up to 30 business days\\\\n\\\\u2014 Foreign securities, 4 to 6 weeks\\\\nNote: Annuities are not transferred using this form. Please use the Merrill Lynch Annuity Transfer Form.\\\\n\\\\nRemember to update any automatic deposits or withdrawals you\\'ve set up on the account you\\'re transferring to\\\\nMerrill Lynch\\\\nSome transfers may result in tax consequences, penalties or financial risk. Consult your tax and financial\\\\nprofessionals before requesting this transfer.\\\\nIf you\\'re rolling over assets from a 401(k) or other employer-sponsored plan, consider all of your choices. You may\\\\nbe able to roll over to an IRA, roll over an old 401(k) to a 401(k) at a new employer, take a distribution or leave the\\\\naccount where it is, depending on your unique financial needs and retirement goals. Each choice may offer different\\\\nbenefits and limitations including investment options and services, fees and expenses, withdrawal options, required\\\\nminimum distributions, tax treatment and protection from creditors and legal judgments. Additionally, there are\\\\nlimits to how often and when you can roll over your account. Please contact your 401(k) or other employer-sponsored\\\\nplan administrator for help with the transfer.\\\\n\\\\nPart 1 FIRM NAME FIRM PHONE CONTACT NAME\\\\n\\\\nWhere your account Los Angeles CM and Equity Research : (541) 754-5879 \\' Donald S Cordova\\\\n\\\\nis now FIRM ADDRESS CITY, STATE, ZIP\\\\nVU150 CA 1200 ceccccaesececneenenaeeeseenseessenns {Los Angeles, CA,90025 eee\\\\n\\\\nAttach all pages ACCOUNT NUMBER ACCOUNT TITLE\\\\n\\\\nrecent 22560564 \\\\u2018Rose R Webb\\\\n- ACCOUNT TYPE (RETAIL/IRA etc.) SOCIAL SECURITY NUMBER (If used for tax reporting)\\\\n\\\\na \\\\u00b0 IRA 1539236318\\\\n\\\\nany delays\\\\nAccount holders (individual accounts) or authorized signers (for business, trust, estate, etc.)\\\\nList all names exactly as they appear on this account.\\\\nWager nnn anaes aaa eee\\\\nRose R Webb\\\\nwagner cence nena sane\\\\n\\\\nPart 2 MERRILL LYNCH ACCOUNT NUMBER ACCOUNT TYPE (Choose one)\\\\n\\\\nMerrill Lynch account 335-4587 CMA\\\\n\\\\nwe ACCOUNT TITLE (Here at Merrill Lynch)\\\\nreceiving your Rose R Webb\\\\n\\\\ntransferred assets\\\\n\\\\nThis can include a\\\\n\\\\n  \\\\n \\\\n\\\\nLynch account\\\\non which you receive\\\\nfiduciary services\\\\n\\\\nfrom U.S. Trust.\\\\n\\\\nCODE 1566 MLPFS - 03/2018\\\\n\\\\nSOCIAL SECURITY NUMBER ([If used for tax reporting)\\\\n539236318\\\\n\\\\nAccount holders (individual accounts) or authorized signers (for business, trust, estate, etc.)\\\\nList all names exactly as they appear on this account. This account must have at least one owner in common with\\\\nyour transferring account, otherwise this process will be delayed.\\\\n\\\\n \\\\n\\\\n \\\\n\\\\nDAYTIME PHONE\\\\n(541) 754-1544\\\\n\\\\nEVENING PHONE\\\\ni : Rose@gmail.com\\\\n\\\\n \\\\n\\\\nBRANCH CONTACT NAME\\\\nNICK LANE\\\\n\\\\n \\\\n\\\\nNCH CONTACT NUMBER\\\\n1 866.848.6554\", \"annotation\": [{\"label\": [\"CATEGORY\"], \"points\": [{\"start\": 198, \"end\": 211, \"text\": \"Merrill Lynch\"}]}, {\"label\": [\"CATEGORY\"], \"points\": [{\"start\": 251, \"end\": 264, \"text\": \"Merrill Lynch\"}]}, {\"label\": [\"CATEGORY\"], \"points\": [{\"start\": 1224, \"end\": 1237, \"text\": \"Merrill Lynch\"}]}, {\"label\": [\"CATEGORY\"], \"points\": [{\"start\": 1371, \"end\": 1384, \"text\": \"Merrill Lynch\"}]}, {\"label\": [\"CATEGORY\"], \"points\": [{\"start\": 2998, \"end\": 3011, \"text\": \"Merrill Lynch\"}]}, {\"label\": [\"CATEGORY\"], \"points\": [{\"start\": 3060, \"end\": 3073, \"text\": \"Merrill Lynch\"}]}, {\"label\": [\"TITLE\"], \"points\": [{\"start\": 18, \"end\": 46, \"text\": \"Client Account Transfer Form\"}]}, {\"label\": [\"CLIENT\"], \"points\": [{\"start\": 2398, \"end\": 2414, \"text\": \"Donald S Cordova\"}]}, {\"label\": [\"SOCIAL SECURITY NO\"], \"points\": [{\"start\": 2702, \"end\": 2711, \"text\": \"539236318\"}]}, {\"label\": [\"SOCIAL SECURITY NO\"], \"points\": [{\"start\": 3301, \"end\": 3310, \"text\": \"539236318\"}]}, {\"label\": [\"RELATIONSHIP NO.\"], \"points\": [{\"start\": 3020, \"end\": 3028, \"text\": \"335-4587\"}]}, {\"label\": [\"ACC NO\"], \"points\": [{\"start\": 2586, \"end\": 2594, \"text\": \"22560564\"}]}, {\"label\": [\"ACC TYPE\"], \"points\": [{\"start\": 1682, \"end\": 1685, \"text\": \"IRA\"}]}, {\"label\": [\"ACC TYPE\"], \"points\": [{\"start\": 2631, \"end\": 2634, \"text\": \"IRA\"}]}, {\"label\": [\"ACC TYPE\"], \"points\": [{\"start\": 2697, \"end\": 2700, \"text\": \"IRA\"}]}, {\"label\": [\"PHONE\"], \"points\": [{\"start\": 2381, \"end\": 2395, \"text\": \"(541) 754-5879\"}]}, {\"label\": [\"CITY\"], \"points\": [{\"start\": 2344, \"end\": 2355, \"text\": \"Los Angeles\"}]}, {\"label\": [\"CITY\"], \"points\": [{\"start\": 2505, \"end\": 2516, \"text\": \"Los Angeles\"}]}, {\"label\": [\"EMAIL\"], \"points\": [{\"start\": 3642, \"end\": 3656, \"text\": \"Rose@gmail.com\"}]}]}',\n",
              " '{\"content\": \"DTC8862\\\\nACATO671\\\\n\\\\nClient Account Transfer Form\\\\n\\\\nUse this form to transfer all or a portion of your account from\\\\nanother financial institution to your Merrill Lynch, Pierce, Fenner &\\\\nSmith Incorporated (\\\\u201cMerrill Lynch\\\\u201d) account.\\\\n\\\\nMERRILL box\\\\n\\\\nA BANK OF AMERICA COMPANY\\\\n\\\\nFor best results, please complete the information requested below in parts 1 to 4 using ALL CAPITAL letters and\\\\nblack ink. If you need more room for information or signatures, use a copy of the relevant page or a blank sheet. Use\\\\none form for each account that you\\'re transferring.\\\\n\\\\nThings to know before you begin:\\\\n\\\\nMany firms transfer assets using an automated transfer process, which typically takes 5 to 6 business days. Other\\\\nfirms either don\\\\u2019t use the automated process or must process some assets manually, which takes more time. The\\\\nfollowing estimated time frames for manual transfers are from the date of receipt of instructions by the delivering\\\\nfirm and may vary greatly:\\\\n\\\\u2014 Equities, bonds and options, approximately 15 business days\\\\n\\\\u2014 Restricted securities, approximately 15 to 20 business days\\\\n\\\\u2014 Mutual funds, up to 30 business days\\\\n\\\\u2014 Foreign securities, 4 to 6 weeks\\\\n\\\\nNote: Annuities are not transferred using this form. Please use the Merrill Lynch Annuity Transfer Form.\\\\n\\\\nRemember to update any automatic deposits or withdrawals you\\'ve set up on the account you\\'re transferring to\\\\nMerrill Lynch\\\\n\\\\nSome transfers may result in tax consequences, penalties or financial risk. Consult your tax and financial\\\\nprofessionals before requesting this transfer.\\\\n\\\\nIf you\\'re rolling over assets from a 401(k) or other employer-sponsored plan, consider all of your choices. You may\\\\n\\\\nbe able to roll over to an IRA, roll over an old 401(k) to a 401(k) at a new employer, take a distribution or leave the\\\\naccount where it is, depending on your unique financial needs and retirement goals. Each choice may offer different\\\\nbenefits and limitations including investment options and services, fees and expenses, withdrawal options, required\\\\nminimum distributions, tax treatment and protection from creditors and legal judgments. Additionally, there are\\\\nlimits to how often and when you can roll over your account. Please contact your 401(k) or other employer-sponsored\\\\nplan administrator for help with the transfer.\\\\n\\\\n \\\\n\\\\nPart 1\\\\nWhere your account\\\\nis now\\\\n\\\\nAttach all pages\\\\n\\\\n \\\\n \\\\n  \\\\n \\\\n\\\\nrecent\\\\n\\\\naccount to\\\\n\\\\nany delays.\\\\n\\\\nFIRM NAME\\\\nEagle Asset Management\\\\n\\\\nFIRM PHONE\\\\n\\\\n\\' (541) 754-3010\\\\n\\\\nFIRM ADDRESS CITY, STATE, ZIP\\\\n1345 6th Ave \\' New York, NY,10105\\\\n\\\\nACCOUNTNUMBERSSSS\\\\u2122S~CS ACCOUNTTITLE =SSS\\\\u2122S~CS~s\\\\u2018\\\\u201c\\\\u2014s*S*~*~*~*~<S~S~S~S~S\\\\n66654445 \\\\u2018Robert N Sanford\\\\n\\\\nSOCIAL SECURITY NUMBER (If used for tax reporting)\\\\nIRA \\\\u2018402115260\\\\n\\\\nAccount holders (individual accounts) or authorized signers (for business, trust, estate, etc.)\\\\nList all names exactly as they appear on this account.\\\\n\\\\nCONTACT NAME\\\\n| Lynne M Palmer\\\\n\\\\n \\\\n\\\\n \\\\n\\\\n \\\\n\\\\nPart 2\\\\n\\\\nMerrill Lynch account\\\\nreceiving your\\\\ntransferred assets\\\\n\\\\nThis can include a\\\\n\\\\nM,\\\\n\\\\n   \\\\n\\\\nLynch account\\\\n\\\\n \\\\n\\\\n  \\\\n\\\\nvh\\\\nfiduciary services\\\\nfrom U.S. Trust.\\\\n\\\\nlich you receive\\\\n\\\\nCODE 1566 MLPFS - 03/2018\\\\n\\\\nMERRILL LYNCH ACCOUNT NUMBER\\\\n335-5545 CMA\\\\nACCOUNT TITLE (Here at Merrill Lynch)\\\\nRobert N Sanford\\\\nSOCIAL SECURITY NUMBER ([If used for tax reporting)\\\\n\\\\n402115260\\\\n\\\\nAccount holders (individual accounts) or authorized signers (for business, trust, estate, etc.)\\\\nList all names exactly as they appear on this account. This account must have at least one owner in common with\\\\nyour transferring account, otherwise this process will be delayed.\\\\n\\\\n \\\\n\\\\n \\\\n\\\\nDAYTIME PHONE\\\\n(554) 754-3055\\\\n\\\\nEVENING PHONE\\\\ni : Robert@gmail.com\\\\n\\\\n \\\\n\\\\nBRANCH CONTACT NAME\\\\nNICK LANE\\\\n\\\\n \\\\n\\\\nNCH CONTACT NUMBER\\\\n1 866.848.6554\", \"annotation\": [{\"label\": [\"CATEGORY\"], \"points\": [{\"start\": 150, \"end\": 163, \"text\": \"Merrill Lynch\"}]}, {\"label\": [\"CATEGORY\"], \"points\": [{\"start\": 203, \"end\": 216, \"text\": \"Merrill Lynch\"}]}, {\"label\": [\"CATEGORY\"], \"points\": [{\"start\": 1220, \"end\": 1233, \"text\": \"Merrill Lynch\"}]}, {\"label\": [\"CATEGORY\"], \"points\": [{\"start\": 1367, \"end\": 1380, \"text\": \"Merrill Lynch\"}]}, {\"label\": [\"CATEGORY\"], \"points\": [{\"start\": 2876, \"end\": 2889, \"text\": \"Merrill Lynch\"}]}, {\"label\": [\"CATEGORY\"], \"points\": [{\"start\": 3134, \"end\": 3147, \"text\": \"Merrill Lynch\"}]}, {\"label\": [\"TITLE\"], \"points\": [{\"start\": 18, \"end\": 46, \"text\": \"Client Account Transfer Form\"}]}, {\"label\": [\"CLIENT\"], \"points\": [{\"start\": 2843, \"end\": 2857, \"text\": \"Lynne M Palmer\"}]}, {\"label\": [\"ADDRESS\"], \"points\": [{\"start\": 2474, \"end\": 2486, \"text\": \"1345 6th Ave\"}]}, {\"label\": [\"SOCIAL SECURITY NO\"], \"points\": [{\"start\": 2665, \"end\": 2674, \"text\": \"402115260\"}]}, {\"label\": [\"SOCIAL SECURITY NO\"], \"points\": [{\"start\": 3219, \"end\": 3228, \"text\": \"402115260\"}]}, {\"label\": [\"RELATIONSHIP NO.\"], \"points\": [{\"start\": 3098, \"end\": 3106, \"text\": \"335-5545\"}]}, {\"label\": [\"ACC NO\"], \"points\": [{\"start\": 2581, \"end\": 2589, \"text\": \"66654445\"}]}, {\"label\": [\"ACC TYPE\"], \"points\": [{\"start\": 1681, \"end\": 1684, \"text\": \"IRA\"}]}, {\"label\": [\"ACC TYPE\"], \"points\": [{\"start\": 2660, \"end\": 2663, \"text\": \"IRA\"}]}, {\"label\": [\"PHONE\"], \"points\": [{\"start\": 2428, \"end\": 2442, \"text\": \"(541) 754-3010\"}]}, {\"label\": [\"CITY\"], \"points\": [{\"start\": 2489, \"end\": 2497, \"text\": \"New York\"}]}, {\"label\": [\"EMAIL\"], \"points\": [{\"start\": 3560, \"end\": 3576, \"text\": \"Robert@gmail.com\"}]}]}',\n",
              " '{\"content\": \"ncaToe7 Client Account Transfer Form BS\\\\n\\\\nUse this form to transfer all or a portion of your account from MERRILL .\\\\n. Ce . . A BANK OF AMERICA COMPANY\\\\nanother financial institution to your Merrill Lynch, Pierce, Fenner &\\\\nSmith Incorporated (\\\\u201cMerrill Lynch\\\\u201d) account.\\\\nFor best results, please complete the information requested below in parts 1 to 4 using ALL CAPITAL letters and\\\\nblack ink. If you need more room for information or signatures, use a copy of the relevant page or a blank sheet. Use\\\\none form for each account that you\\'re transferring.\\\\nThings to know before you begin:\\\\nMany firms transfer assets using an automated transfer process, which typically takes 5 to 6 business days. Other\\\\nfirms either don\\\\u2019t use the automated process or must process some assets manually, which takes more time. The\\\\nfollowing estimated time frames for manual transfers are from the date of receipt of instructions by the delivering\\\\nfirm and may vary greatly:\\\\n\\\\u2014 Equities, bonds and options, approximately 15 business days\\\\n\\\\u2014 Restricted securities, approximately 15 to 20 business days\\\\n\\\\u2014 Mutual funds, up to 30 business days\\\\n\\\\u2014 Foreign securities, 4 to 6 weeks\\\\nNote: Annuities are not transferred using this form. Please use the Merrill Lynch Annuity Transfer Form.\\\\n\\\\nRemember to update any automatic deposits or withdrawals you\\'ve set up on the account you\\'re transferring to\\\\nMerrill Lynch\\\\nSome transfers may result in tax consequences, penalties or financial risk. Consult your tax and financial\\\\nprofessionals before requesting this transfer.\\\\nIf you\\'re rolling over assets from a 401(k) or other employer-sponsored plan, consider all of your choices. You may\\\\nbe able to roll over to an IRA, roll over an old 401(k) to a 401(k) at a new employer, take a distribution or leave the\\\\naccount where it is, depending on your unique financial needs and retirement goals. Each choice may offer different\\\\nbenefits and limitations including investment options and services, fees and expenses, withdrawal options, required\\\\nminimum distributions, tax treatment and protection from creditors and legal judgments. Additionally, there are\\\\nlimits to how often and when you can roll over your account. Please contact your 401(k) or other employer-sponsored\\\\nplan administrator for help with the transfer.\\\\n\\\\nPart 1 FIRM NAME FIRM PHONE CONTACT NAME\\\\n\\\\nWhere your account Brandes Investment Partners i (541) 754-3010 | Grace M Garcia\\\\n\\\\nis now FIRM ADDRESS CITY, STATE, ZIP\\\\nSearch Results 11988 El Camino Real #600 \\' San Diego, CA,92130\\\\n\\\\nAttach all pages ACCOUNTNUMBER SS ACCOUNTTITLE\\\\n\\\\n \\\\n\\\\nany delays.\\\\n\\\\nRobert E Regan\\\\n\\\\n\\\\u2018Robert E Regan\\\\nSOCIAL SECURITY NUMBER (If used for tax reporting)\\\\nIRA 1417414892\\\\n\\\\nAccount holders (individual accounts) or authorized signers (for business, trust, estate, etc.)\\\\nList all names exactly as they appear on this account.\\\\n\\\\n \\\\n\\\\nNAME 1 TITLE (If an authorized signer)\\\\nRobert E Regan \\'\\\\n\\\\n \\\\n\\\\nPart 2\\\\n\\\\nMerrill Lynch account\\\\nreceiving your\\\\ntransferred assets\\\\n\\\\nThis can include a\\\\n\\\\n    \\\\n\\\\nich you\\\\nfiduciary services\\\\nfrom U.S. Trust.\\\\n\\\\n \\\\n\\\\ni\\\\n\\\\nCODE 1566 MLPFS - 03/2018\\\\n\\\\nMERRILL LYNCH ACCOUNT NUMBER\\\\n335-0021 CMA\\\\n\\\\n \\\\n\\\\nO Roth O SEP O Other (Please specify)\\\\n\\\\n \\\\n\\\\nACCOUNT TITLE (Here at Merrill Lynch)\\\\nRobert E Regan\\\\n\\\\n  \\\\n \\\\n\\\\nSOCIAL SECURITY NUMBER ([If used for tax reporting)\\\\n417414892\\\\n\\\\nAccount holders (individual accounts) or authorized signers (for business, trust, estate, etc.)\\\\nList all names exactly as they appear on this account. This account must have at least one owner in common with\\\\nyour transferring account, otherwise this process will be delayed.\\\\n\\\\n \\\\n\\\\nDAYTIME PHONE\\\\n(541) 754-3222\\\\n\\\\nEVENING PHONE\\\\ni : Robert@gmail.com\\\\n\\\\n \\\\n\\\\nBRANCH CONTACT NAME\\\\nNICK LANE\\\\n\\\\n \\\\n\\\\nNCH CONTACT NUMBER\\\\n1 866.848.6554\", \"annotation\": [{\"label\": [\"CATEGORY\"], \"points\": [{\"start\": 188, \"end\": 201, \"text\": \"Merrill Lynch\"}]}, {\"label\": [\"CATEGORY\"], \"points\": [{\"start\": 241, \"end\": 254, \"text\": \"Merrill Lynch\"}]}, {\"label\": [\"CATEGORY\"], \"points\": [{\"start\": 1214, \"end\": 1227, \"text\": \"Merrill Lynch\"}]}, {\"label\": [\"CATEGORY\"], \"points\": [{\"start\": 1361, \"end\": 1374, \"text\": \"Merrill Lynch\"}]}, {\"label\": [\"CATEGORY\"], \"points\": [{\"start\": 2884, \"end\": 2897, \"text\": \"Merrill Lynch\"}]}, {\"label\": [\"CATEGORY\"], \"points\": [{\"start\": 3156, \"end\": 3169, \"text\": \"Merrill Lynch\"}]}, {\"label\": [\"TITLE\"], \"points\": [{\"start\": 8, \"end\": 36, \"text\": \"Client Account Transfer Form\"}]}, {\"label\": [\"ADDRESS\"], \"points\": [{\"start\": 2434, \"end\": 2474, \"text\": \"Search Results 11988 El Camino Real #600\"}]}, {\"label\": [\"SOCIAL SECURITY NO\"], \"points\": [{\"start\": 2650, \"end\": 2659, \"text\": \"417414892\"}]}, {\"label\": [\"SOCIAL SECURITY NO\"], \"points\": [{\"start\": 3245, \"end\": 3254, \"text\": \"417414892\"}]}, {\"label\": [\"RELATIONSHIP NO.\"], \"points\": [{\"start\": 3074, \"end\": 3082, \"text\": \"335-0021\"}]}, {\"label\": [\"ACC NO\"], \"points\": [{\"start\": 160, \"end\": 163, \"text\": \"nan\"}]}, {\"label\": [\"ACC NO\"], \"points\": [{\"start\": 1437, \"end\": 1440, \"text\": \"nan\"}]}, {\"label\": [\"ACC NO\"], \"points\": [{\"start\": 1474, \"end\": 1477, \"text\": \"nan\"}]}, {\"label\": [\"ACC NO\"], \"points\": [{\"start\": 1813, \"end\": 1816, \"text\": \"nan\"}]}, {\"label\": [\"ACC TYPE\"], \"points\": [{\"start\": 1672, \"end\": 1675, \"text\": \"IRA\"}]}, {\"label\": [\"ACC TYPE\"], \"points\": [{\"start\": 2645, \"end\": 2648, \"text\": \"IRA\"}]}, {\"label\": [\"PHONE\"], \"points\": [{\"start\": 2364, \"end\": 2378, \"text\": \"(541) 754-3010\"}]}, {\"label\": [\"CITY\"], \"points\": [{\"start\": 2477, \"end\": 2486, \"text\": \"San Diego\"}]}, {\"label\": [\"EMAIL\"], \"points\": [{\"start\": 3583, \"end\": 3599, \"text\": \"Robert@gmail.com\"}]}]}',\n",
              " '{\"content\": \"DTC8862 .\\\\nacaTOR Client Account Transfer Form GS\\\\nUse this form to transfer all or a portion of your account from MERRILL .\\\\n. . , A BANK OF AMERICA COMPANY\\\\nanother financial institution to your Merrill Lynch, Pierce, Fenner &\\\\nSmith Incorporated (\\\\u201cMerrill Lynch\\\\u201d) account.\\\\nFor best results, please complete the information requested below in parts 1 to 4 using ALL CAPITAL letters and\\\\nblack ink. If you need more room for information or signatures, use a copy of the relevant page or a blank sheet. Use\\\\none form for each account that you\\'re transferring.\\\\nThings to know before you begin:\\\\nMany firms transfer assets using an automated transfer process, which typically takes 5 to 6 business days. Other\\\\nfirms either don\\\\u2019t use the automated process or must process some assets manually, which takes more time. The\\\\nfollowing estimated time frames for manual transfers are from the date of receipt of instructions by the delivering\\\\nfirm and may vary greatly:\\\\n\\\\u2014 Equities, bonds and options, approximately 15 business days\\\\n\\\\u2014 Restricted securities, approximately 15 to 20 business days\\\\n\\\\u2014 Mutual funds, up to 30 business days\\\\n\\\\u2014 Foreign securities, 4 to 6 weeks\\\\nNote: Annuities are not transferred using this form. Please use the Merrill Lynch Annuity Transfer Form.\\\\nRemember to update any automatic deposits or withdrawals you\\'ve set up on the account you\\'re transferring to\\\\nMerrill Lynch\\\\nSome transfers may result in tax consequences, penalties or financial risk. Consult your tax and financial\\\\nprofessionals before requesting this transfer.\\\\nIf you\\'re rolling over assets from a 401(k) or other employer-sponsored plan, consider all of your choices. You may\\\\nbe able to roll over to an IRA, roll over an old 401(k) to a 401(k) at a new employer, take a distribution or leave the\\\\naccount where it is, depending on your unique financial needs and retirement goals. Each choice may offer different\\\\nbenefits and limitations including investment options and services, fees and expenses, withdrawal options, required\\\\nminimum distributions, tax treatment and protection from creditors and legal judgments. Additionally, there are\\\\nlimits to how often and when you can roll over your account. Please contact your 401(k) or other employer-sponsored\\\\nplan administrator for help with the transfer.\\\\nPart 1 FIRM NAME FIRM PHONE CONTACT NAME\\\\nWhere your account Adams Street Partners (541) 754-3888 : Jeanette B Hughes\\\\nis now FIRM ADDRESS CITY, STATE, ZIP\\\\n340 Madison AVG oo cccccveeeeeeeeeeeeeeccccecnneeeee iNew York, NYj1O173 nc cccccnnneeeeeeeeeee\\\\nAttach all pages ACCOUNT NUMBER ACCOUNT TITLE\\\\nrecent 79703212 \\\\u2018Richard K Kral\\\\n. ACCOUNT TYPE (RETAIL/IRA etc.) SOCIAL SECURITY NUMBER (If used for tax reporting)\\\\na \\\\u00b0 IRA 1344466775\\\\nany delays\\\\nAccount holders (individual accounts) or authorized signers (for business, trust, estate, etc.)\\\\nList all names exactly as they appear on this account.\\\\nNAMED ENTITLE (Ifn authorized signer) == SSSSS~S\\\\nRichard K Kral \\'\\\\nNAMEZ SSS TLE Ifa authorized signer) SSS\\\\nPart 2 MERRILL LYNCH ACCOUNT NUMBER ACCOUNT TYPE (Choose one)\\\\nMerrill Lynch account 335-2125 pene eeeeeeeeeeeeeeneeeees OCMA __OIRA weeeeeeenee R \\\\u2018oth EI SEP an O Other (Please specify) wee ee ee ene ne ee eee eeeeeee ee eeee\\\\nee ACCOUNT TITLE (Here at Merrill Lynch)\\\\nreceiving your Richard K Kral\\\\ntransferred assets\\\\nSOCIAL SECURITY NUMBER ([If used for tax reporting)\\\\n\\\\nThis can include a\\\\n\\\\nM,\\\\n\\\\n   \\\\n\\\\nint\\\\nich you receive\\\\n\\\\nLynch a\\\\n\\\\n \\\\n\\\\n  \\\\n\\\\nvh\\\\nfiduciary services\\\\nfrom U.S. Trust.\\\\n\\\\nCODE 1566 MLPFS - 03/2018\\\\n\\\\n \\\\n \\\\n\\\\n344466775\\\\n\\\\n  \\\\n\\\\nAccount holders (individual accounts) or authorized signers (for business, trust, estate, etc.)\\\\nList all names exactly as they appear on this account. This account must have at least one owner in common with\\\\nyour transferring account, otherwise this process will be delayed.\\\\n\\\\n \\\\n\\\\nDAYTIME PHONE\\\\n(541) 666-3888\\\\n\\\\nEVENING PHONE\\\\ni : Richard@gmail.com\\\\n\\\\n \\\\n\\\\nBRANCH CONTACT NAME\\\\nNICK LANE\\\\n\\\\n \\\\n\\\\nNCH CONTACT NUMBER\\\\n} 866.848.6554\", \"annotation\": [{\"label\": [\"CATEGORY\"], \"points\": [{\"start\": 193, \"end\": 206, \"text\": \"Merrill Lynch\"}]}, {\"label\": [\"CATEGORY\"], \"points\": [{\"start\": 246, \"end\": 259, \"text\": \"Merrill Lynch\"}]}, {\"label\": [\"CATEGORY\"], \"points\": [{\"start\": 1219, \"end\": 1232, \"text\": \"Merrill Lynch\"}]}, {\"label\": [\"CATEGORY\"], \"points\": [{\"start\": 1365, \"end\": 1378, \"text\": \"Merrill Lynch\"}]}, {\"label\": [\"CATEGORY\"], \"points\": [{\"start\": 3038, \"end\": 3051, \"text\": \"Merrill Lynch\"}]}, {\"label\": [\"CATEGORY\"], \"points\": [{\"start\": 3228, \"end\": 3241, \"text\": \"Merrill Lynch\"}]}, {\"label\": [\"TITLE\"], \"points\": [{\"start\": 17, \"end\": 45, \"text\": \"Client Account Transfer Form\"}]}, {\"label\": [\"CLIENT\"], \"points\": [{\"start\": 2375, \"end\": 2392, \"text\": \"Jeanette B Hughes\"}]}, {\"label\": [\"SOCIAL SECURITY NO\"], \"points\": [{\"start\": 2697, \"end\": 2706, \"text\": \"344466775\"}]}, {\"label\": [\"SOCIAL SECURITY NO\"], \"points\": [{\"start\": 3483, \"end\": 3492, \"text\": \"344466775\"}]}, {\"label\": [\"RELATIONSHIP NO.\"], \"points\": [{\"start\": 3060, \"end\": 3068, \"text\": \"335-2125\"}]}, {\"label\": [\"ACC NO\"], \"points\": [{\"start\": 2579, \"end\": 2587, \"text\": \"79703212\"}]}, {\"label\": [\"ACC TYPE\"], \"points\": [{\"start\": 1676, \"end\": 1679, \"text\": \"IRA\"}]}, {\"label\": [\"ACC TYPE\"], \"points\": [{\"start\": 2627, \"end\": 2630, \"text\": \"IRA\"}]}, {\"label\": [\"ACC TYPE\"], \"points\": [{\"start\": 2692, \"end\": 2695, \"text\": \"IRA\"}]}, {\"label\": [\"ACC TYPE\"], \"points\": [{\"start\": 3104, \"end\": 3107, \"text\": \"IRA\"}]}, {\"label\": [\"PHONE\"], \"points\": [{\"start\": 2358, \"end\": 2372, \"text\": \"(541) 754-3888\"}]}, {\"label\": [\"CITY\"], \"points\": [{\"start\": 2484, \"end\": 2492, \"text\": \"New York\"}]}, {\"label\": [\"EMAIL\"], \"points\": [{\"start\": 3825, \"end\": 3842, \"text\": \"Richard@gmail.com\"}]}]}',\n",
              " '{\"content\": \"DTC8862 :\\\\nacATOR Client Account Transfer Form GS\\\\nUse this form to transfer all or a portion of your account from MERRILL .\\\\n. re . , A BANK OF AMERICA COMPANY\\\\nanother financial institution to your Merrill Lynch, Pierce, Fenner &\\\\nSmith Incorporated (\\\\u201cMerrill Lynch\\\\u201d) account.\\\\nFor best results, please complete the information requested below in parts 1 to 4 using ALL CAPITAL letters and\\\\nblack ink. If you need more room for information or signatures, use a copy of the relevant page or a blank sheet. Use\\\\none form for each account that you\\'re transferring.\\\\nThings to know before you begin:\\\\nMany firms transfer assets using an automated transfer process, which typically takes 5 to 6 business days. Other\\\\nfirms either don\\\\u2019t use the automated process or must process some assets manually, which takes more time. The\\\\nfollowing estimated time frames for manual transfers are from the date of receipt of instructions by the delivering\\\\nfirm and may vary greatly:\\\\n\\\\u2014 Equities, bonds and options, approximately 15 business days\\\\n\\\\u2014 Restricted securities, approximately 15 to 20 business days\\\\n\\\\u2014 Mutual funds, up to 30 business days\\\\n\\\\u2014 Foreign securities, 4 to 6 weeks\\\\nNote: Annuities are not transferred using this form. Please use the Merrill Lynch Annuity Transfer Form.\\\\nRemember to update any automatic deposits or withdrawals you\\'ve set up on the account you\\'re transferring to\\\\nMerrill Lynch\\\\nSome transfers may result in tax consequences, penalties or financial risk. Consult your tax and financial\\\\nprofessionals before requesting this transfer.\\\\nIf you\\'re rolling over assets from a 401(k) or other employer-sponsored plan, consider all of your choices. You may\\\\nbe able to roll over to an IRA, roll over an old 401(k) to a 401(k) at a new employer, take a distribution or leave the\\\\naccount where it is, depending on your unique financial needs and retirement goals. Each choice may offer different\\\\nbenefits and limitations including investment options and services, fees and expenses, withdrawal options, required\\\\nminimum distributions, tax treatment and protection from creditors and legal judgments. Additionally, there are\\\\nlimits to how often and when you can roll over your account. Please contact your 401(k) or other employer-sponsored\\\\nplan administrator for help with the transfer.\\\\nPart 1 FIRM NAME FIRM PHONE CONTACT NAME\\\\nWhere your account Muzinich & Co i (541) 754-3022 | Grace P Lane\\\\nis now FIRM ADDRESS CITY, STATE, ZIP\\\\n450 Park Ave #08 oe eeeeeccccsneeeeeeeecnnneteeee iNew York, NYj10022 ne cccccceeeeeeeeeeee\\\\nAttach all pages ACCOUNT NUMBER ACCOUNT TITLE\\\\nof your most recent 66667894 | Peter E Trosper\\\\nstatemer ACCOUNT TYPE (RETAIL/IRA etc.) SOCIAL SECURITY NUMBER (If used for tax reporting)\\\\noo clove IRA 1593746465\\\\nany delays\\\\nAccount holders (individual accounts) or authorized signers (for business, trust, estate, etc.)\\\\nList all names exactly as they appear on this account.\\\\nNAMED EN\\'YITLE (Ifn authorized signer) == SSSSS~S\\\\nPeter E Trosper \\'\\\\nNAMEZ SSS TLE Ife authorized signer) SSS\\\\nPart 2 MERRILL LYNCH ACCOUNT NUMBER ACCOUNT TYPE (Choose one)\\\\nMerrill Lynch account 335-8978 penne ee eeeeeeeeeeee nee ees OCMA __OIRA weneeeeenee R \\\\u2018oth __. EI SEP an O Other (Please specify) wee ee ee eee ee ee eee eeeeeee ee eeee\\\\nee ACCOUNT TITLE (Here at Merrill Lynch)\\\\nreceiving your\\\\n\\\\ntransferred assets\\\\n\\\\nThis can include a\\\\n\\\\n \\\\n \\\\n\\\\nLynch account\\\\nich you receive\\\\nfiduciary services\\\\nfrom U.S. Trust.\\\\n\\\\nCODE 1566 MLPFS ~ 03/2018\\\\n\\\\nPeter E Trosper\\\\nSOCIAL SECURITY NUMBER ([If used for tax reporting)\\\\n593746465\\\\n\\\\n  \\\\n   \\\\n\\\\nAccount holders (individual accounts) or authorized signers (for business, trust, estate, etc.)\\\\nList all names exactly as they appear on this account. This account must have at least one owner in common with\\\\nyour transferring account, otherwise this process will be delayed.\\\\n\\\\n \\\\n\\\\nDAYTIME PHONE\\\\n(541) 754-3111\\\\n\\\\nEVENING PHONE\\\\ni } peter@gmail.com\\\\n\\\\n \\\\n\\\\nBRANCH CONTACT NAME\\\\nNICK LANE\\\\n\\\\n \\\\n\\\\nNCH CONTACT NUMBER\\\\n1 866.848.6554\", \"annotation\": [{\"label\": [\"CATEGORY\"], \"points\": [{\"start\": 196, \"end\": 209, \"text\": \"Merrill Lynch\"}]}, {\"label\": [\"CATEGORY\"], \"points\": [{\"start\": 249, \"end\": 262, \"text\": \"Merrill Lynch\"}]}, {\"label\": [\"CATEGORY\"], \"points\": [{\"start\": 1222, \"end\": 1235, \"text\": \"Merrill Lynch\"}]}, {\"label\": [\"CATEGORY\"], \"points\": [{\"start\": 1368, \"end\": 1381, \"text\": \"Merrill Lynch\"}]}, {\"label\": [\"CATEGORY\"], \"points\": [{\"start\": 3055, \"end\": 3068, \"text\": \"Merrill Lynch\"}]}, {\"label\": [\"CATEGORY\"], \"points\": [{\"start\": 3252, \"end\": 3265, \"text\": \"Merrill Lynch\"}]}, {\"label\": [\"TITLE\"], \"points\": [{\"start\": 17, \"end\": 45, \"text\": \"Client Account Transfer Form\"}]}, {\"label\": [\"CLIENT\"], \"points\": [{\"start\": 2372, \"end\": 2384, \"text\": \"Grace P Lane\"}]}, {\"label\": [\"SOCIAL SECURITY NO\"], \"points\": [{\"start\": 2712, \"end\": 2721, \"text\": \"593746465\"}]}, {\"label\": [\"SOCIAL SECURITY NO\"], \"points\": [{\"start\": 3490, \"end\": 3499, \"text\": \"593746465\"}]}, {\"label\": [\"RELATIONSHIP NO.\"], \"points\": [{\"start\": 3077, \"end\": 3085, \"text\": \"335-8978\"}]}, {\"label\": [\"ACC NO\"], \"points\": [{\"start\": 2580, \"end\": 2588, \"text\": \"66667894\"}]}, {\"label\": [\"ACC TYPE\"], \"points\": [{\"start\": 1679, \"end\": 1682, \"text\": \"IRA\"}]}, {\"label\": [\"ACC TYPE\"], \"points\": [{\"start\": 2637, \"end\": 2640, \"text\": \"IRA\"}]}, {\"label\": [\"ACC TYPE\"], \"points\": [{\"start\": 2707, \"end\": 2710, \"text\": \"IRA\"}]}, {\"label\": [\"ACC TYPE\"], \"points\": [{\"start\": 3124, \"end\": 3127, \"text\": \"IRA\"}]}, {\"label\": [\"PHONE\"], \"points\": [{\"start\": 2355, \"end\": 2369, \"text\": \"(541) 754-3022\"}]}, {\"label\": [\"CITY\"], \"points\": [{\"start\": 2473, \"end\": 2481, \"text\": \"New York\"}]}]}',\n",
              " '{\"content\": \"DTC8862 .\\\\nacaTO6 Client Account Transfer Form GS\\\\nUse this form to transfer all or a portion of your account from MERRILL .\\\\n. . . A BANK OF AMERICA COMPANY\\\\nanother financial institution to your Merrill Lynch, Pierce, Fenner &\\\\nSmith Incorporated (\\\\u201cMerrill Lynch\\\\u201d) account.\\\\nFor best results, please complete the information requested below in parts 1 to 4 using ALL CAPITAL letters and\\\\nblack ink. If you need more room for information or signatures, use a copy of the relevant page or a blank sheet. Use\\\\none form for each account that you\\'re transferring.\\\\nThings to know before you begin:\\\\nMany firms transfer assets using an automated transfer process, which typically takes 5 to 6 business days. Other\\\\nfirms either don\\\\u2019t use the automated process or must process some assets manually, which takes more time. The\\\\nfollowing estimated time frames for manual transfers are from the date of receipt of instructions by the delivering\\\\nfirm and may vary greatly:\\\\n\\\\u2014 Equities, bonds and options, approximately 15 business days\\\\n\\\\u2014 Restricted securities, approximately 15 to 20 business days\\\\n\\\\u2014 Mutual funds, up to 30 business days\\\\n\\\\u2014 Foreign securities, 4 to 6 weeks\\\\nNote: Annuities are not transferred using this form. Please use the Merrill Lynch Annuity Transfer Form.\\\\nRemember to update any automatic deposits or withdrawals you\\'ve set up on the account you\\'re transferring to\\\\nMerrill Lynch\\\\nSome transfers may result in tax consequences, penalties or financial risk. Consult your tax and financial\\\\nprofessionals before requesting this transfer.\\\\nIf you\\'re rolling over assets from a 401(k) or other employer-sponsored plan, consider all of your choices. You may\\\\nbe able to roll over to an IRA, roll over an old 401(k) to a 401(k) at a new employer, take a distribution or leave the\\\\naccount where it is, depending on your unique financial needs and retirement goals. Each choice may offer different\\\\nbenefits and limitations including investment options and services, fees and expenses, withdrawal options, required\\\\nminimum distributions, tax treatment and protection from creditors and legal judgments. Additionally, there are\\\\nlimits to how often and when you can roll over your account. Please contact your 401(k) or other employer-sponsored\\\\nplan administrator for help with the transfer.\\\\nPart 1 FIRM NAME FIRM PHONE CONTACT NAME\\\\nWhere your account BlueMountain Capital Management i (541) 754-1111 : Sabrina J McKenzie\\\\nis now FIRM ADDRESS CITY, STATE, ZIP\\\\nSearch Results 280 Park Ave 12th Floor iNew York, NYj1OOU 7 cc ccceeeeeeeeeeee\\\\nAttach all pages ACCOUNT NUMBER ACCOUNT TITLE\\\\nrecent 60610454 : Allan A Cook\\\\n. ACCOUNT TYPE (RETAIL/IRA etc.) SOCIAL SECURITY NUMBER (If used for tax reporting)\\\\notc IRA 1353752495\\\\nany delays\\\\nAccount holders (individual accounts) or authorized signers (for business, trust, estate, etc.)\\\\nList all names exactly as they appear on this account.\\\\nNAMED ENTITLE (Ifen authorized signer) = ===SSSSSS~S\\\\nAllan A Cook \\'\\\\nNAMES TLE Ife cuthorized signer) SSS\\\\nPart 2 MERRILL LYNCH ACCOUNT NUMBER ACCOUNT TYPE (Choose one)\\\\nMerrill Lynch account 335-0212 penne ee eeeneeeeeeee nee ee OCMA __OIRA weeeeeeenee R \\\\u2018oth __. EI SEP an O Other (Please specify) wee ee ee ene ne ee eee eeeeeee ee eeee\\\\nee ACCOUNT TITLE (Here at Merrill Lynch)\\\\nreceiving your \\\\u2018Allan A Cook\\\\ntransferred assets\\\\nSOCIAL SECURITY NUMBER (If used for tax reporting)\\\\n\\\\nThis can include a\\\\n\\\\nM,\\\\n\\\\n   \\\\n\\\\nint\\\\nich you receive\\\\n\\\\nLynch a\\\\n\\\\n \\\\n\\\\n  \\\\n\\\\nvh\\\\nfiduciary services\\\\nfrom U.S. Trust.\\\\n\\\\nCODE 1566 MLPFS - 03/2018\\\\n\\\\n \\\\n   \\\\n\\\\n353752495\\\\n\\\\nAccount holders (individual accounts) or authorized signers (for business, trust, estate, etc.)\\\\nList all names exactly as they appear on this account. This account must have at least one owner in common with\\\\nyour transferring account, otherwise this process will be delayed.\\\\n\\\\n \\\\n\\\\nDAYTIME PHONE\\\\n(541) 754-1221\\\\n\\\\nEVENING PHONE\\\\ni : Allan@gmail.com\\\\n\\\\n \\\\n\\\\nBRANCH CONTACT NAME\\\\nNICK LANE\\\\n\\\\n \\\\n\\\\nNCH CONTACT NUMBER\\\\n} 866.848.6554\", \"annotation\": [{\"label\": [\"CATEGORY\"], \"points\": [{\"start\": 193, \"end\": 206, \"text\": \"Merrill Lynch\"}]}, {\"label\": [\"CATEGORY\"], \"points\": [{\"start\": 246, \"end\": 259, \"text\": \"Merrill Lynch\"}]}, {\"label\": [\"CATEGORY\"], \"points\": [{\"start\": 1219, \"end\": 1232, \"text\": \"Merrill Lynch\"}]}, {\"label\": [\"CATEGORY\"], \"points\": [{\"start\": 1365, \"end\": 1378, \"text\": \"Merrill Lynch\"}]}, {\"label\": [\"CATEGORY\"], \"points\": [{\"start\": 3031, \"end\": 3044, \"text\": \"Merrill Lynch\"}]}, {\"label\": [\"CATEGORY\"], \"points\": [{\"start\": 3227, \"end\": 3240, \"text\": \"Merrill Lynch\"}]}, {\"label\": [\"TITLE\"], \"points\": [{\"start\": 17, \"end\": 45, \"text\": \"Client Account Transfer Form\"}]}, {\"label\": [\"CLIENT\"], \"points\": [{\"start\": 2387, \"end\": 2405, \"text\": \"Sabrina J McKenzie\"}]}, {\"label\": [\"ADDRESS\"], \"points\": [{\"start\": 2443, \"end\": 2481, \"text\": \"Search Results 280 Park Ave 12th Floor\"}]}, {\"label\": [\"SOCIAL SECURITY NO\"], \"points\": [{\"start\": 2692, \"end\": 2701, \"text\": \"353752495\"}]}, {\"label\": [\"SOCIAL SECURITY NO\"], \"points\": [{\"start\": 3482, \"end\": 3491, \"text\": \"353752495\"}]}, {\"label\": [\"RELATIONSHIP NO.\"], \"points\": [{\"start\": 3053, \"end\": 3061, \"text\": \"335-0212\"}]}, {\"label\": [\"ACC NO\"], \"points\": [{\"start\": 2575, \"end\": 2583, \"text\": \"60610454\"}]}, {\"label\": [\"ACC TYPE\"], \"points\": [{\"start\": 1676, \"end\": 1679, \"text\": \"IRA\"}]}, {\"label\": [\"ACC TYPE\"], \"points\": [{\"start\": 2622, \"end\": 2625, \"text\": \"IRA\"}]}, {\"label\": [\"ACC TYPE\"], \"points\": [{\"start\": 2687, \"end\": 2690, \"text\": \"IRA\"}]}, {\"label\": [\"ACC TYPE\"], \"points\": [{\"start\": 3099, \"end\": 3102, \"text\": \"IRA\"}]}, {\"label\": [\"PHONE\"], \"points\": [{\"start\": 2370, \"end\": 2384, \"text\": \"(541) 754-1111\"}]}, {\"label\": [\"CITY\"], \"points\": [{\"start\": 2483, \"end\": 2491, \"text\": \"New York\"}]}, {\"label\": [\"EMAIL\"], \"points\": [{\"start\": 3820, \"end\": 3835, \"text\": \"Allan@gmail.com\"}]}]}',\n",
              " '{\"content\": \"DTC8862 .\\\\nacaTO6 Client Account Transfer Form GS\\\\nUse this form to transfer all or a portion of your account from MERRILL .\\\\n. . . A BANK OF AMERICA COMPANY\\\\nanother financial institution to your Merrill Lynch, Pierce, Fenner &\\\\nSmith Incorporated (\\\\u201cMerrill Lynch\\\\u201d) account.\\\\nFor best results, please complete the information requested below in parts 1 to 4 using ALL CAPITAL letters and\\\\nblack ink. If you need more room for information or signatures, use a copy of the relevant page or a blank sheet. Use\\\\none form for each account that you\\'re transferring.\\\\nThings to know before you begin:\\\\nMany firms transfer assets using an automated transfer process, which typically takes 5 to 6 business days. Other\\\\nfirms either don\\\\u2019t use the automated process or must process some assets manually, which takes more time. The\\\\nfollowing estimated time frames for manual transfers are from the date of receipt of instructions by the delivering\\\\nfirm and may vary greatly:\\\\n\\\\u2014 Equities, bonds and options, approximately 15 business days\\\\n\\\\u2014 Restricted securities, approximately 15 to 20 business days\\\\n\\\\u2014 Mutual funds, up to 30 business days\\\\n\\\\u2014 Foreign securities, 4 to 6 weeks\\\\nNote: Annuities are not transferred using this form. Please use the Merrill Lynch Annuity Transfer Form.\\\\nRemember to update any automatic deposits or withdrawals you\\'ve set up on the account you\\'re transferring to\\\\nMerrill Lynch\\\\nSome transfers may result in tax consequences, penalties or financial risk. Consult your tax and financial\\\\nprofessionals before requesting this transfer.\\\\nIf you\\'re rolling over assets from a 401(k) or other employer-sponsored plan, consider all of your choices. You may\\\\nbe able to roll over to an IRA, roll over an old 401(k) to a 401(k) at a new employer, take a distribution or leave the\\\\naccount where it is, depending on your unique financial needs and retirement goals. Each choice may offer different\\\\nbenefits and limitations including investment options and services, fees and expenses, withdrawal options, required\\\\nminimum distributions, tax treatment and protection from creditors and legal judgments. Additionally, there are\\\\nlimits to how often and when you can roll over your account. Please contact your 401(k) or other employer-sponsored\\\\nplan administrator for help with the transfer.\\\\nPart 1 FIRM NAME FIRM PHONE CONTACT NAME\\\\nWhere your account BlueMountain Capital Management i (541) 754-1111 : Sabrina J McKenzie\\\\nis now FIRM ADDRESS CITY, STATE, ZIP\\\\nSearch Results 280 Park Ave 12th Floor iNew York, NYj1OOU 7 cc ccceeeeeeeeeeee\\\\nAttach all pages ACCOUNT NUMBER ACCOUNT TITLE\\\\nrecent 60610454 : Allan A Cook\\\\n. ACCOUNT TYPE (RETAIL/IRA etc.) SOCIAL SECURITY NUMBER (If used for tax reporting)\\\\notc IRA 1353752495\\\\nany delays\\\\nAccount holders (individual accounts) or authorized signers (for business, trust, estate, etc.)\\\\nList all names exactly as they appear on this account.\\\\nNAMED ENTITLE (Ifen authorized signer) = ===SSSSSS~S\\\\nAllan A Cook \\'\\\\nNAMES TLE Ife cuthorized signer) SSS\\\\nPart 2 MERRILL LYNCH ACCOUNT NUMBER ACCOUNT TYPE (Choose one)\\\\nMerrill Lynch account 335-0212 penne ee eeeneeeeeeee nee ee OCMA __OIRA weeeeeeenee R \\\\u2018oth __. EI SEP an O Other (Please specify) wee ee ee ene ne ee eee eeeeeee ee eeee\\\\nee ACCOUNT TITLE (Here at Merrill Lynch)\\\\nreceiving your \\\\u2018Allan A Cook\\\\ntransferred assets\\\\nSOCIAL SECURITY NUMBER (If used for tax reporting)\\\\n\\\\nThis can include a\\\\n\\\\nM,\\\\n\\\\n   \\\\n\\\\nint\\\\nich you receive\\\\n\\\\nLynch a\\\\n\\\\n \\\\n\\\\n  \\\\n\\\\nvh\\\\nfiduciary services\\\\nfrom U.S. Trust.\\\\n\\\\nCODE 1566 MLPFS - 03/2018\\\\n\\\\n \\\\n   \\\\n\\\\n353752495\\\\n\\\\nAccount holders (individual accounts) or authorized signers (for business, trust, estate, etc.)\\\\nList all names exactly as they appear on this account. This account must have at least one owner in common with\\\\nyour transferring account, otherwise this process will be delayed.\\\\n\\\\n \\\\n\\\\nDAYTIME PHONE\\\\n(541) 754-1221\\\\n\\\\nEVENING PHONE\\\\ni : Allan@gmail.com\\\\n\\\\n \\\\n\\\\nBRANCH CONTACT NAME\\\\nNICK LANE\\\\n\\\\n \\\\n\\\\nNCH CONTACT NUMBER\\\\n} 866.848.6554\", \"annotation\": []}',\n",
              " '{\"content\": \"DTC8862 .\\\\n\\\\nacaTOR Client Account Transfer Form GS\\\\nUse this form to transfer all or a portion of your account from MERRILL .\\\\n\\\\n. rn . , A BANK OF AMERICA COMPANY\\\\nanother financial institution to your Merrill Lynch, Pierce, Fenner &\\\\nSmith Incorporated (\\\\u201cMerrill Lynch\\\\u201d) account.\\\\nFor best results, please complete the information requested below in parts 1 to 4 using ALL CAPITAL letters and\\\\nblack ink. If you need more room for information or signatures, use a copy of the relevant page or a blank sheet. Use\\\\none form for each account that you\\'re transferring.\\\\nThings to know before you begin:\\\\nMany firms transfer assets using an automated transfer process, which typically takes 5 to 6 business days. Other\\\\nfirms either don\\\\u2019t use the automated process or must process some assets manually, which takes more time. The\\\\nfollowing estimated time frames for manual transfers are from the date of receipt of instructions by the delivering\\\\nfirm and may vary greatly:\\\\n\\\\u2014 Equities, bonds and options, approximately 15 business days\\\\n\\\\u2014 Restricted securities, approximately 15 to 20 business days\\\\n\\\\u2014 Mutual funds, up to 30 business days\\\\n\\\\u2014 Foreign securities, 4 to 6 weeks\\\\nNote: Annuities are not transferred using this form. Please use the Merrill Lynch Annuity Transfer Form.\\\\n\\\\nRemember to update any automatic deposits or withdrawals you\\'ve set up on the account you\\'re transferring to\\\\nMerrill Lynch\\\\nSome transfers may result in tax consequences, penalties or financial risk. Consult your tax and financial\\\\nprofessionals before requesting this transfer.\\\\nIf you\\'re rolling over assets from a 401(k) or other employer-sponsored plan, consider all of your choices. You may\\\\nbe able to roll over to an IRA, roll over an old 401(k) to a 401(k) at a new employer, take a distribution or leave the\\\\naccount where it is, depending on your unique financial needs and retirement goals. Each choice may offer different\\\\nbenefits and limitations including investment options and services, fees and expenses, withdrawal options, required\\\\nminimum distributions, tax treatment and protection from creditors and legal judgments. Additionally, there are\\\\nlimits to how often and when you can roll over your account. Please contact your 401(k) or other employer-sponsored\\\\nplan administrator for help with the transfer.\\\\n\\\\nPart 1 FIRM NAME FIRM PHONE CONTACT NAME\\\\n\\\\nWhere your account AEW Capital i (541) 754-2545 : Daniel C Paul\\\\n\\\\nis now FIRM ADDRESS CITY, STATE, ZIP\\\\n2 Seaport ee ecceeeesonneeeeeeessssneeeeesseennnes | Boston, MA02210 nc eccccccnneeeneeeee\\\\n\\\\nAttach all pages ACCOUNT NUMBER ACCOUNT TITLE\\\\n\\\\nof your most recent 89101454 : Adrian T Clemens\\\\n\\\\nstatemer ACCOUNT TYPE (RETAIL/IRA etc.) SOCIAL SECURITY NUMBER (If used for tax reporting)\\\\n\\\\nne IRA 1545401875\\\\n\\\\nany delays\\\\nAccount holders (individual accounts) or authorized signers (for business, trust, estate, etc.)\\\\nList all names exactly as they appear on this account.\\\\nWagoneer aac aaa aca eee\\\\nAdrian T Clemens\\\\nWagener cence cence acne\\\\n\\\\nPart 2 MERRILL LYNCH ACCOUNT NUMBER ACCOUNT TYPE (Choose one)\\\\n\\\\nMerrill Lynch account 335-0012 OCMA\\\\n\\\\nee ACCOUNT TITLE (Here at Merrill Lynch)\\\\nreceiving your\\\\n\\\\ntransferred assets\\\\n\\\\nThis can include a\\\\n\\\\n \\\\n \\\\n\\\\nLynch account\\\\nich you receive\\\\nfiduciary services\\\\nfrom U.S. Trust.\\\\n\\\\nCODE 1566 MLPFS - 03/2018\\\\n\\\\nAdrian T Clemens\\\\nSOCIAL SECURITY NUMBER ([If used for tax reporting)\\\\n545401875\\\\n\\\\nAccount holders (individual accounts) or authorized signers (for business, trust, estate, etc.)\\\\nList all names exactly as they appear on this account. This account must have at least one owner in common with\\\\nyour transferring account, otherwise this process will be delayed.\\\\n\\\\n \\\\n\\\\n \\\\n\\\\nDAYTIME PHONE\\\\n(541) 754-3254\\\\n\\\\nEVENING PHONE\\\\ni : Adrian@gmail.com\\\\n\\\\n \\\\n\\\\nBRANCH CONTACT NAME\\\\nNICK LANE\\\\n\\\\n \\\\n\\\\nNCH CONTACT NUMBER\\\\n1 866.848.6554\", \"annotation\": [{\"label\": [\"CATEGORY\"], \"points\": [{\"start\": 198, \"end\": 211, \"text\": \"Merrill Lynch\"}]}, {\"label\": [\"CATEGORY\"], \"points\": [{\"start\": 251, \"end\": 264, \"text\": \"Merrill Lynch\"}]}, {\"label\": [\"CATEGORY\"], \"points\": [{\"start\": 1224, \"end\": 1237, \"text\": \"Merrill Lynch\"}]}, {\"label\": [\"CATEGORY\"], \"points\": [{\"start\": 1371, \"end\": 1384, \"text\": \"Merrill Lynch\"}]}, {\"label\": [\"CATEGORY\"], \"points\": [{\"start\": 3019, \"end\": 3032, \"text\": \"Merrill Lynch\"}]}, {\"label\": [\"CATEGORY\"], \"points\": [{\"start\": 3082, \"end\": 3095, \"text\": \"Merrill Lynch\"}]}, {\"label\": [\"TITLE\"], \"points\": [{\"start\": 18, \"end\": 46, \"text\": \"Client Account Transfer Form\"}]}, {\"label\": [\"CLIENT\"], \"points\": [{\"start\": 2375, \"end\": 2388, \"text\": \"Daniel C Paul\"}]}, {\"label\": [\"SOCIAL SECURITY NO\"], \"points\": [{\"start\": 2715, \"end\": 2724, \"text\": \"545401875\"}]}, {\"label\": [\"SOCIAL SECURITY NO\"], \"points\": [{\"start\": 3321, \"end\": 3330, \"text\": \"545401875\"}]}, {\"label\": [\"RELATIONSHIP NO.\"], \"points\": [{\"start\": 3041, \"end\": 3049, \"text\": \"335-0012\"}]}, {\"label\": [\"ACC NO\"], \"points\": [{\"start\": 2586, \"end\": 2594, \"text\": \"89101454\"}]}, {\"label\": [\"ACC TYPE\"], \"points\": [{\"start\": 1682, \"end\": 1685, \"text\": \"IRA\"}]}, {\"label\": [\"ACC TYPE\"], \"points\": [{\"start\": 2645, \"end\": 2648, \"text\": \"IRA\"}]}, {\"label\": [\"ACC TYPE\"], \"points\": [{\"start\": 2710, \"end\": 2713, \"text\": \"IRA\"}]}, {\"label\": [\"PHONE\"], \"points\": [{\"start\": 2358, \"end\": 2372, \"text\": \"(541) 754-2545\"}]}, {\"label\": [\"CITY\"], \"points\": [{\"start\": 2480, \"end\": 2486, \"text\": \"Boston\"}]}, {\"label\": [\"EMAIL\"], \"points\": [{\"start\": 3662, \"end\": 3678, \"text\": \"Adrian@gmail.com\"}]}]}']"
            ]
          },
          "metadata": {
            "tags": []
          },
          "execution_count": 18
        }
      ]
    },
    {
      "cell_type": "code",
      "metadata": {
        "id": "eN2b5NamSobU",
        "colab_type": "code",
        "colab": {}
      },
      "source": [
        "os.chdir(\"/content/drive/My Drive/DOC-NER/\")\n",
        "with open('testfile.txt', 'w') as filehandle:\n",
        "  for category, tagtext in png_doc_dict.items():\n",
        "    if len(tagtext) != 0:\n",
        "      for listitem in tagtext:\n",
        "        filehandle.write('%s\\n' % listitem)\n",
        "  for category, tagtext in pdf_doc_dict.items():\n",
        "    if len(tagtext) != 0:\n",
        "      for listitem in tagtext:\n",
        "        filehandle.write('%s\\n' % listitem)        "
      ],
      "execution_count": 0,
      "outputs": []
    },
    {
      "cell_type": "markdown",
      "metadata": {
        "id": "ZKEe6hAvW05R",
        "colab_type": "text"
      },
      "source": [
        "# Model"
      ]
    },
    {
      "cell_type": "code",
      "metadata": {
        "id": "psPaxsM0Thel",
        "colab_type": "code",
        "colab": {}
      },
      "source": [
        "\n",
        "import json\n",
        "import random\n",
        "import logging\n",
        "from sklearn.metrics import classification_report\n",
        "from sklearn.metrics import precision_recall_fscore_support\n",
        "from spacy.gold import GoldParse\n",
        "from spacy.scorer import Scorer\n",
        "from sklearn.metrics import accuracy_score\n",
        "def convert_dataturks_to_spacy(dataturks_JSON_FilePath):\n",
        "    try:\n",
        "        training_data = []\n",
        "        lines=[]\n",
        "        with open(dataturks_JSON_FilePath, 'r') as f:\n",
        "            lines = f.readlines()\n",
        "\n",
        "        for line in lines:\n",
        "            data = json.loads(line)\n",
        "            text = data['content']\n",
        "            entities = []\n",
        "            for annotation in data['annotation']:\n",
        "                point = annotation['points'][0]\n",
        "                labels = annotation['label']\n",
        "                if not isinstance(labels, list):\n",
        "                    labels = [labels]\n",
        "\n",
        "                for label in labels:\n",
        "                    entities.append((point['start'], point['end'] + 1 ,label))\n",
        "\n",
        "\n",
        "            training_data.append((text, {\"entities\" : entities}))\n",
        "\n",
        "        return training_data\n",
        "    except Exception as e:\n",
        "        logging.exception(\"Unable to process \" + dataturks_JSON_FilePath + \"\\n\" + \"error = \" + str(e))\n",
        "        return None\n"
      ],
      "execution_count": 0,
      "outputs": []
    },
    {
      "cell_type": "code",
      "metadata": {
        "id": "UIR5s8sZQSMs",
        "colab_type": "code",
        "outputId": "7755eda4-4b0b-41c0-b24f-613da543954e",
        "colab": {
          "base_uri": "https://localhost:8080/",
          "height": 353
        }
      },
      "source": [
        "\n",
        "import spacy\n",
        "def train_spacy():\n",
        "\n",
        "    TRAIN_DATA = convert_dataturks_to_spacy(\"/content/drive/My Drive/DOC-NER/train.txt\")\n",
        "    nlp = spacy.blank('en')  \n",
        "    if 'ner' not in nlp.pipe_names:\n",
        "        ner = nlp.create_pipe('ner')\n",
        "        nlp.add_pipe(ner, last=True)\n",
        "       \n",
        "\n",
        "    for _, annotations in TRAIN_DATA:\n",
        "         for ent in annotations.get('entities'):\n",
        "            ner.add_label(ent[2])\n",
        "\n",
        "    other_pipes = [pipe for pipe in nlp.pipe_names if pipe != 'ner']\n",
        "    with nlp.disable_pipes(*other_pipes):  \n",
        "        optimizer = nlp.begin_training()\n",
        "        for itn in range(10):\n",
        "            print(\"Statring iteration \" + str(itn))\n",
        "            random.shuffle(TRAIN_DATA)\n",
        "            losses = {}\n",
        "            for text, annotations in TRAIN_DATA:\n",
        "                nlp.update(\n",
        "                    [text],  \n",
        "                    [annotations],  \n",
        "                    drop=0.2,  \n",
        "                    sgd=optimizer,  \n",
        "                    losses=losses)\n",
        "            print(losses)\n",
        "    return nlp\n",
        "\n",
        "nlp = train_spacy()"
      ],
      "execution_count": 21,
      "outputs": [
        {
          "output_type": "stream",
          "text": [
            "Statring iteration 0\n",
            "{'ner': 26413.56943010138}\n",
            "Statring iteration 1\n",
            "{'ner': 1478.9695093278608}\n",
            "Statring iteration 2\n",
            "{'ner': 608.0166992206741}\n",
            "Statring iteration 3\n",
            "{'ner': 401.16371179629135}\n",
            "Statring iteration 4\n",
            "{'ner': 174.06746845084083}\n",
            "Statring iteration 5\n",
            "{'ner': 280.2045127802031}\n",
            "Statring iteration 6\n",
            "{'ner': 133.61405469105938}\n",
            "Statring iteration 7\n",
            "{'ner': 74.07527980328359}\n",
            "Statring iteration 8\n",
            "{'ner': 112.31061971597391}\n",
            "Statring iteration 9\n",
            "{'ner': 69.18309214731642}\n"
          ],
          "name": "stdout"
        }
      ]
    },
    {
      "cell_type": "code",
      "metadata": {
        "id": "725KBOXRSPie",
        "colab_type": "code",
        "outputId": "df44e8c4-42c0-4fdc-9b5d-d38481ab834c",
        "colab": {
          "base_uri": "https://localhost:8080/",
          "height": 370
        }
      },
      "source": [
        "    examples = convert_dataturks_to_spacy(\"/content/drive/My Drive/DOC-NER/validate.txt\")\n",
        "    tp=0\n",
        "    tr=0\n",
        "    tf=0\n",
        "\n",
        "    ta=0\n",
        "    c=0        \n",
        "    for text,annot in examples:\n",
        "\n",
        "        f=open(\"doc\"+str(c)+\".txt\",\"w\")\n",
        "        doc_to_test=nlp(text)\n",
        "        \n",
        "        d={}\n",
        "        for ent in doc_to_test.ents:\n",
        "            d[ent.label_]=[]\n",
        "        for ent in doc_to_test.ents:\n",
        "            d[ent.label_].append(ent.text)\n",
        "\n",
        "        for i in set(d.keys()):\n",
        "            f.write(\"\\n\\n\")\n",
        "            f.write(i +\":\"+\"\\n\")\n",
        "            for j in set(d[i]):\n",
        "                f.write(j.replace('\\n','')+\"\\n\")\n",
        "        d={}\n",
        "        for ent in doc_to_test.ents:\n",
        "            d[ent.label_]=[0,0,0,0,0,0]\n",
        "        for ent in doc_to_test.ents:\n",
        "            doc_gold_text= nlp.make_doc(text)\n",
        "            gold = GoldParse(doc_gold_text, entities=annot.get(\"entities\"))\n",
        "            y_true = [ent.label_ if ent.label_ in x else 'Not '+ent.label_ for x in gold.ner]\n",
        "            y_pred = [x.ent_type_ if x.ent_type_ ==ent.label_ else 'Not '+ent.label_ for x in doc_to_test]  \n",
        "            if(d[ent.label_][0]==0):\n",
        "                \n",
        "                (p,r,f,s)= precision_recall_fscore_support(y_true,y_pred,average='weighted')\n",
        "                a=accuracy_score(y_true,y_pred)\n",
        "                d[ent.label_][0]=1\n",
        "                d[ent.label_][1]+=p\n",
        "                d[ent.label_][2]+=r\n",
        "                d[ent.label_][3]+=f\n",
        "                d[ent.label_][4]+=a\n",
        "                d[ent.label_][5]+=1\n",
        "        c+=1\n",
        "    \n",
        "    for i in d:\n",
        "        print(\"\\n For Entity \"+i+\"\\n\")\n",
        "        print(\"Accuracy : \"+str((d[i][4]/d[i][5])*100)+\"%\")\n",
        "        print(\"Precision : \"+str(d[i][1]/d[i][5]))\n",
        "        print(\"Recall : \"+str(d[i][2]/d[i][5]))\n",
        "        print(\"F-score : \"+str(d[i][3]/d[i][5]))"
      ],
      "execution_count": 22,
      "outputs": [
        {
          "output_type": "stream",
          "text": [
            "\n",
            " For Entity ACC TYPE\n",
            "\n",
            "Accuracy : 99.96575928779319%\n",
            "Precision : 0.9997554234842371\n",
            "Recall : 0.9996575928779319\n",
            "F-score : 0.9996860974639721\n",
            "\n",
            " For Entity CATEGORY\n",
            "\n",
            "Accuracy : 98.65319865319864%\n",
            "Precision : 0.9961056346598516\n",
            "Recall : 0.9865319865319865\n",
            "F-score : 0.9901992229391459\n",
            "\n",
            " For Entity TITLE\n",
            "\n",
            "Accuracy : 100.0%\n",
            "Precision : 1.0\n",
            "Recall : 1.0\n",
            "F-score : 1.0\n"
          ],
          "name": "stdout"
        }
      ]
    },
    {
      "cell_type": "code",
      "metadata": {
        "id": "Z8VClePzmrE0",
        "colab_type": "code",
        "colab": {
          "base_uri": "https://localhost:8080/",
          "height": 1000
        },
        "outputId": "4e428716-8210-4f79-de3c-3eaeb1c61abd"
      },
      "source": [
        "def predict(filepath,type,output_filename,nlp):\n",
        "        f=open(output_filename,\"w\")\n",
        "        doc_to_test=\"\"\n",
        "        if type=='pdf':\n",
        "          doc_to_test=nlp(pdf_core(filepath))\n",
        "        elif type=='png':\n",
        "          doc_to_test=nlp(ocr_core(filepath))\n",
        "        d={}\n",
        "        for ent in doc_to_test.ents:\n",
        "            d[ent.label_]=[]\n",
        "        for ent in doc_to_test.ents:\n",
        "            d[ent.label_].append(ent.text)\n",
        "\n",
        "        for i in set(d.keys()):\n",
        "            print(\"\\n\\n\")\n",
        "            print(i +\":\"+\"\\n\")\n",
        "            for j in set(d[i]):\n",
        "                print(j.replace('\\n','')+\"\\n\")\n",
        "\n",
        "predict('/content/drive/My Drive/DOC-NER/Schwab_IRA/Bobby_J_Cole_.pdf','pdf','predict.txt',nlp)"
      ],
      "execution_count": 33,
      "outputs": [
        {
          "output_type": "stream",
          "text": [
            "\n",
            "\n",
            "\n",
            "ACC TYPE:\n",
            "\n",
            "IRA     \n",
            "\n",
            "IRA)\n",
            "\n",
            "IRA.\n",
            "\n",
            "IRA;\n",
            "\n",
            "IRA to\n",
            "\n",
            "IRA\t\t\n",
            "\n",
            "IRAs\n",
            "\n",
            "\n",
            "\n",
            "\n",
            "TITLE:\n",
            "\n",
            "Account Application.\n",
            "\n",
            "\n",
            "\n",
            "\n",
            "CATEGORY:\n",
            "\n",
            "Schwab representatives\n",
            "\n",
            "Schwab and\n",
            "\n",
            "Schwab Advisor\n",
            "\n",
            "Schwab    \n",
            "\n",
            "Schwab deems\n",
            "\n",
            "Schwab:\n",
            "\n",
            "Schwab                            \n",
            "\n",
            "Schwab on\n",
            "\n",
            "Schwab reserves\n",
            "\n",
            "Schwab are\n",
            "\n",
            "Schwab Qualified\n",
            "\n",
            "Schwab is\n",
            "\n",
            "Schwab”\n",
            "\n",
            "Schwab (\n",
            "\n",
            "Schwab any\n",
            "\n",
            "Schwab)\n",
            "\n",
            "Schwab.\n",
            "\n",
            "Schwab research\n",
            "\n",
            "Schwab harmless\n",
            "\n",
            "Schwab                     \n",
            "\n",
            "Schwab account\n",
            "\n",
            "Schwab’s\n",
            "\n",
            "Schwab to\n",
            "\n",
            "Schwab 403(b)(7\n",
            "\n",
            "Schwab or\n",
            "\n",
            "Schwab changes\n",
            "\n",
            "Schwab fails\n",
            "\n",
            "Schwab,\n",
            "\n",
            "Schwab\n",
            "\n",
            "Schwab Corporation\n",
            "\n",
            "Schwab Traditional\n",
            "\n",
            "Schwab Bank\n",
            "\n",
            "Schwab based\n",
            "\n",
            "Schwab disclose\n",
            "\n",
            "Schwab site\n",
            "\n",
            "Schwab Individual\n",
            "\n",
            "Schwab One\n",
            "\n",
            "Schwab                                                         \n",
            "\n",
            "Schwab supplemental\n",
            "\n",
            "Schwab                         \n",
            "\n",
            "Schwab Alliance\n",
            "\n",
            "Schwab           \n",
            "\n",
            "Schwab may\n",
            "\n",
            "Schwab not\n",
            "\n",
            "Schwab IRA\n",
            "\n",
            "Schwab in\n",
            "\n",
            "Schwab can\n",
            "\n",
            "Schwab if\n",
            "\n",
            "Schwab has\n",
            "\n",
            "Schwab          \n",
            "\n",
            "Schwab                \n",
            "\n",
            "Schwab shall\n",
            "\n",
            "Schwab                                                                     \n",
            "\n",
            "Schwab makes\n",
            "\n",
            "Schwab;\n",
            "\n",
            "Schwab brokerage\n",
            "\n",
            "Schwab                                                             \n",
            "\n",
            "Schwab         \n",
            "\n"
          ],
          "name": "stdout"
        }
      ]
    },
    {
      "cell_type": "code",
      "metadata": {
        "id": "0DPLeV73pudl",
        "colab_type": "code",
        "colab": {
          "base_uri": "https://localhost:8080/",
          "height": 1000
        },
        "outputId": "a54a2b83-f183-46b5-de11-305094353f04"
      },
      "source": [
        "def predict(filepath,type,output_filename,nlp):\n",
        "        f=open(output_filename,\"w\")\n",
        "        doc_to_test=\"\"\n",
        "        if type=='pdf':\n",
        "          doc_to_test=nlp(pdf_core(filepath))\n",
        "        elif type=='png':\n",
        "          doc_to_test=nlp(ocr_core(filepath))\n",
        "        d={}\n",
        "        for ent in doc_to_test.ents:\n",
        "            d[ent.label_]=[]\n",
        "        for ent in doc_to_test.ents:\n",
        "            d[ent.label_].append(ent.text)\n",
        "\n",
        "        for i in set(d.keys()):\n",
        "            print(\"\\n\\n\")\n",
        "            print(i +\":\"+\"\\n\")\n",
        "            for j in set(d[i]):\n",
        "                print(j.replace('\\n','')+\"\\n\")\n",
        "\n",
        "predict('/content/drive/My Drive/DOC-NER/Schwab_IRA/Donna_E_Warren_.pdf','pdf','predict.txt',nlp)"
      ],
      "execution_count": 36,
      "outputs": [
        {
          "output_type": "stream",
          "text": [
            "\n",
            "\n",
            "\n",
            "ACC TYPE:\n",
            "\n",
            "IRA     \n",
            "\n",
            "IRA)\n",
            "\n",
            "IRA.\n",
            "\n",
            "IRA;\n",
            "\n",
            "IRA to\n",
            "\n",
            "IRA\t\t\n",
            "\n",
            "IRAs\n",
            "\n",
            "\n",
            "\n",
            "\n",
            "TITLE:\n",
            "\n",
            "Account Application.\n",
            "\n",
            "\n",
            "\n",
            "\n",
            "CATEGORY:\n",
            "\n",
            "Schwab representatives\n",
            "\n",
            "Schwab and\n",
            "\n",
            "Schwab Advisor\n",
            "\n",
            "Schwab    \n",
            "\n",
            "Schwab deems\n",
            "\n",
            "Schwab:\n",
            "\n",
            "Schwab                            \n",
            "\n",
            "Schwab on\n",
            "\n",
            "Schwab reserves\n",
            "\n",
            "Schwab are\n",
            "\n",
            "Schwab Qualified\n",
            "\n",
            "Schwab is\n",
            "\n",
            "Schwab”\n",
            "\n",
            "Schwab (\n",
            "\n",
            "Schwab any\n",
            "\n",
            "Schwab)\n",
            "\n",
            "Schwab.\n",
            "\n",
            "Schwab research\n",
            "\n",
            "Schwab harmless\n",
            "\n",
            "Schwab                     \n",
            "\n",
            "Schwab account\n",
            "\n",
            "Schwab’s\n",
            "\n",
            "Schwab to\n",
            "\n",
            "Schwab 403(b)(7\n",
            "\n",
            "Schwab or\n",
            "\n",
            "Schwab changes\n",
            "\n",
            "Schwab fails\n",
            "\n",
            "Schwab,\n",
            "\n",
            "Schwab\n",
            "\n",
            "Schwab Corporation\n",
            "\n",
            "Schwab Traditional\n",
            "\n",
            "Schwab Bank\n",
            "\n",
            "Schwab based\n",
            "\n",
            "Schwab disclose\n",
            "\n",
            "Schwab site\n",
            "\n",
            "Schwab Individual\n",
            "\n",
            "Schwab One\n",
            "\n",
            "Schwab                                                         \n",
            "\n",
            "Schwab supplemental\n",
            "\n",
            "Schwab                         \n",
            "\n",
            "Schwab Alliance\n",
            "\n",
            "Schwab           \n",
            "\n",
            "Schwab may\n",
            "\n",
            "Schwab not\n",
            "\n",
            "Schwab IRA\n",
            "\n",
            "Schwab in\n",
            "\n",
            "Schwab can\n",
            "\n",
            "Schwab if\n",
            "\n",
            "Schwab has\n",
            "\n",
            "Schwab          \n",
            "\n",
            "Schwab                \n",
            "\n",
            "Schwab shall\n",
            "\n",
            "Schwab                                                                     \n",
            "\n",
            "Schwab makes\n",
            "\n",
            "Schwab;\n",
            "\n",
            "Schwab brokerage\n",
            "\n",
            "Schwab                                                             \n",
            "\n",
            "Schwab         \n",
            "\n"
          ],
          "name": "stdout"
        }
      ]
    },
    {
      "cell_type": "code",
      "metadata": {
        "id": "n6gTU8S-zC0B",
        "colab_type": "code",
        "colab": {
          "base_uri": "https://localhost:8080/",
          "height": 756
        },
        "outputId": "25837f98-ef13-4bdb-b6e2-d5b7a13ef553"
      },
      "source": [
        "def predict(filepath,type,output_filename,nlp):\n",
        "        f=open(output_filename,\"w\")\n",
        "        doc_to_test=\"\"\n",
        "        if type=='pdf':\n",
        "          doc_to_test=nlp(pdf_core(filepath))\n",
        "        elif type=='png':\n",
        "          doc_to_test=nlp(ocr_core(filepath))\n",
        "        d={}\n",
        "        for ent in doc_to_test.ents:\n",
        "            d[ent.label_]=[]\n",
        "        for ent in doc_to_test.ents:\n",
        "            d[ent.label_].append(ent.text)\n",
        "\n",
        "        for i in set(d.keys()):\n",
        "            print(\"\\n\\n\")\n",
        "            print(i +\":\"+\"\\n\")\n",
        "            for j in set(d[i]):\n",
        "                print(j.replace('\\n','')+\"\\n\")\n",
        "\n",
        "predict('/content/drive/My Drive/DOC-NER/Merrilllynch_CRA/Candy T Lee.pdf','pdf','predict.txt',nlp)"
      ],
      "execution_count": 32,
      "outputs": [
        {
          "output_type": "stream",
          "text": [
            "\n",
            "\n",
            "\n",
            "CITY:\n",
            "\n",
            "Pasadena,\n",
            "\n",
            "\n",
            "\n",
            "\n",
            "ACC TYPE:\n",
            "\n",
            "IRA,\n",
            "\n",
            "IRA                                    \n",
            "\n",
            "\n",
            "\n",
            "\n",
            "CATEGORY:\n",
            "\n",
            "Merrill Lynch”\n",
            "\n",
            "Merrill Lynch)\n",
            "\n",
            "Merrill Lynch as\n",
            "\n",
            "Merrill Lynch,\n",
            "\n",
            "Merrill Lynch.\n",
            "\n",
            "Merrill Lynch account\n",
            "\n",
            "Merrill Lynch                            \n",
            "\n",
            "Merrill Lynch accepts\n",
            "\n",
            "\n",
            "\n",
            "\n",
            "SOCIAL SECURITY NO:\n",
            "\n",
            "204842467\n",
            "\n"
          ],
          "name": "stdout"
        }
      ]
    },
    {
      "cell_type": "code",
      "metadata": {
        "id": "OHBH66mo0UNy",
        "colab_type": "code",
        "colab": {}
      },
      "source": [
        ""
      ],
      "execution_count": 0,
      "outputs": []
    }
  ]
}