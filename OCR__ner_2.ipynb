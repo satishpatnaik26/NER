{
  "nbformat": 4,
  "nbformat_minor": 0,
  "metadata": {
    "colab": {
      "name": "OCR _ner 2.ipynb",
      "provenance": [],
      "collapsed_sections": [],
      "toc_visible": true
    },
    "kernelspec": {
      "name": "python3",
      "display_name": "Python 3"
    },
    "accelerator": "GPU"
  },
  "cells": [
    {
      "cell_type": "code",
      "metadata": {
        "id": "bOt6MQPvsDIW",
        "colab_type": "code",
        "outputId": "16267115-727b-4c58-a009-e8b820d1b178",
        "colab": {
          "base_uri": "https://localhost:8080/",
          "height": 373
        }
      },
      "source": [
        "!pip install -U spacy"
      ],
      "execution_count": 1,
      "outputs": [
        {
          "output_type": "stream",
          "text": [
            "Requirement already up-to-date: spacy in /usr/local/lib/python3.6/dist-packages (2.2.4)\n",
            "Requirement already satisfied, skipping upgrade: cymem<2.1.0,>=2.0.2 in /usr/local/lib/python3.6/dist-packages (from spacy) (2.0.3)\n",
            "Requirement already satisfied, skipping upgrade: murmurhash<1.1.0,>=0.28.0 in /usr/local/lib/python3.6/dist-packages (from spacy) (1.0.2)\n",
            "Requirement already satisfied, skipping upgrade: numpy>=1.15.0 in /usr/local/lib/python3.6/dist-packages (from spacy) (1.18.4)\n",
            "Requirement already satisfied, skipping upgrade: wasabi<1.1.0,>=0.4.0 in /usr/local/lib/python3.6/dist-packages (from spacy) (0.6.0)\n",
            "Requirement already satisfied, skipping upgrade: setuptools in /usr/local/lib/python3.6/dist-packages (from spacy) (46.3.0)\n",
            "Requirement already satisfied, skipping upgrade: srsly<1.1.0,>=1.0.2 in /usr/local/lib/python3.6/dist-packages (from spacy) (1.0.2)\n",
            "Requirement already satisfied, skipping upgrade: tqdm<5.0.0,>=4.38.0 in /usr/local/lib/python3.6/dist-packages (from spacy) (4.41.1)\n",
            "Requirement already satisfied, skipping upgrade: blis<0.5.0,>=0.4.0 in /usr/local/lib/python3.6/dist-packages (from spacy) (0.4.1)\n",
            "Requirement already satisfied, skipping upgrade: thinc==7.4.0 in /usr/local/lib/python3.6/dist-packages (from spacy) (7.4.0)\n",
            "Requirement already satisfied, skipping upgrade: catalogue<1.1.0,>=0.0.7 in /usr/local/lib/python3.6/dist-packages (from spacy) (1.0.0)\n",
            "Requirement already satisfied, skipping upgrade: preshed<3.1.0,>=3.0.2 in /usr/local/lib/python3.6/dist-packages (from spacy) (3.0.2)\n",
            "Requirement already satisfied, skipping upgrade: requests<3.0.0,>=2.13.0 in /usr/local/lib/python3.6/dist-packages (from spacy) (2.23.0)\n",
            "Requirement already satisfied, skipping upgrade: plac<1.2.0,>=0.9.6 in /usr/local/lib/python3.6/dist-packages (from spacy) (1.1.3)\n",
            "Requirement already satisfied, skipping upgrade: importlib-metadata>=0.20; python_version < \"3.8\" in /usr/local/lib/python3.6/dist-packages (from catalogue<1.1.0,>=0.0.7->spacy) (1.6.0)\n",
            "Requirement already satisfied, skipping upgrade: chardet<4,>=3.0.2 in /usr/local/lib/python3.6/dist-packages (from requests<3.0.0,>=2.13.0->spacy) (3.0.4)\n",
            "Requirement already satisfied, skipping upgrade: urllib3!=1.25.0,!=1.25.1,<1.26,>=1.21.1 in /usr/local/lib/python3.6/dist-packages (from requests<3.0.0,>=2.13.0->spacy) (1.24.3)\n",
            "Requirement already satisfied, skipping upgrade: idna<3,>=2.5 in /usr/local/lib/python3.6/dist-packages (from requests<3.0.0,>=2.13.0->spacy) (2.9)\n",
            "Requirement already satisfied, skipping upgrade: certifi>=2017.4.17 in /usr/local/lib/python3.6/dist-packages (from requests<3.0.0,>=2.13.0->spacy) (2020.4.5.1)\n",
            "Requirement already satisfied, skipping upgrade: zipp>=0.5 in /usr/local/lib/python3.6/dist-packages (from importlib-metadata>=0.20; python_version < \"3.8\"->catalogue<1.1.0,>=0.0.7->spacy) (3.1.0)\n"
          ],
          "name": "stdout"
        }
      ]
    },
    {
      "cell_type": "code",
      "metadata": {
        "id": "SDOmX7ILpWp-",
        "colab_type": "code",
        "outputId": "b317cb71-5f0a-45c2-fac7-46dc4b8429d2",
        "colab": {
          "base_uri": "https://localhost:8080/",
          "height": 491
        }
      },
      "source": [
        "# The google-cloud-vision package already installed in colab, no need to install.\n",
        "!pip install --upgrade google-cloud-vision"
      ],
      "execution_count": 2,
      "outputs": [
        {
          "output_type": "stream",
          "text": [
            "Collecting google-cloud-vision\n",
            "\u001b[?25l  Downloading https://files.pythonhosted.org/packages/0d/7f/e10d602c2dc3f749f1b78377a3357790f1da71b28e7da9e5bc20b3a9bd40/google_cloud_vision-1.0.0-py2.py3-none-any.whl (435kB)\n",
            "\r\u001b[K     |▊                               | 10kB 17.6MB/s eta 0:00:01\r\u001b[K     |█▌                              | 20kB 4.2MB/s eta 0:00:01\r\u001b[K     |██▎                             | 30kB 5.3MB/s eta 0:00:01\r\u001b[K     |███                             | 40kB 5.5MB/s eta 0:00:01\r\u001b[K     |███▊                            | 51kB 4.9MB/s eta 0:00:01\r\u001b[K     |████▌                           | 61kB 5.8MB/s eta 0:00:01\r\u001b[K     |█████▎                          | 71kB 6.4MB/s eta 0:00:01\r\u001b[K     |██████                          | 81kB 6.8MB/s eta 0:00:01\r\u001b[K     |██████▉                         | 92kB 6.9MB/s eta 0:00:01\r\u001b[K     |███████▌                        | 102kB 6.4MB/s eta 0:00:01\r\u001b[K     |████████▎                       | 112kB 6.4MB/s eta 0:00:01\r\u001b[K     |█████████                       | 122kB 6.4MB/s eta 0:00:01\r\u001b[K     |█████████▉                      | 133kB 6.4MB/s eta 0:00:01\r\u001b[K     |██████████▌                     | 143kB 6.4MB/s eta 0:00:01\r\u001b[K     |███████████▎                    | 153kB 6.4MB/s eta 0:00:01\r\u001b[K     |████████████                    | 163kB 6.4MB/s eta 0:00:01\r\u001b[K     |████████████▉                   | 174kB 6.4MB/s eta 0:00:01\r\u001b[K     |█████████████▋                  | 184kB 6.4MB/s eta 0:00:01\r\u001b[K     |██████████████▎                 | 194kB 6.4MB/s eta 0:00:01\r\u001b[K     |███████████████                 | 204kB 6.4MB/s eta 0:00:01\r\u001b[K     |███████████████▉                | 215kB 6.4MB/s eta 0:00:01\r\u001b[K     |████████████████▋               | 225kB 6.4MB/s eta 0:00:01\r\u001b[K     |█████████████████▎              | 235kB 6.4MB/s eta 0:00:01\r\u001b[K     |██████████████████              | 245kB 6.4MB/s eta 0:00:01\r\u001b[K     |██████████████████▉             | 256kB 6.4MB/s eta 0:00:01\r\u001b[K     |███████████████████▋            | 266kB 6.4MB/s eta 0:00:01\r\u001b[K     |████████████████████▍           | 276kB 6.4MB/s eta 0:00:01\r\u001b[K     |█████████████████████           | 286kB 6.4MB/s eta 0:00:01\r\u001b[K     |█████████████████████▉          | 296kB 6.4MB/s eta 0:00:01\r\u001b[K     |██████████████████████▋         | 307kB 6.4MB/s eta 0:00:01\r\u001b[K     |███████████████████████▍        | 317kB 6.4MB/s eta 0:00:01\r\u001b[K     |████████████████████████        | 327kB 6.4MB/s eta 0:00:01\r\u001b[K     |████████████████████████▉       | 337kB 6.4MB/s eta 0:00:01\r\u001b[K     |█████████████████████████▋      | 348kB 6.4MB/s eta 0:00:01\r\u001b[K     |██████████████████████████▍     | 358kB 6.4MB/s eta 0:00:01\r\u001b[K     |███████████████████████████▏    | 368kB 6.4MB/s eta 0:00:01\r\u001b[K     |███████████████████████████▉    | 378kB 6.4MB/s eta 0:00:01\r\u001b[K     |████████████████████████████▋   | 389kB 6.4MB/s eta 0:00:01\r\u001b[K     |█████████████████████████████▍  | 399kB 6.4MB/s eta 0:00:01\r\u001b[K     |██████████████████████████████▏ | 409kB 6.4MB/s eta 0:00:01\r\u001b[K     |██████████████████████████████▉ | 419kB 6.4MB/s eta 0:00:01\r\u001b[K     |███████████████████████████████▋| 430kB 6.4MB/s eta 0:00:01\r\u001b[K     |████████████████████████████████| 440kB 6.4MB/s \n",
            "\u001b[?25hRequirement already satisfied, skipping upgrade: google-api-core[grpc]<2.0.0dev,>=1.14.0 in /usr/local/lib/python3.6/dist-packages (from google-cloud-vision) (1.16.0)\n",
            "Requirement already satisfied, skipping upgrade: six>=1.10.0 in /usr/local/lib/python3.6/dist-packages (from google-api-core[grpc]<2.0.0dev,>=1.14.0->google-cloud-vision) (1.12.0)\n",
            "Requirement already satisfied, skipping upgrade: protobuf>=3.4.0 in /usr/local/lib/python3.6/dist-packages (from google-api-core[grpc]<2.0.0dev,>=1.14.0->google-cloud-vision) (3.10.0)\n",
            "Requirement already satisfied, skipping upgrade: setuptools>=34.0.0 in /usr/local/lib/python3.6/dist-packages (from google-api-core[grpc]<2.0.0dev,>=1.14.0->google-cloud-vision) (46.3.0)\n",
            "Requirement already satisfied, skipping upgrade: google-auth<2.0dev,>=0.4.0 in /usr/local/lib/python3.6/dist-packages (from google-api-core[grpc]<2.0.0dev,>=1.14.0->google-cloud-vision) (1.7.2)\n",
            "Requirement already satisfied, skipping upgrade: requests<3.0.0dev,>=2.18.0 in /usr/local/lib/python3.6/dist-packages (from google-api-core[grpc]<2.0.0dev,>=1.14.0->google-cloud-vision) (2.23.0)\n",
            "Requirement already satisfied, skipping upgrade: googleapis-common-protos<2.0dev,>=1.6.0 in /usr/local/lib/python3.6/dist-packages (from google-api-core[grpc]<2.0.0dev,>=1.14.0->google-cloud-vision) (1.51.0)\n",
            "Requirement already satisfied, skipping upgrade: pytz in /usr/local/lib/python3.6/dist-packages (from google-api-core[grpc]<2.0.0dev,>=1.14.0->google-cloud-vision) (2018.9)\n",
            "Requirement already satisfied, skipping upgrade: grpcio<2.0dev,>=1.8.2; extra == \"grpc\" in /usr/local/lib/python3.6/dist-packages (from google-api-core[grpc]<2.0.0dev,>=1.14.0->google-cloud-vision) (1.28.1)\n",
            "Requirement already satisfied, skipping upgrade: pyasn1-modules>=0.2.1 in /usr/local/lib/python3.6/dist-packages (from google-auth<2.0dev,>=0.4.0->google-api-core[grpc]<2.0.0dev,>=1.14.0->google-cloud-vision) (0.2.8)\n",
            "Requirement already satisfied, skipping upgrade: cachetools<3.2,>=2.0.0 in /usr/local/lib/python3.6/dist-packages (from google-auth<2.0dev,>=0.4.0->google-api-core[grpc]<2.0.0dev,>=1.14.0->google-cloud-vision) (3.1.1)\n",
            "Requirement already satisfied, skipping upgrade: rsa<4.1,>=3.1.4 in /usr/local/lib/python3.6/dist-packages (from google-auth<2.0dev,>=0.4.0->google-api-core[grpc]<2.0.0dev,>=1.14.0->google-cloud-vision) (4.0)\n",
            "Requirement already satisfied, skipping upgrade: chardet<4,>=3.0.2 in /usr/local/lib/python3.6/dist-packages (from requests<3.0.0dev,>=2.18.0->google-api-core[grpc]<2.0.0dev,>=1.14.0->google-cloud-vision) (3.0.4)\n",
            "Requirement already satisfied, skipping upgrade: certifi>=2017.4.17 in /usr/local/lib/python3.6/dist-packages (from requests<3.0.0dev,>=2.18.0->google-api-core[grpc]<2.0.0dev,>=1.14.0->google-cloud-vision) (2020.4.5.1)\n",
            "Requirement already satisfied, skipping upgrade: idna<3,>=2.5 in /usr/local/lib/python3.6/dist-packages (from requests<3.0.0dev,>=2.18.0->google-api-core[grpc]<2.0.0dev,>=1.14.0->google-cloud-vision) (2.9)\n",
            "Requirement already satisfied, skipping upgrade: urllib3!=1.25.0,!=1.25.1,<1.26,>=1.21.1 in /usr/local/lib/python3.6/dist-packages (from requests<3.0.0dev,>=2.18.0->google-api-core[grpc]<2.0.0dev,>=1.14.0->google-cloud-vision) (1.24.3)\n",
            "Requirement already satisfied, skipping upgrade: pyasn1<0.5.0,>=0.4.6 in /usr/local/lib/python3.6/dist-packages (from pyasn1-modules>=0.2.1->google-auth<2.0dev,>=0.4.0->google-api-core[grpc]<2.0.0dev,>=1.14.0->google-cloud-vision) (0.4.8)\n",
            "Installing collected packages: google-cloud-vision\n",
            "Successfully installed google-cloud-vision-1.0.0\n"
          ],
          "name": "stdout"
        },
        {
          "output_type": "display_data",
          "data": {
            "application/vnd.colab-display-data+json": {
              "pip_warning": {
                "packages": [
                  "google"
                ]
              }
            }
          },
          "metadata": {
            "tags": []
          }
        }
      ]
    },
    {
      "cell_type": "code",
      "metadata": {
        "id": "7xWKM7ZgtjiX",
        "colab_type": "code",
        "outputId": "11ef2df7-8430-4787-f8f2-b6fce3e366fa",
        "colab": {
          "base_uri": "https://localhost:8080/",
          "height": 121
        }
      },
      "source": [
        "# Install pdf2image library\n",
        "!pip install pdf2image"
      ],
      "execution_count": 3,
      "outputs": [
        {
          "output_type": "stream",
          "text": [
            "Collecting pdf2image\n",
            "  Downloading https://files.pythonhosted.org/packages/c6/62/bf2df0547cf4e216b329a9d39a7aa6c755f02071e63e17a4b76690ebfe20/pdf2image-1.13.1-py3-none-any.whl\n",
            "Requirement already satisfied: pillow in /usr/local/lib/python3.6/dist-packages (from pdf2image) (7.0.0)\n",
            "Installing collected packages: pdf2image\n",
            "Successfully installed pdf2image-1.13.1\n"
          ],
          "name": "stdout"
        }
      ]
    },
    {
      "cell_type": "code",
      "metadata": {
        "id": "aIGYSloevbIS",
        "colab_type": "code",
        "outputId": "512812e8-c801-43ff-b190-5a61920587e4",
        "colab": {
          "base_uri": "https://localhost:8080/",
          "height": 286
        }
      },
      "source": [
        "# Install poppler required for pdf2image\n",
        "!apt-get install poppler-utils "
      ],
      "execution_count": 4,
      "outputs": [
        {
          "output_type": "stream",
          "text": [
            "Reading package lists... Done\n",
            "Building dependency tree       \n",
            "Reading state information... Done\n",
            "The following NEW packages will be installed:\n",
            "  poppler-utils\n",
            "0 upgraded, 1 newly installed, 0 to remove and 31 not upgraded.\n",
            "Need to get 154 kB of archives.\n",
            "After this operation, 613 kB of additional disk space will be used.\n",
            "Get:1 http://archive.ubuntu.com/ubuntu bionic-updates/main amd64 poppler-utils amd64 0.62.0-2ubuntu2.10 [154 kB]\n",
            "Fetched 154 kB in 0s (1,820 kB/s)\n",
            "Selecting previously unselected package poppler-utils.\n",
            "(Reading database ... 144433 files and directories currently installed.)\n",
            "Preparing to unpack .../poppler-utils_0.62.0-2ubuntu2.10_amd64.deb ...\n",
            "Unpacking poppler-utils (0.62.0-2ubuntu2.10) ...\n",
            "Setting up poppler-utils (0.62.0-2ubuntu2.10) ...\n",
            "Processing triggers for man-db (2.8.3-2ubuntu0.1) ...\n"
          ],
          "name": "stdout"
        }
      ]
    },
    {
      "cell_type": "code",
      "metadata": {
        "id": "RyhR1v2jqIcg",
        "colab_type": "code",
        "colab": {}
      },
      "source": [
        "import os\n",
        "from google.cloud import vision\n",
        "import io\n",
        "import pandas as pd"
      ],
      "execution_count": 0,
      "outputs": []
    },
    {
      "cell_type": "code",
      "metadata": {
        "id": "SZXSZ7KDijKp",
        "colab_type": "code",
        "outputId": "630b058c-3aac-4f2a-d815-d95e7ead8553",
        "colab": {
          "base_uri": "https://localhost:8080/",
          "height": 121
        }
      },
      "source": [
        "from google.colab import drive\n",
        "drive.mount('/content/drive')"
      ],
      "execution_count": 6,
      "outputs": [
        {
          "output_type": "stream",
          "text": [
            "Go to this URL in a browser: https://accounts.google.com/o/oauth2/auth?client_id=947318989803-6bn6qk8qdgf4n4g3pfee6491hc0brc4i.apps.googleusercontent.com&redirect_uri=urn%3aietf%3awg%3aoauth%3a2.0%3aoob&response_type=code&scope=email%20https%3a%2f%2fwww.googleapis.com%2fauth%2fdocs.test%20https%3a%2f%2fwww.googleapis.com%2fauth%2fdrive%20https%3a%2f%2fwww.googleapis.com%2fauth%2fdrive.photos.readonly%20https%3a%2f%2fwww.googleapis.com%2fauth%2fpeopleapi.readonly\n",
            "\n",
            "Enter your authorization code:\n",
            "··········\n",
            "Mounted at /content/drive\n"
          ],
          "name": "stdout"
        }
      ]
    },
    {
      "cell_type": "markdown",
      "metadata": {
        "id": "ovTfASbJtRUO",
        "colab_type": "text"
      },
      "source": [
        "# Extract text from images."
      ]
    },
    {
      "cell_type": "code",
      "metadata": {
        "id": "I2Ml7g-nqv5s",
        "colab_type": "code",
        "colab": {}
      },
      "source": [
        "def detect_text_from_image(path):\n",
        "    '''\n",
        "    Function to extract texts from a image using GOOGLE CLOUD VISION API.\n",
        "    Param:\n",
        "        path : Full path of image.\n",
        "    Return:\n",
        "        Extracted text.\n",
        "    '''\n",
        "    # \n",
        "    os.environ[\"GOOGLE_APPLICATION_CREDENTIALS\"] = \"/content/My First Project-dff60b5d1137.json\"\n",
        "    \"\"\"Detects text in the file.\"\"\"\n",
        "    \n",
        "    client = vision.ImageAnnotatorClient()\n",
        "\n",
        "    with io.open(path, 'rb') as image_file:\n",
        "        content = image_file.read()\n",
        "\n",
        "    image = vision.types.Image(content=content)\n",
        "\n",
        "    response = client.document_text_detection(image=image)\n",
        "    texts = response.text_annotations\n",
        "    print('Texts:')\n",
        "\n",
        "    if response.error.message:\n",
        "        raise Exception(\n",
        "            '{}\\nFor more info on error messages, check: '\n",
        "            'https://cloud.google.com/apis/design/errors'.format(\n",
        "                response.error.message))\n",
        "\n",
        "    return texts[0].description\n",
        "\n",
        "# Detect text from PDF."
      ],
      "execution_count": 0,
      "outputs": []
    },
    {
      "cell_type": "code",
      "metadata": {
        "id": "NtpcCT3b0FUm",
        "colab_type": "code",
        "outputId": "5abec62a-f7c3-43c6-936a-a851ce184ed7",
        "colab": {
          "base_uri": "https://localhost:8080/",
          "height": 70
        }
      },
      "source": [
        "detect_text_from_image('/content/drive/My Drive/DOC-NER/Merrilllynch_CRA/Allan A Cook.png')"
      ],
      "execution_count": 9,
      "outputs": [
        {
          "output_type": "stream",
          "text": [
            "Texts:\n"
          ],
          "name": "stdout"
        },
        {
          "output_type": "execute_result",
          "data": {
            "text/plain": [
              "\"DTC8862\\nACAT0671\\nA BANK OF AMERICA COMPANY\\nClient Account Transfer Form\\nMERRILLS\\nUse this form to transfer all or a portion of your account from\\nanother financial institution to your Merrill Lynch, Pierce, Fenner &\\nSmith Incorporated (“Merrill Lynch”) account.\\nFor best results, please complete the information requested below in parts 1 to 4 using ALL CAPITAL letters and\\nblack ink. If you need more room for information or signatures, use a copy of the relevant page or a blank sheet. Use\\none form for each account that you're transferring.\\nThings to know before you begin:\\nMany firms transfer assets using an automated transfer process, which typically takes 5 to 6 business days. Other\\nfirms either don't use the automated process or must process some assets manually, which takes more time. The\\nfollowing estimated time frames for manual transfers are from the date of receipt of instructions by the deli\\nfirm and may vary greatly:\\n· Equities, bonds and options, approximately 15 business days\\nRestricted securities, approximately 15 to 20 business days\\nMutual funds, up to 30 business days\\n- Foreign securities, 4 to 6 weeks\\nNote: Annuities are not transferred using this form. Please use the Merrill Lynch Annuity Transfer Form.\\nRemember to update any automatic deposits or withdrawals you've set up on the account you're transferring to\\nMerrill Lynch.\\n• Some transfers may result in tax consequences, penalties or financial risk. Consult your tax and financial\\nprofessionals before requesting this transfer.\\nIf you're rolling over assets from a 401(k) or other employer-sponsored plan, consider all of your choices. You may\\nbe able to roll over to an IRA, roll over an old 401(k) to a 401(k) at a new employer, take a distribution or leave the\\naccount where it is, depending on your unique financial needs and retirement goals. Each choice may offer different\\nbenefits and limitations including investment options and services, fees and expenses, withdrawal options, required\\nminimum distributions, tax treatment and protection from creditors and legal judgments. Additionally, there are\\nlimits to how often and when you can roll over your account. Please contact your 401(k) or other employer-sponsored\\nplan administrator for help with the transfer.\\nPart 1\\nWhere\\nyour\\naccount\\nis now\\nFIRM NAME\\nFIRM PHONE\\nCONTACT NAME\\nBlue Mountain Capital Management (541) 754-1111\\nSabrina J McKenzie\\nFIRM ADDRESS\\nCITY, STATE, ZIP\\nSearch Results 280 Park Ave 12th Floor\\nNew York, NY,10017\\nACCOUNT NUMBER\\nACCOUNT TITLE\\n60610454\\ni Allan A Cook\\nAttach all pages\\nof your most recent\\nstatement for this\\naccount to avoid\\nany delays\\nEMPLOYER ID NUMBER (If used for\\nrepo\\nACCOUNT TYPE (RETAIL/IRA etc.)\\nIRA\\nSOCIAL SECURITY NUMBER (If used for tax reporting)\\n353752495\\nAccount holders (individual accounts) or authorized signers (for business, trust, estate, etc.)\\nList all names exactly as they appear on this account.\\nTITLE (If an authorized signer)\\nNAME 1\\nAllan A Cook\\nNAME 2\\nTITLE (If an authorized signer)\\nRoth\\nO SEP\\nOther (Please specify)\\nPart 2\\nMerrill Lynch account\\nreceiving your\\ntransferred assets\\nMERRILL LYNCH ACCOUNT NUMBER ACCOUNT TYPE (Choose one)\\n335-0212\\nOCMA IRA\\nACCOUNT TITLE (Here at Merrill Lynch)\\nAllan A Cook\\nSOCIAL SECURITY NUMBER (If used for tax reporting)\\n353752495\\nEMPLOYER ID NUMBER (If used for tax reporting)\\nThis can include a\\nMerrill Lynch account\\non which you receive\\nfiduciary services\\nfrom U.S. Trust\\nAccount holders (individual accounts) or authorized signers (for business, trust, estate, etc.)\\nList all names exactly as they appear on this account. This account must have at least one owner in common with\\nyour transferring account, otherwise this process will be delayed.\\nTITLE (If an authorized signer)\\nNAME 1\\nAllan A Cook\\nNAME 2\\nTITLE (If an authorized signer)\\nEVENING PHONE\\nEMAIL\\nDAYTIME PHONE\\n(541) 754-1221\\nAllan@gmail.com\\nBRANCH CONTACT NAME\\nNICK LANE\\nBRANCH CONTACT NUMBER\\n866.848.6554\\nCODE 1566 MLPFS - 03/2018\\n\""
            ]
          },
          "metadata": {
            "tags": []
          },
          "execution_count": 9
        }
      ]
    },
    {
      "cell_type": "markdown",
      "metadata": {
        "id": "uuS-O0Q3tax1",
        "colab_type": "text"
      },
      "source": [
        "# Extract text from PDF"
      ]
    },
    {
      "cell_type": "code",
      "metadata": {
        "id": "oWB_jnRitbG2",
        "colab_type": "code",
        "colab": {}
      },
      "source": [
        "from pdf2image import convert_from_path\n",
        "from pathlib import Path"
      ],
      "execution_count": 0,
      "outputs": []
    },
    {
      "cell_type": "code",
      "metadata": {
        "id": "oi5VQ2ea3rSJ",
        "colab_type": "code",
        "colab": {}
      },
      "source": [
        "def detect_text_from_pdf(pdf_path, num_of_pages):\n",
        "\n",
        "    # Extract customer_name from file name. Replace ' ' by '_'\n",
        "    customer_name = Path(pdf_path).stem.replace(' ', '_')\n",
        "\n",
        "    pages = convert_from_path(pdf_path, 100, fmt = 'jpg')\n",
        "\n",
        "    pdf_text = []\n",
        "    for i, page in enumerate(pages[0:num_of_pages]):\n",
        "        temp_img_path = customer_name+ str(i) + '.jpg'\n",
        "        page.save(temp_img_path)\n",
        "        temp_text = detect_text_from_image(temp_img_path)\n",
        "        pdf_text.append(temp_text)\n",
        "        os.remove(temp_img_path)\n",
        "    return '. '.join(pdf_text).replace(\"\\n\", \" \")"
      ],
      "execution_count": 0,
      "outputs": []
    },
    {
      "cell_type": "markdown",
      "metadata": {
        "id": "-czfK2SeSxnO",
        "colab_type": "text"
      },
      "source": [
        "# Generate list of files"
      ]
    },
    {
      "cell_type": "code",
      "metadata": {
        "id": "MlplcmMeTkqg",
        "colab_type": "code",
        "colab": {}
      },
      "source": [
        "from pathlib import PurePath"
      ],
      "execution_count": 0,
      "outputs": []
    },
    {
      "cell_type": "code",
      "metadata": {
        "id": "d7VzF7I-Sy_b",
        "colab_type": "code",
        "colab": {}
      },
      "source": [
        "root_paths = ['/content/drive/My Drive/DOC-NER/Ameritrade Institutional',\n",
        "              '/content/drive/My Drive/DOC-NER/Merrilllynch_CRA',\n",
        "              '/content/drive/My Drive/DOC-NER/Schwab_IRA']\n",
        "\n",
        "all_files_list = []\n",
        "for root_path in root_paths:\n",
        "    for path, subdirs, files in os.walk(root_path):\n",
        "        for name in files:\n",
        "            all_files_list.append(os.path.join(path, name))"
      ],
      "execution_count": 0,
      "outputs": []
    },
    {
      "cell_type": "code",
      "metadata": {
        "id": "OV8K1Lgozwyu",
        "colab_type": "code",
        "outputId": "04a51388-430d-49aa-8000-80a9acbb9f80",
        "colab": {
          "base_uri": "https://localhost:8080/",
          "height": 1000
        }
      },
      "source": [
        "all_files_list"
      ],
      "execution_count": 21,
      "outputs": [
        {
          "output_type": "execute_result",
          "data": {
            "text/plain": [
              "['/content/drive/My Drive/DOC-NER/Ameritrade Institutional/Zita J Rottman_.pdf',\n",
              " '/content/drive/My Drive/DOC-NER/Ameritrade Institutional/Teresa R Woods_.pdf',\n",
              " '/content/drive/My Drive/DOC-NER/Ameritrade Institutional/Susan T Green_.pdf',\n",
              " '/content/drive/My Drive/DOC-NER/Ameritrade Institutional/Robert R Sheppard_.pdf',\n",
              " '/content/drive/My Drive/DOC-NER/Ameritrade Institutional/Robert R Allan_.pdf',\n",
              " '/content/drive/My Drive/DOC-NER/Ameritrade Institutional/Robert J Barr_.pdf',\n",
              " '/content/drive/My Drive/DOC-NER/Ameritrade Institutional/Pamela E Byrd_.pdf',\n",
              " '/content/drive/My Drive/DOC-NER/Ameritrade Institutional/Nora R Mills_.pdf',\n",
              " '/content/drive/My Drive/DOC-NER/Ameritrade Institutional/Michael_C_Preston_.pdf',\n",
              " '/content/drive/My Drive/DOC-NER/Ameritrade Institutional/Mary H Craven_.pdf',\n",
              " '/content/drive/My Drive/DOC-NER/Ameritrade Institutional/Mary H Craven_ (1).pdf',\n",
              " '/content/drive/My Drive/DOC-NER/Ameritrade Institutional/Marie P Watkins_.pdf',\n",
              " '/content/drive/My Drive/DOC-NER/Ameritrade Institutional/Marie P Watkins_ (1).pdf',\n",
              " '/content/drive/My Drive/DOC-NER/Ameritrade Institutional/Linda M Rice_.pdf',\n",
              " '/content/drive/My Drive/DOC-NER/Ameritrade Institutional/Lili J Thomas_.pdf',\n",
              " '/content/drive/My Drive/DOC-NER/Ameritrade Institutional/Lili J Thomas_ (1).pdf',\n",
              " '/content/drive/My Drive/DOC-NER/Ameritrade Institutional/Kristen W Hamilton_.pdf',\n",
              " '/content/drive/My Drive/DOC-NER/Ameritrade Institutional/Joseph T Green_.pdf',\n",
              " '/content/drive/My Drive/DOC-NER/Ameritrade Institutional/Joseph T Green_ (1).pdf',\n",
              " '/content/drive/My Drive/DOC-NER/Ameritrade Institutional/Joshua T Truitt_.pdf',\n",
              " '/content/drive/My Drive/DOC-NER/Ameritrade Institutional/Joseph N Weed_.pdf',\n",
              " '/content/drive/My Drive/DOC-NER/Ameritrade Institutional/James P Osborne.pdf',\n",
              " '/content/drive/My Drive/DOC-NER/Ameritrade Institutional/James P Osborne (1).pdf',\n",
              " '/content/drive/My Drive/DOC-NER/Ameritrade Institutional/Horace H Carpenter_.pdf',\n",
              " '/content/drive/My Drive/DOC-NER/Ameritrade Institutional/Harold N Samaniego_.pdf',\n",
              " '/content/drive/My Drive/DOC-NER/Ameritrade Institutional/Floyd K Brown_.pdf',\n",
              " '/content/drive/My Drive/DOC-NER/Ameritrade Institutional/Damian C Russell.pdf',\n",
              " '/content/drive/My Drive/DOC-NER/Ameritrade Institutional/Damian C Russell (1).pdf',\n",
              " '/content/drive/My Drive/DOC-NER/Ameritrade Institutional/Christopher V Herring_.pdf',\n",
              " '/content/drive/My Drive/DOC-NER/Ameritrade Institutional/Christine S Pyne_ (1).pdf',\n",
              " '/content/drive/My Drive/DOC-NER/Ameritrade Institutional/Carl M Ecklund_ (1).pdf',\n",
              " '/content/drive/My Drive/DOC-NER/Ameritrade Institutional/Carl M Ecklund_ (2).pdf',\n",
              " '/content/drive/My Drive/DOC-NER/Ameritrade Institutional/Anne C Pugh_.pdf',\n",
              " '/content/drive/My Drive/DOC-NER/Ameritrade Institutional/Angelica E Senn_.pdf',\n",
              " '/content/drive/My Drive/DOC-NER/Ameritrade Institutional/Angelica E Senn_ (1).pdf',\n",
              " '/content/drive/My Drive/DOC-NER/Ameritrade Institutional/Andrew_H_Jones_.pdf',\n",
              " '/content/drive/My Drive/DOC-NER/Ameritrade Institutional/Allan_A_Cook_.pdf',\n",
              " '/content/drive/My Drive/DOC-NER/Ameritrade Institutional/Adrian_T_Clemens_.pdf',\n",
              " '/content/drive/My Drive/DOC-NER/Ameritrade Institutional/Adrian_T_Clemens_ (1).pdf',\n",
              " '/content/drive/My Drive/DOC-NER/Ameritrade Institutional/Addie N McClellan_.pdf',\n",
              " '/content/drive/My Drive/DOC-NER/Ameritrade Institutional/Ada J Bardsley_.pdf',\n",
              " '/content/drive/My Drive/DOC-NER/Merrilllynch_CRA/Samantha.png',\n",
              " '/content/drive/My Drive/DOC-NER/Merrilllynch_CRA/Rose R Webb.png',\n",
              " '/content/drive/My Drive/DOC-NER/Merrilllynch_CRA/Robert N Sanford.png',\n",
              " '/content/drive/My Drive/DOC-NER/Merrilllynch_CRA/Robert E Regan.png',\n",
              " '/content/drive/My Drive/DOC-NER/Merrilllynch_CRA/Richard K Kral.png',\n",
              " '/content/drive/My Drive/DOC-NER/Merrilllynch_CRA/Peter E Trosper.png',\n",
              " '/content/drive/My Drive/DOC-NER/Merrilllynch_CRA/Harold L Brooks.pdf',\n",
              " '/content/drive/My Drive/DOC-NER/Merrilllynch_CRA/Hae F Taylor.pdf',\n",
              " '/content/drive/My Drive/DOC-NER/Merrilllynch_CRA/Gina F Johnson.pdf',\n",
              " '/content/drive/My Drive/DOC-NER/Merrilllynch_CRA/Eula R Tucker.pdf',\n",
              " '/content/drive/My Drive/DOC-NER/Merrilllynch_CRA/Edna T Peres.pdf',\n",
              " '/content/drive/My Drive/DOC-NER/Merrilllynch_CRA/Edith D Alexander.pdf',\n",
              " '/content/drive/My Drive/DOC-NER/Merrilllynch_CRA/Diana J Alarcon.pdf',\n",
              " '/content/drive/My Drive/DOC-NER/Merrilllynch_CRA/Connie J Llanos.pdf',\n",
              " '/content/drive/My Drive/DOC-NER/Merrilllynch_CRA/Cletus S Russo.pdf',\n",
              " '/content/drive/My Drive/DOC-NER/Merrilllynch_CRA/Cheryl J Taylor.pdf',\n",
              " '/content/drive/My Drive/DOC-NER/Merrilllynch_CRA/Candy T Lee.pdf',\n",
              " '/content/drive/My Drive/DOC-NER/Merrilllynch_CRA/Allan A Cook.png',\n",
              " '/content/drive/My Drive/DOC-NER/Merrilllynch_CRA/Allan A Cook (1).png',\n",
              " '/content/drive/My Drive/DOC-NER/Merrilllynch_CRA/Adrian Clemens.png',\n",
              " '/content/drive/My Drive/DOC-NER/Schwab_IRA/Bobby_J_Cole_.pdf',\n",
              " '/content/drive/My Drive/DOC-NER/Schwab_IRA/Thomas_L_Dodds_.pdf',\n",
              " '/content/drive/My Drive/DOC-NER/Schwab_IRA/Tammy_M_Pereira_.pdf',\n",
              " '/content/drive/My Drive/DOC-NER/Schwab_IRA/Richard_K_Forester_.pdf',\n",
              " '/content/drive/My Drive/DOC-NER/Schwab_IRA/James_B_Adams_.pdf',\n",
              " '/content/drive/My Drive/DOC-NER/Schwab_IRA/Edmund_L_Kroeger_.pdf',\n",
              " '/content/drive/My Drive/DOC-NER/Schwab_IRA/Donna_E_Warren_.pdf',\n",
              " '/content/drive/My Drive/DOC-NER/Schwab_IRA/Daniel_P_Woods_.pdf',\n",
              " '/content/drive/My Drive/DOC-NER/Schwab_IRA/Jonathan_K_Sanchez_.pdf',\n",
              " '/content/drive/My Drive/DOC-NER/Schwab_IRA/Karen_A_Sliva_.pdf',\n",
              " '/content/drive/My Drive/DOC-NER/Schwab_IRA/Patricia_J_Kim_.pdf']"
            ]
          },
          "metadata": {
            "tags": []
          },
          "execution_count": 21
        }
      ]
    },
    {
      "cell_type": "code",
      "metadata": {
        "id": "eLiNH9cyUnMv",
        "colab_type": "code",
        "outputId": "ee4d8c8d-f8cd-4515-ef05-83bedb0cde73",
        "colab": {
          "base_uri": "https://localhost:8080/",
          "height": 1000
        }
      },
      "source": [
        "from tqdm import tqdm\n",
        "extracted_text = []\n",
        "customer_file_name = []\n",
        "\n",
        "for path_ in tqdm(all_files_list):\n",
        "    print(path_)\n",
        "    file_name = path_.split('/')[-1]\n",
        "    print(file_name)\n",
        "    \n",
        "    if Path(file_name).suffix == '.pdf':\n",
        "        extracted_text.append(detect_text_from_pdf(pdf_path = path_, num_of_pages = 2))\n",
        "        customer_file_name.append(file_name)\n",
        "    elif Path(file_name).suffix == '.png' or 'jpg':\n",
        "        extracted_text.append(detect_text_from_image(path_))\n",
        "        customer_file_name.append(file_name)\n",
        "    else:\n",
        "        pass"
      ],
      "execution_count": 22,
      "outputs": [
        {
          "output_type": "stream",
          "text": [
            "\r  0%|          | 0/72 [00:00<?, ?it/s]"
          ],
          "name": "stderr"
        },
        {
          "output_type": "stream",
          "text": [
            "/content/drive/My Drive/DOC-NER/Ameritrade Institutional/Zita J Rottman_.pdf\n",
            "Zita J Rottman_.pdf\n",
            "Texts:\n"
          ],
          "name": "stdout"
        },
        {
          "output_type": "stream",
          "text": [
            "\r  1%|▏         | 1/72 [00:02<02:29,  2.10s/it]"
          ],
          "name": "stderr"
        },
        {
          "output_type": "stream",
          "text": [
            "Texts:\n",
            "/content/drive/My Drive/DOC-NER/Ameritrade Institutional/Teresa R Woods_.pdf\n",
            "Teresa R Woods_.pdf\n",
            "Texts:\n"
          ],
          "name": "stdout"
        },
        {
          "output_type": "stream",
          "text": [
            "\r  3%|▎         | 2/72 [00:03<02:21,  2.02s/it]"
          ],
          "name": "stderr"
        },
        {
          "output_type": "stream",
          "text": [
            "Texts:\n",
            "/content/drive/My Drive/DOC-NER/Ameritrade Institutional/Susan T Green_.pdf\n",
            "Susan T Green_.pdf\n",
            "Texts:\n"
          ],
          "name": "stdout"
        },
        {
          "output_type": "stream",
          "text": [
            "\r  4%|▍         | 3/72 [00:05<02:12,  1.92s/it]"
          ],
          "name": "stderr"
        },
        {
          "output_type": "stream",
          "text": [
            "Texts:\n",
            "/content/drive/My Drive/DOC-NER/Ameritrade Institutional/Robert R Sheppard_.pdf\n",
            "Robert R Sheppard_.pdf\n",
            "Texts:\n"
          ],
          "name": "stdout"
        },
        {
          "output_type": "stream",
          "text": [
            "\r  6%|▌         | 4/72 [00:07<02:09,  1.90s/it]"
          ],
          "name": "stderr"
        },
        {
          "output_type": "stream",
          "text": [
            "Texts:\n",
            "/content/drive/My Drive/DOC-NER/Ameritrade Institutional/Robert R Allan_.pdf\n",
            "Robert R Allan_.pdf\n",
            "Texts:\n"
          ],
          "name": "stdout"
        },
        {
          "output_type": "stream",
          "text": [
            "\r  7%|▋         | 5/72 [00:09<02:02,  1.83s/it]"
          ],
          "name": "stderr"
        },
        {
          "output_type": "stream",
          "text": [
            "Texts:\n",
            "/content/drive/My Drive/DOC-NER/Ameritrade Institutional/Robert J Barr_.pdf\n",
            "Robert J Barr_.pdf\n",
            "Texts:\n"
          ],
          "name": "stdout"
        },
        {
          "output_type": "stream",
          "text": [
            "\r  8%|▊         | 6/72 [00:10<01:59,  1.81s/it]"
          ],
          "name": "stderr"
        },
        {
          "output_type": "stream",
          "text": [
            "Texts:\n",
            "/content/drive/My Drive/DOC-NER/Ameritrade Institutional/Pamela E Byrd_.pdf\n",
            "Pamela E Byrd_.pdf\n",
            "Texts:\n"
          ],
          "name": "stdout"
        },
        {
          "output_type": "stream",
          "text": [
            "\r 10%|▉         | 7/72 [00:12<01:56,  1.79s/it]"
          ],
          "name": "stderr"
        },
        {
          "output_type": "stream",
          "text": [
            "Texts:\n",
            "/content/drive/My Drive/DOC-NER/Ameritrade Institutional/Nora R Mills_.pdf\n",
            "Nora R Mills_.pdf\n",
            "Texts:\n"
          ],
          "name": "stdout"
        },
        {
          "output_type": "stream",
          "text": [
            "\r 11%|█         | 8/72 [00:14<01:58,  1.85s/it]"
          ],
          "name": "stderr"
        },
        {
          "output_type": "stream",
          "text": [
            "Texts:\n",
            "/content/drive/My Drive/DOC-NER/Ameritrade Institutional/Michael_C_Preston_.pdf\n",
            "Michael_C_Preston_.pdf\n",
            "Texts:\n"
          ],
          "name": "stdout"
        },
        {
          "output_type": "stream",
          "text": [
            "\r 12%|█▎        | 9/72 [00:16<01:56,  1.85s/it]"
          ],
          "name": "stderr"
        },
        {
          "output_type": "stream",
          "text": [
            "Texts:\n",
            "/content/drive/My Drive/DOC-NER/Ameritrade Institutional/Mary H Craven_.pdf\n",
            "Mary H Craven_.pdf\n",
            "Texts:\n"
          ],
          "name": "stdout"
        },
        {
          "output_type": "stream",
          "text": [
            "\r 14%|█▍        | 10/72 [00:18<01:54,  1.84s/it]"
          ],
          "name": "stderr"
        },
        {
          "output_type": "stream",
          "text": [
            "Texts:\n",
            "/content/drive/My Drive/DOC-NER/Ameritrade Institutional/Mary H Craven_ (1).pdf\n",
            "Mary H Craven_ (1).pdf\n",
            "Texts:\n"
          ],
          "name": "stdout"
        },
        {
          "output_type": "stream",
          "text": [
            "\r 15%|█▌        | 11/72 [00:19<01:45,  1.72s/it]"
          ],
          "name": "stderr"
        },
        {
          "output_type": "stream",
          "text": [
            "Texts:\n",
            "/content/drive/My Drive/DOC-NER/Ameritrade Institutional/Marie P Watkins_.pdf\n",
            "Marie P Watkins_.pdf\n",
            "Texts:\n"
          ],
          "name": "stdout"
        },
        {
          "output_type": "stream",
          "text": [
            "\r 17%|█▋        | 12/72 [00:21<01:45,  1.76s/it]"
          ],
          "name": "stderr"
        },
        {
          "output_type": "stream",
          "text": [
            "Texts:\n",
            "/content/drive/My Drive/DOC-NER/Ameritrade Institutional/Marie P Watkins_ (1).pdf\n",
            "Marie P Watkins_ (1).pdf\n",
            "Texts:\n"
          ],
          "name": "stdout"
        },
        {
          "output_type": "stream",
          "text": [
            "\r 18%|█▊        | 13/72 [00:23<01:41,  1.72s/it]"
          ],
          "name": "stderr"
        },
        {
          "output_type": "stream",
          "text": [
            "Texts:\n",
            "/content/drive/My Drive/DOC-NER/Ameritrade Institutional/Linda M Rice_.pdf\n",
            "Linda M Rice_.pdf\n",
            "Texts:\n"
          ],
          "name": "stdout"
        },
        {
          "output_type": "stream",
          "text": [
            "\r 19%|█▉        | 14/72 [00:25<01:41,  1.75s/it]"
          ],
          "name": "stderr"
        },
        {
          "output_type": "stream",
          "text": [
            "Texts:\n",
            "/content/drive/My Drive/DOC-NER/Ameritrade Institutional/Lili J Thomas_.pdf\n",
            "Lili J Thomas_.pdf\n",
            "Texts:\n"
          ],
          "name": "stdout"
        },
        {
          "output_type": "stream",
          "text": [
            "\r 21%|██        | 15/72 [00:26<01:40,  1.76s/it]"
          ],
          "name": "stderr"
        },
        {
          "output_type": "stream",
          "text": [
            "Texts:\n",
            "/content/drive/My Drive/DOC-NER/Ameritrade Institutional/Lili J Thomas_ (1).pdf\n",
            "Lili J Thomas_ (1).pdf\n",
            "Texts:\n"
          ],
          "name": "stdout"
        },
        {
          "output_type": "stream",
          "text": [
            "\r 22%|██▏       | 16/72 [00:28<01:33,  1.67s/it]"
          ],
          "name": "stderr"
        },
        {
          "output_type": "stream",
          "text": [
            "Texts:\n",
            "/content/drive/My Drive/DOC-NER/Ameritrade Institutional/Kristen W Hamilton_.pdf\n",
            "Kristen W Hamilton_.pdf\n",
            "Texts:\n"
          ],
          "name": "stdout"
        },
        {
          "output_type": "stream",
          "text": [
            "\r 24%|██▎       | 17/72 [00:30<01:36,  1.75s/it]"
          ],
          "name": "stderr"
        },
        {
          "output_type": "stream",
          "text": [
            "Texts:\n",
            "/content/drive/My Drive/DOC-NER/Ameritrade Institutional/Joseph T Green_.pdf\n",
            "Joseph T Green_.pdf\n",
            "Texts:\n"
          ],
          "name": "stdout"
        },
        {
          "output_type": "stream",
          "text": [
            "\r 25%|██▌       | 18/72 [00:32<01:38,  1.82s/it]"
          ],
          "name": "stderr"
        },
        {
          "output_type": "stream",
          "text": [
            "Texts:\n",
            "/content/drive/My Drive/DOC-NER/Ameritrade Institutional/Joseph T Green_ (1).pdf\n",
            "Joseph T Green_ (1).pdf\n",
            "Texts:\n"
          ],
          "name": "stdout"
        },
        {
          "output_type": "stream",
          "text": [
            "\r 26%|██▋       | 19/72 [00:33<01:32,  1.75s/it]"
          ],
          "name": "stderr"
        },
        {
          "output_type": "stream",
          "text": [
            "Texts:\n",
            "/content/drive/My Drive/DOC-NER/Ameritrade Institutional/Joshua T Truitt_.pdf\n",
            "Joshua T Truitt_.pdf\n",
            "Texts:\n"
          ],
          "name": "stdout"
        },
        {
          "output_type": "stream",
          "text": [
            "\r 28%|██▊       | 20/72 [00:35<01:32,  1.79s/it]"
          ],
          "name": "stderr"
        },
        {
          "output_type": "stream",
          "text": [
            "Texts:\n",
            "/content/drive/My Drive/DOC-NER/Ameritrade Institutional/Joseph N Weed_.pdf\n",
            "Joseph N Weed_.pdf\n",
            "Texts:\n"
          ],
          "name": "stdout"
        },
        {
          "output_type": "stream",
          "text": [
            "\r 29%|██▉       | 21/72 [00:37<01:31,  1.80s/it]"
          ],
          "name": "stderr"
        },
        {
          "output_type": "stream",
          "text": [
            "Texts:\n",
            "/content/drive/My Drive/DOC-NER/Ameritrade Institutional/James P Osborne.pdf\n",
            "James P Osborne.pdf\n",
            "Texts:\n"
          ],
          "name": "stdout"
        },
        {
          "output_type": "stream",
          "text": [
            "\r 31%|███       | 22/72 [00:39<01:30,  1.80s/it]"
          ],
          "name": "stderr"
        },
        {
          "output_type": "stream",
          "text": [
            "Texts:\n",
            "/content/drive/My Drive/DOC-NER/Ameritrade Institutional/James P Osborne (1).pdf\n",
            "James P Osborne (1).pdf\n",
            "Texts:\n"
          ],
          "name": "stdout"
        },
        {
          "output_type": "stream",
          "text": [
            "\r 32%|███▏      | 23/72 [00:41<01:26,  1.77s/it]"
          ],
          "name": "stderr"
        },
        {
          "output_type": "stream",
          "text": [
            "Texts:\n",
            "/content/drive/My Drive/DOC-NER/Ameritrade Institutional/Horace H Carpenter_.pdf\n",
            "Horace H Carpenter_.pdf\n",
            "Texts:\n"
          ],
          "name": "stdout"
        },
        {
          "output_type": "stream",
          "text": [
            "\r 33%|███▎      | 24/72 [00:43<01:28,  1.84s/it]"
          ],
          "name": "stderr"
        },
        {
          "output_type": "stream",
          "text": [
            "Texts:\n",
            "/content/drive/My Drive/DOC-NER/Ameritrade Institutional/Harold N Samaniego_.pdf\n",
            "Harold N Samaniego_.pdf\n",
            "Texts:\n"
          ],
          "name": "stdout"
        },
        {
          "output_type": "stream",
          "text": [
            "\r 35%|███▍      | 25/72 [00:44<01:26,  1.84s/it]"
          ],
          "name": "stderr"
        },
        {
          "output_type": "stream",
          "text": [
            "Texts:\n",
            "/content/drive/My Drive/DOC-NER/Ameritrade Institutional/Floyd K Brown_.pdf\n",
            "Floyd K Brown_.pdf\n",
            "Texts:\n"
          ],
          "name": "stdout"
        },
        {
          "output_type": "stream",
          "text": [
            "\r 36%|███▌      | 26/72 [00:46<01:24,  1.83s/it]"
          ],
          "name": "stderr"
        },
        {
          "output_type": "stream",
          "text": [
            "Texts:\n",
            "/content/drive/My Drive/DOC-NER/Ameritrade Institutional/Damian C Russell.pdf\n",
            "Damian C Russell.pdf\n",
            "Texts:\n"
          ],
          "name": "stdout"
        },
        {
          "output_type": "stream",
          "text": [
            "\r 38%|███▊      | 27/72 [00:48<01:23,  1.85s/it]"
          ],
          "name": "stderr"
        },
        {
          "output_type": "stream",
          "text": [
            "Texts:\n",
            "/content/drive/My Drive/DOC-NER/Ameritrade Institutional/Damian C Russell (1).pdf\n",
            "Damian C Russell (1).pdf\n",
            "Texts:\n"
          ],
          "name": "stdout"
        },
        {
          "output_type": "stream",
          "text": [
            "\r 39%|███▉      | 28/72 [00:50<01:17,  1.77s/it]"
          ],
          "name": "stderr"
        },
        {
          "output_type": "stream",
          "text": [
            "Texts:\n",
            "/content/drive/My Drive/DOC-NER/Ameritrade Institutional/Christopher V Herring_.pdf\n",
            "Christopher V Herring_.pdf\n",
            "Texts:\n"
          ],
          "name": "stdout"
        },
        {
          "output_type": "stream",
          "text": [
            "\r 40%|████      | 29/72 [00:52<01:18,  1.82s/it]"
          ],
          "name": "stderr"
        },
        {
          "output_type": "stream",
          "text": [
            "Texts:\n",
            "/content/drive/My Drive/DOC-NER/Ameritrade Institutional/Christine S Pyne_ (1).pdf\n",
            "Christine S Pyne_ (1).pdf\n",
            "Texts:\n"
          ],
          "name": "stdout"
        },
        {
          "output_type": "stream",
          "text": [
            "\r 42%|████▏     | 30/72 [00:53<01:16,  1.81s/it]"
          ],
          "name": "stderr"
        },
        {
          "output_type": "stream",
          "text": [
            "Texts:\n",
            "/content/drive/My Drive/DOC-NER/Ameritrade Institutional/Carl M Ecklund_ (1).pdf\n",
            "Carl M Ecklund_ (1).pdf\n",
            "Texts:\n"
          ],
          "name": "stdout"
        },
        {
          "output_type": "stream",
          "text": [
            "\r 43%|████▎     | 31/72 [00:55<01:17,  1.88s/it]"
          ],
          "name": "stderr"
        },
        {
          "output_type": "stream",
          "text": [
            "Texts:\n",
            "/content/drive/My Drive/DOC-NER/Ameritrade Institutional/Carl M Ecklund_ (2).pdf\n",
            "Carl M Ecklund_ (2).pdf\n",
            "Texts:\n"
          ],
          "name": "stdout"
        },
        {
          "output_type": "stream",
          "text": [
            "\r 44%|████▍     | 32/72 [00:57<01:11,  1.78s/it]"
          ],
          "name": "stderr"
        },
        {
          "output_type": "stream",
          "text": [
            "Texts:\n",
            "/content/drive/My Drive/DOC-NER/Ameritrade Institutional/Anne C Pugh_.pdf\n",
            "Anne C Pugh_.pdf\n",
            "Texts:\n"
          ],
          "name": "stdout"
        },
        {
          "output_type": "stream",
          "text": [
            "\r 46%|████▌     | 33/72 [00:59<01:13,  1.89s/it]"
          ],
          "name": "stderr"
        },
        {
          "output_type": "stream",
          "text": [
            "Texts:\n",
            "/content/drive/My Drive/DOC-NER/Ameritrade Institutional/Angelica E Senn_.pdf\n",
            "Angelica E Senn_.pdf\n",
            "Texts:\n"
          ],
          "name": "stdout"
        },
        {
          "output_type": "stream",
          "text": [
            "\r 47%|████▋     | 34/72 [01:01<01:11,  1.89s/it]"
          ],
          "name": "stderr"
        },
        {
          "output_type": "stream",
          "text": [
            "Texts:\n",
            "/content/drive/My Drive/DOC-NER/Ameritrade Institutional/Angelica E Senn_ (1).pdf\n",
            "Angelica E Senn_ (1).pdf\n",
            "Texts:\n"
          ],
          "name": "stdout"
        },
        {
          "output_type": "stream",
          "text": [
            "\r 49%|████▊     | 35/72 [01:03<01:09,  1.88s/it]"
          ],
          "name": "stderr"
        },
        {
          "output_type": "stream",
          "text": [
            "Texts:\n",
            "/content/drive/My Drive/DOC-NER/Ameritrade Institutional/Andrew_H_Jones_.pdf\n",
            "Andrew_H_Jones_.pdf\n",
            "Texts:\n"
          ],
          "name": "stdout"
        },
        {
          "output_type": "stream",
          "text": [
            "\r 50%|█████     | 36/72 [01:05<01:06,  1.84s/it]"
          ],
          "name": "stderr"
        },
        {
          "output_type": "stream",
          "text": [
            "Texts:\n",
            "/content/drive/My Drive/DOC-NER/Ameritrade Institutional/Allan_A_Cook_.pdf\n",
            "Allan_A_Cook_.pdf\n",
            "Texts:\n"
          ],
          "name": "stdout"
        },
        {
          "output_type": "stream",
          "text": [
            "\r 51%|█████▏    | 37/72 [01:06<01:03,  1.82s/it]"
          ],
          "name": "stderr"
        },
        {
          "output_type": "stream",
          "text": [
            "Texts:\n",
            "/content/drive/My Drive/DOC-NER/Ameritrade Institutional/Adrian_T_Clemens_.pdf\n",
            "Adrian_T_Clemens_.pdf\n",
            "Texts:\n"
          ],
          "name": "stdout"
        },
        {
          "output_type": "stream",
          "text": [
            "\r 53%|█████▎    | 38/72 [01:08<01:01,  1.81s/it]"
          ],
          "name": "stderr"
        },
        {
          "output_type": "stream",
          "text": [
            "Texts:\n",
            "/content/drive/My Drive/DOC-NER/Ameritrade Institutional/Adrian_T_Clemens_ (1).pdf\n",
            "Adrian_T_Clemens_ (1).pdf\n",
            "Texts:\n"
          ],
          "name": "stdout"
        },
        {
          "output_type": "stream",
          "text": [
            "\r 54%|█████▍    | 39/72 [01:10<00:59,  1.80s/it]"
          ],
          "name": "stderr"
        },
        {
          "output_type": "stream",
          "text": [
            "Texts:\n",
            "/content/drive/My Drive/DOC-NER/Ameritrade Institutional/Addie N McClellan_.pdf\n",
            "Addie N McClellan_.pdf\n",
            "Texts:\n"
          ],
          "name": "stdout"
        },
        {
          "output_type": "stream",
          "text": [
            "\r 56%|█████▌    | 40/72 [01:12<00:58,  1.82s/it]"
          ],
          "name": "stderr"
        },
        {
          "output_type": "stream",
          "text": [
            "Texts:\n",
            "/content/drive/My Drive/DOC-NER/Ameritrade Institutional/Ada J Bardsley_.pdf\n",
            "Ada J Bardsley_.pdf\n",
            "Texts:\n"
          ],
          "name": "stdout"
        },
        {
          "output_type": "stream",
          "text": [
            "\r 57%|█████▋    | 41/72 [01:14<00:56,  1.81s/it]"
          ],
          "name": "stderr"
        },
        {
          "output_type": "stream",
          "text": [
            "Texts:\n",
            "/content/drive/My Drive/DOC-NER/Merrilllynch_CRA/Samantha.png\n",
            "Samantha.png\n"
          ],
          "name": "stdout"
        },
        {
          "output_type": "stream",
          "text": [
            "\r 58%|█████▊    | 42/72 [01:15<00:50,  1.68s/it]"
          ],
          "name": "stderr"
        },
        {
          "output_type": "stream",
          "text": [
            "Texts:\n",
            "/content/drive/My Drive/DOC-NER/Merrilllynch_CRA/Rose R Webb.png\n",
            "Rose R Webb.png\n"
          ],
          "name": "stdout"
        },
        {
          "output_type": "stream",
          "text": [
            "\r 60%|█████▉    | 43/72 [01:16<00:46,  1.60s/it]"
          ],
          "name": "stderr"
        },
        {
          "output_type": "stream",
          "text": [
            "Texts:\n",
            "/content/drive/My Drive/DOC-NER/Merrilllynch_CRA/Robert N Sanford.png\n",
            "Robert N Sanford.png\n"
          ],
          "name": "stdout"
        },
        {
          "output_type": "stream",
          "text": [
            "\r 61%|██████    | 44/72 [01:18<00:42,  1.50s/it]"
          ],
          "name": "stderr"
        },
        {
          "output_type": "stream",
          "text": [
            "Texts:\n",
            "/content/drive/My Drive/DOC-NER/Merrilllynch_CRA/Robert E Regan.png\n",
            "Robert E Regan.png\n"
          ],
          "name": "stdout"
        },
        {
          "output_type": "stream",
          "text": [
            "\r 62%|██████▎   | 45/72 [01:19<00:38,  1.44s/it]"
          ],
          "name": "stderr"
        },
        {
          "output_type": "stream",
          "text": [
            "Texts:\n",
            "/content/drive/My Drive/DOC-NER/Merrilllynch_CRA/Richard K Kral.png\n",
            "Richard K Kral.png\n"
          ],
          "name": "stdout"
        },
        {
          "output_type": "stream",
          "text": [
            "\r 64%|██████▍   | 46/72 [01:20<00:35,  1.37s/it]"
          ],
          "name": "stderr"
        },
        {
          "output_type": "stream",
          "text": [
            "Texts:\n",
            "/content/drive/My Drive/DOC-NER/Merrilllynch_CRA/Peter E Trosper.png\n",
            "Peter E Trosper.png\n"
          ],
          "name": "stdout"
        },
        {
          "output_type": "stream",
          "text": [
            "\r 65%|██████▌   | 47/72 [01:21<00:32,  1.32s/it]"
          ],
          "name": "stderr"
        },
        {
          "output_type": "stream",
          "text": [
            "Texts:\n",
            "/content/drive/My Drive/DOC-NER/Merrilllynch_CRA/Harold L Brooks.pdf\n",
            "Harold L Brooks.pdf\n",
            "Texts:\n"
          ],
          "name": "stdout"
        },
        {
          "output_type": "stream",
          "text": [
            "\r 67%|██████▋   | 48/72 [01:23<00:36,  1.52s/it]"
          ],
          "name": "stderr"
        },
        {
          "output_type": "stream",
          "text": [
            "Texts:\n",
            "/content/drive/My Drive/DOC-NER/Merrilllynch_CRA/Hae F Taylor.pdf\n",
            "Hae F Taylor.pdf\n",
            "Texts:\n"
          ],
          "name": "stdout"
        },
        {
          "output_type": "stream",
          "text": [
            "\r 68%|██████▊   | 49/72 [01:25<00:37,  1.63s/it]"
          ],
          "name": "stderr"
        },
        {
          "output_type": "stream",
          "text": [
            "Texts:\n",
            "/content/drive/My Drive/DOC-NER/Merrilllynch_CRA/Gina F Johnson.pdf\n",
            "Gina F Johnson.pdf\n",
            "Texts:\n"
          ],
          "name": "stdout"
        },
        {
          "output_type": "stream",
          "text": [
            "\r 69%|██████▉   | 50/72 [01:27<00:38,  1.76s/it]"
          ],
          "name": "stderr"
        },
        {
          "output_type": "stream",
          "text": [
            "Texts:\n",
            "/content/drive/My Drive/DOC-NER/Merrilllynch_CRA/Eula R Tucker.pdf\n",
            "Eula R Tucker.pdf\n",
            "Texts:\n"
          ],
          "name": "stdout"
        },
        {
          "output_type": "stream",
          "text": [
            "\r 71%|███████   | 51/72 [01:29<00:37,  1.79s/it]"
          ],
          "name": "stderr"
        },
        {
          "output_type": "stream",
          "text": [
            "Texts:\n",
            "/content/drive/My Drive/DOC-NER/Merrilllynch_CRA/Edna T Peres.pdf\n",
            "Edna T Peres.pdf\n",
            "Texts:\n"
          ],
          "name": "stdout"
        },
        {
          "output_type": "stream",
          "text": [
            "\r 72%|███████▏  | 52/72 [01:31<00:36,  1.84s/it]"
          ],
          "name": "stderr"
        },
        {
          "output_type": "stream",
          "text": [
            "Texts:\n",
            "/content/drive/My Drive/DOC-NER/Merrilllynch_CRA/Edith D Alexander.pdf\n",
            "Edith D Alexander.pdf\n",
            "Texts:\n"
          ],
          "name": "stdout"
        },
        {
          "output_type": "stream",
          "text": [
            "\r 74%|███████▎  | 53/72 [01:33<00:35,  1.89s/it]"
          ],
          "name": "stderr"
        },
        {
          "output_type": "stream",
          "text": [
            "Texts:\n",
            "/content/drive/My Drive/DOC-NER/Merrilllynch_CRA/Diana J Alarcon.pdf\n",
            "Diana J Alarcon.pdf\n",
            "Texts:\n"
          ],
          "name": "stdout"
        },
        {
          "output_type": "stream",
          "text": [
            "\r 75%|███████▌  | 54/72 [01:35<00:33,  1.87s/it]"
          ],
          "name": "stderr"
        },
        {
          "output_type": "stream",
          "text": [
            "Texts:\n",
            "/content/drive/My Drive/DOC-NER/Merrilllynch_CRA/Connie J Llanos.pdf\n",
            "Connie J Llanos.pdf\n",
            "Texts:\n"
          ],
          "name": "stdout"
        },
        {
          "output_type": "stream",
          "text": [
            "\r 76%|███████▋  | 55/72 [01:37<00:32,  1.90s/it]"
          ],
          "name": "stderr"
        },
        {
          "output_type": "stream",
          "text": [
            "Texts:\n",
            "/content/drive/My Drive/DOC-NER/Merrilllynch_CRA/Cletus S Russo.pdf\n",
            "Cletus S Russo.pdf\n",
            "Texts:\n"
          ],
          "name": "stdout"
        },
        {
          "output_type": "stream",
          "text": [
            "\r 78%|███████▊  | 56/72 [01:39<00:31,  1.97s/it]"
          ],
          "name": "stderr"
        },
        {
          "output_type": "stream",
          "text": [
            "Texts:\n",
            "/content/drive/My Drive/DOC-NER/Merrilllynch_CRA/Cheryl J Taylor.pdf\n",
            "Cheryl J Taylor.pdf\n",
            "Texts:\n"
          ],
          "name": "stdout"
        },
        {
          "output_type": "stream",
          "text": [
            "\r 79%|███████▉  | 57/72 [01:41<00:29,  1.97s/it]"
          ],
          "name": "stderr"
        },
        {
          "output_type": "stream",
          "text": [
            "Texts:\n",
            "/content/drive/My Drive/DOC-NER/Merrilllynch_CRA/Candy T Lee.pdf\n",
            "Candy T Lee.pdf\n",
            "Texts:\n"
          ],
          "name": "stdout"
        },
        {
          "output_type": "stream",
          "text": [
            "\r 81%|████████  | 58/72 [01:43<00:27,  1.93s/it]"
          ],
          "name": "stderr"
        },
        {
          "output_type": "stream",
          "text": [
            "Texts:\n",
            "/content/drive/My Drive/DOC-NER/Merrilllynch_CRA/Allan A Cook.png\n",
            "Allan A Cook.png\n"
          ],
          "name": "stdout"
        },
        {
          "output_type": "stream",
          "text": [
            "\r 82%|████████▏ | 59/72 [01:44<00:20,  1.58s/it]"
          ],
          "name": "stderr"
        },
        {
          "output_type": "stream",
          "text": [
            "Texts:\n",
            "/content/drive/My Drive/DOC-NER/Merrilllynch_CRA/Allan A Cook (1).png\n",
            "Allan A Cook (1).png\n"
          ],
          "name": "stdout"
        },
        {
          "output_type": "stream",
          "text": [
            "\r 83%|████████▎ | 60/72 [01:45<00:17,  1.42s/it]"
          ],
          "name": "stderr"
        },
        {
          "output_type": "stream",
          "text": [
            "Texts:\n",
            "/content/drive/My Drive/DOC-NER/Merrilllynch_CRA/Adrian Clemens.png\n",
            "Adrian Clemens.png\n"
          ],
          "name": "stdout"
        },
        {
          "output_type": "stream",
          "text": [
            "\r 85%|████████▍ | 61/72 [01:46<00:14,  1.33s/it]"
          ],
          "name": "stderr"
        },
        {
          "output_type": "stream",
          "text": [
            "Texts:\n",
            "/content/drive/My Drive/DOC-NER/Schwab_IRA/Bobby_J_Cole_.pdf\n",
            "Bobby_J_Cole_.pdf\n",
            "Texts:\n"
          ],
          "name": "stdout"
        },
        {
          "output_type": "stream",
          "text": [
            "\r 86%|████████▌ | 62/72 [01:50<00:20,  2.05s/it]"
          ],
          "name": "stderr"
        },
        {
          "output_type": "stream",
          "text": [
            "Texts:\n",
            "/content/drive/My Drive/DOC-NER/Schwab_IRA/Thomas_L_Dodds_.pdf\n",
            "Thomas_L_Dodds_.pdf\n",
            "Texts:\n"
          ],
          "name": "stdout"
        },
        {
          "output_type": "stream",
          "text": [
            "\r 88%|████████▊ | 63/72 [01:53<00:22,  2.51s/it]"
          ],
          "name": "stderr"
        },
        {
          "output_type": "stream",
          "text": [
            "Texts:\n",
            "/content/drive/My Drive/DOC-NER/Schwab_IRA/Tammy_M_Pereira_.pdf\n",
            "Tammy_M_Pereira_.pdf\n",
            "Texts:\n"
          ],
          "name": "stdout"
        },
        {
          "output_type": "stream",
          "text": [
            "\r 89%|████████▉ | 64/72 [01:56<00:20,  2.51s/it]"
          ],
          "name": "stderr"
        },
        {
          "output_type": "stream",
          "text": [
            "Texts:\n",
            "/content/drive/My Drive/DOC-NER/Schwab_IRA/Richard_K_Forester_.pdf\n",
            "Richard_K_Forester_.pdf\n",
            "Texts:\n"
          ],
          "name": "stdout"
        },
        {
          "output_type": "stream",
          "text": [
            "\r 90%|█████████ | 65/72 [01:58<00:18,  2.59s/it]"
          ],
          "name": "stderr"
        },
        {
          "output_type": "stream",
          "text": [
            "Texts:\n",
            "/content/drive/My Drive/DOC-NER/Schwab_IRA/James_B_Adams_.pdf\n",
            "James_B_Adams_.pdf\n",
            "Texts:\n"
          ],
          "name": "stdout"
        },
        {
          "output_type": "stream",
          "text": [
            "\r 92%|█████████▏| 66/72 [02:01<00:15,  2.56s/it]"
          ],
          "name": "stderr"
        },
        {
          "output_type": "stream",
          "text": [
            "Texts:\n",
            "/content/drive/My Drive/DOC-NER/Schwab_IRA/Edmund_L_Kroeger_.pdf\n",
            "Edmund_L_Kroeger_.pdf\n",
            "Texts:\n"
          ],
          "name": "stdout"
        },
        {
          "output_type": "stream",
          "text": [
            "\r 93%|█████████▎| 67/72 [02:04<00:12,  2.59s/it]"
          ],
          "name": "stderr"
        },
        {
          "output_type": "stream",
          "text": [
            "Texts:\n",
            "/content/drive/My Drive/DOC-NER/Schwab_IRA/Donna_E_Warren_.pdf\n",
            "Donna_E_Warren_.pdf\n",
            "Texts:\n"
          ],
          "name": "stdout"
        },
        {
          "output_type": "stream",
          "text": [
            "\r 94%|█████████▍| 68/72 [02:06<00:10,  2.57s/it]"
          ],
          "name": "stderr"
        },
        {
          "output_type": "stream",
          "text": [
            "Texts:\n",
            "/content/drive/My Drive/DOC-NER/Schwab_IRA/Daniel_P_Woods_.pdf\n",
            "Daniel_P_Woods_.pdf\n",
            "Texts:\n"
          ],
          "name": "stdout"
        },
        {
          "output_type": "stream",
          "text": [
            "\r 96%|█████████▌| 69/72 [02:09<00:07,  2.56s/it]"
          ],
          "name": "stderr"
        },
        {
          "output_type": "stream",
          "text": [
            "Texts:\n",
            "/content/drive/My Drive/DOC-NER/Schwab_IRA/Jonathan_K_Sanchez_.pdf\n",
            "Jonathan_K_Sanchez_.pdf\n",
            "Texts:\n"
          ],
          "name": "stdout"
        },
        {
          "output_type": "stream",
          "text": [
            "\r 97%|█████████▋| 70/72 [02:11<00:05,  2.50s/it]"
          ],
          "name": "stderr"
        },
        {
          "output_type": "stream",
          "text": [
            "Texts:\n",
            "/content/drive/My Drive/DOC-NER/Schwab_IRA/Karen_A_Sliva_.pdf\n",
            "Karen_A_Sliva_.pdf\n",
            "Texts:\n"
          ],
          "name": "stdout"
        },
        {
          "output_type": "stream",
          "text": [
            "\r 99%|█████████▊| 71/72 [02:14<00:02,  2.53s/it]"
          ],
          "name": "stderr"
        },
        {
          "output_type": "stream",
          "text": [
            "Texts:\n",
            "/content/drive/My Drive/DOC-NER/Schwab_IRA/Patricia_J_Kim_.pdf\n",
            "Patricia_J_Kim_.pdf\n",
            "Texts:\n"
          ],
          "name": "stdout"
        },
        {
          "output_type": "stream",
          "text": [
            "100%|██████████| 72/72 [02:16<00:00,  1.90s/it]"
          ],
          "name": "stderr"
        },
        {
          "output_type": "stream",
          "text": [
            "Texts:\n"
          ],
          "name": "stdout"
        },
        {
          "output_type": "stream",
          "text": [
            "\n"
          ],
          "name": "stderr"
        }
      ]
    },
    {
      "cell_type": "code",
      "metadata": {
        "id": "fYyiP7drkalA",
        "colab_type": "code",
        "outputId": "e1337934-6941-44e8-f183-6935c8cdec59",
        "colab": {
          "base_uri": "https://localhost:8080/",
          "height": 54
        }
      },
      "source": [
        "print(extracted_text[0])"
      ],
      "execution_count": 23,
      "outputs": [
        {
          "output_type": "stream",
          "text": [
            "D Ameritrade Institutional Reset Form ACCOUNT TRANSFER FORM TO TRANSFER YOUR EXISTING ACCOUNT TO TD AMERITRADE Account # 896547896 Advisor Code 987456932 Case # 1 PLEASE ATTACH A COPY OF YOUR LATEST STATEMENT. TD AMERITRADE ACCOUNT INFORMATION Account Title/Registration: Zita J Rottman Social Security Number/Tax ID: Clearing Number 404711495 0188 Individual Personal Trust Limited Liability Company Roth IRA Qualified Retirement Plan (Non-Qualified) Employer Plan Type: Joint Estate Partnership/Investment Club SEP IRA Simple IRA UTMA/UGMA Corporate Traditional IRA/Rollover RA Coverdell ESA Beneficiary IRA Other: 2 INFORMATION ON THE ACCOUNT YOU ARE TRANSFERRING FROM Account Title/Registration as shown on your statement Account Number Zita JRottman 870214590 Name of Delivering Firm: NVDA Physical Address of Firm (no PO BOX): Telephone Number (required): 200 Crescent Ct #1200 (541) 754-3010 Individual Personal Trust Limited Liability Company Roth IRA Qualified Retirement Plan (Non-Qualified) Employer Plan Type Joint Estate Partnership/Investment Club SEP IRA Simple IRA Has SIMPLE IRA been funded for at least two years? Yes No UTMA/UGMA Corporate Traditional IRA/Rollover RA Coverdell ESA Beneficiary IRA Other: LIST THE ASSETS YOU WANT TO TRANSFER A. Transfer from an ACAT eligible Brokerage Firm, Bank, Insurance/Annuity Co., Trust Co., or Transfer Agent - Check box for full or partial transfer. For partial transfers, list descriptions of assets and shares. Unless otherwise indicated, TD Ameritrade will transfer in full. Please note - The ACAT system does not allow for liquidation requests. To place trades, please contact your current custodian prior to submitting the transfer request. Most banks, insurance/annuity, and trust companies require original wet-ink signature mailed to TD Ameritrade. If transferring in Alternative Investments, please obtain a copy of the Transfer In Only Alternative Investment Client Custody Agreement from your Advisor, the terms of which will apply to our custody of your Alternative Investments. No signature is required. Full Transfer - To transfer entire account, check box and Partial Transfer - List specific security. If bonds are being transferred, skip to Section 4 (if applicable), then to the Signature Section. please supply the Bond CUSIP. Description of Asset (Partial transfers only) Quantity (Indicate # of shares or \"ALL\") Description of Asset (Partial transfers only) Quantity indicate # of shares or \"ALL\") COST 300 JNJ 400 CSCO 1500 NVDA 300 For additional securities, see attached list. O Page 1 of 5 TDAI 9682 REV. 02/17 . Annuity/Life Insurance Policy: I have an annuity or life insurance policy I wish to liquidate and have the proceeds sent to TD Ameritrade. Please choose one option: Please redeem and terminate entire contract or policy on my behalf. I understand that penalties may apply. Please redeem and terminate entire contract or policy on my behalf. The entire contract or policy is penalty-free Please redeem only the penalty-free amount of $ Please withdraw a partial amount of $ The entire contract or policy is penalty-free. Certificates of Deposit (CDs): Redeem my CD immediately. I understand that penalties may apply for any withdrawals prior to maturity. Redeem my CD at maturity. Maturity date:_ Submit request at least 21 days prior to maturity. Please advise your bank not to roll over the CD to a new term. Dividend Reinvestment Plan: I am transferring positions in Book Entry form and liquidating accumulated fractional shares B. Transfer from a Mutual Fund company - Unless otherwise indicated, TD Ameritrade will transfer all shares in kind and reinvest your dividends and capital gains. I acknowledge that ineligible proprietary mutual funds and all no-load money market funds cannot be transferred in kind and must be liquidated by the mutual fund company. Fund Name or Symbol Fund Account Number (Indicate # of shares or \"AN) Quantity Credit Gains and Dividends as (Check one if transferring shares) COST 300 Reinvested shares Cash CSCO 1500 Reinvested shares Cash Handling (Check one) Transfer my shares Sell my shares, transfer cash Transfer my shares Sell my shares, transfer cash Transfer my shares Sell my shares, transfer cash Transfer my shares Sell my shares, transfer cash Transfer my shares Sell my shares transfer cash JNJ 400 Reinvested shares Cash NVDA 300 Reinvested shares Cash Reinvested shares Cash For additional mutual funds, see attached list. O To transfer Money Markets, please indicate the Money Market name or symbol if available: Liquidate Money Market: All Only: $ 790,000 Page 2 of 5 TDAI 9682 REV. 02/17 \n"
          ],
          "name": "stdout"
        }
      ]
    },
    {
      "cell_type": "code",
      "metadata": {
        "id": "UqWfZP0rY74q",
        "colab_type": "code",
        "colab": {}
      },
      "source": [
        "master_df = pd.DataFrame({'file_name' : customer_file_name,\n",
        "                          'extracted_text' : extracted_text})"
      ],
      "execution_count": 0,
      "outputs": []
    },
    {
      "cell_type": "code",
      "metadata": {
        "id": "ZokbaOi0yF7Y",
        "colab_type": "code",
        "outputId": "3afc9877-e815-4395-d6e8-94e5ae826ae0",
        "colab": {
          "base_uri": "https://localhost:8080/",
          "height": 195
        }
      },
      "source": [
        "master_df.head()"
      ],
      "execution_count": 25,
      "outputs": [
        {
          "output_type": "execute_result",
          "data": {
            "text/html": [
              "<div>\n",
              "<style scoped>\n",
              "    .dataframe tbody tr th:only-of-type {\n",
              "        vertical-align: middle;\n",
              "    }\n",
              "\n",
              "    .dataframe tbody tr th {\n",
              "        vertical-align: top;\n",
              "    }\n",
              "\n",
              "    .dataframe thead th {\n",
              "        text-align: right;\n",
              "    }\n",
              "</style>\n",
              "<table border=\"1\" class=\"dataframe\">\n",
              "  <thead>\n",
              "    <tr style=\"text-align: right;\">\n",
              "      <th></th>\n",
              "      <th>file_name</th>\n",
              "      <th>extracted_text</th>\n",
              "    </tr>\n",
              "  </thead>\n",
              "  <tbody>\n",
              "    <tr>\n",
              "      <th>0</th>\n",
              "      <td>Zita J Rottman_.pdf</td>\n",
              "      <td>D Ameritrade Institutional Reset Form ACCOUNT ...</td>\n",
              "    </tr>\n",
              "    <tr>\n",
              "      <th>1</th>\n",
              "      <td>Teresa R Woods_.pdf</td>\n",
              "      <td>D Ameritrade Institutional Reset Form ACCOUNT ...</td>\n",
              "    </tr>\n",
              "    <tr>\n",
              "      <th>2</th>\n",
              "      <td>Susan T Green_.pdf</td>\n",
              "      <td>D Ameritrade Institutional Reset Form ACCOUNT ...</td>\n",
              "    </tr>\n",
              "    <tr>\n",
              "      <th>3</th>\n",
              "      <td>Robert R Sheppard_.pdf</td>\n",
              "      <td>D Ameritrade Institutional Reset Form ACCOUNT ...</td>\n",
              "    </tr>\n",
              "    <tr>\n",
              "      <th>4</th>\n",
              "      <td>Robert R Allan_.pdf</td>\n",
              "      <td>D Ameritrade Institutional Reset Form ACCOUNT ...</td>\n",
              "    </tr>\n",
              "  </tbody>\n",
              "</table>\n",
              "</div>"
            ],
            "text/plain": [
              "                file_name                                     extracted_text\n",
              "0     Zita J Rottman_.pdf  D Ameritrade Institutional Reset Form ACCOUNT ...\n",
              "1     Teresa R Woods_.pdf  D Ameritrade Institutional Reset Form ACCOUNT ...\n",
              "2      Susan T Green_.pdf  D Ameritrade Institutional Reset Form ACCOUNT ...\n",
              "3  Robert R Sheppard_.pdf  D Ameritrade Institutional Reset Form ACCOUNT ...\n",
              "4     Robert R Allan_.pdf  D Ameritrade Institutional Reset Form ACCOUNT ..."
            ]
          },
          "metadata": {
            "tags": []
          },
          "execution_count": 25
        }
      ]
    },
    {
      "cell_type": "code",
      "metadata": {
        "id": "bVoTrAiO13HD",
        "colab_type": "code",
        "colab": {}
      },
      "source": [
        "#master_df.to_csv('master_data.csv', encoding='utf-8', index=False)"
      ],
      "execution_count": 0,
      "outputs": []
    },
    {
      "cell_type": "code",
      "metadata": {
        "id": "Prj-K2mw8rx1",
        "colab_type": "code",
        "colab": {}
      },
      "source": [
        "master_df['FILE NAME'] = master_df['file_name'].apply(lambda x: Path(x).stem)"
      ],
      "execution_count": 0,
      "outputs": []
    },
    {
      "cell_type": "code",
      "metadata": {
        "id": "o8eDKP5G9Gjo",
        "colab_type": "code",
        "outputId": "20057dc4-811d-4225-d8f6-c90bad8a7225",
        "colab": {
          "base_uri": "https://localhost:8080/",
          "height": 195
        }
      },
      "source": [
        "master_df.head()"
      ],
      "execution_count": 28,
      "outputs": [
        {
          "output_type": "execute_result",
          "data": {
            "text/html": [
              "<div>\n",
              "<style scoped>\n",
              "    .dataframe tbody tr th:only-of-type {\n",
              "        vertical-align: middle;\n",
              "    }\n",
              "\n",
              "    .dataframe tbody tr th {\n",
              "        vertical-align: top;\n",
              "    }\n",
              "\n",
              "    .dataframe thead th {\n",
              "        text-align: right;\n",
              "    }\n",
              "</style>\n",
              "<table border=\"1\" class=\"dataframe\">\n",
              "  <thead>\n",
              "    <tr style=\"text-align: right;\">\n",
              "      <th></th>\n",
              "      <th>file_name</th>\n",
              "      <th>extracted_text</th>\n",
              "      <th>FILE NAME</th>\n",
              "    </tr>\n",
              "  </thead>\n",
              "  <tbody>\n",
              "    <tr>\n",
              "      <th>0</th>\n",
              "      <td>Zita J Rottman_.pdf</td>\n",
              "      <td>D Ameritrade Institutional Reset Form ACCOUNT ...</td>\n",
              "      <td>Zita J Rottman_</td>\n",
              "    </tr>\n",
              "    <tr>\n",
              "      <th>1</th>\n",
              "      <td>Teresa R Woods_.pdf</td>\n",
              "      <td>D Ameritrade Institutional Reset Form ACCOUNT ...</td>\n",
              "      <td>Teresa R Woods_</td>\n",
              "    </tr>\n",
              "    <tr>\n",
              "      <th>2</th>\n",
              "      <td>Susan T Green_.pdf</td>\n",
              "      <td>D Ameritrade Institutional Reset Form ACCOUNT ...</td>\n",
              "      <td>Susan T Green_</td>\n",
              "    </tr>\n",
              "    <tr>\n",
              "      <th>3</th>\n",
              "      <td>Robert R Sheppard_.pdf</td>\n",
              "      <td>D Ameritrade Institutional Reset Form ACCOUNT ...</td>\n",
              "      <td>Robert R Sheppard_</td>\n",
              "    </tr>\n",
              "    <tr>\n",
              "      <th>4</th>\n",
              "      <td>Robert R Allan_.pdf</td>\n",
              "      <td>D Ameritrade Institutional Reset Form ACCOUNT ...</td>\n",
              "      <td>Robert R Allan_</td>\n",
              "    </tr>\n",
              "  </tbody>\n",
              "</table>\n",
              "</div>"
            ],
            "text/plain": [
              "                file_name  ...           FILE NAME\n",
              "0     Zita J Rottman_.pdf  ...     Zita J Rottman_\n",
              "1     Teresa R Woods_.pdf  ...     Teresa R Woods_\n",
              "2      Susan T Green_.pdf  ...      Susan T Green_\n",
              "3  Robert R Sheppard_.pdf  ...  Robert R Sheppard_\n",
              "4     Robert R Allan_.pdf  ...     Robert R Allan_\n",
              "\n",
              "[5 rows x 3 columns]"
            ]
          },
          "metadata": {
            "tags": []
          },
          "execution_count": 28
        }
      ]
    },
    {
      "cell_type": "code",
      "metadata": {
        "id": "qjai4y619IQR",
        "colab_type": "code",
        "colab": {}
      },
      "source": [
        "ira_df = pd.read_csv('/content/drive/My Drive/DOC-NER/IRA.csv')"
      ],
      "execution_count": 0,
      "outputs": []
    },
    {
      "cell_type": "code",
      "metadata": {
        "id": "-kn_3XCW9nzl",
        "colab_type": "code",
        "outputId": "a140b214-d1be-4481-8bd9-36ab45a37697",
        "colab": {
          "base_uri": "https://localhost:8080/",
          "height": 534
        }
      },
      "source": [
        "ira_df.head()"
      ],
      "execution_count": 30,
      "outputs": [
        {
          "output_type": "execute_result",
          "data": {
            "text/html": [
              "<div>\n",
              "<style scoped>\n",
              "    .dataframe tbody tr th:only-of-type {\n",
              "        vertical-align: middle;\n",
              "    }\n",
              "\n",
              "    .dataframe tbody tr th {\n",
              "        vertical-align: top;\n",
              "    }\n",
              "\n",
              "    .dataframe thead th {\n",
              "        text-align: right;\n",
              "    }\n",
              "</style>\n",
              "<table border=\"1\" class=\"dataframe\">\n",
              "  <thead>\n",
              "    <tr style=\"text-align: right;\">\n",
              "      <th></th>\n",
              "      <th>SLNo.</th>\n",
              "      <th>CATEGORY</th>\n",
              "      <th>FILE NAME</th>\n",
              "      <th>FILE SIZE</th>\n",
              "      <th>TITLE</th>\n",
              "      <th>DESCRIPTION</th>\n",
              "      <th>CLIENT</th>\n",
              "      <th>ADDRESS</th>\n",
              "      <th>SOCIAL SECURITY NO</th>\n",
              "      <th>RELATIONSHIP NO.</th>\n",
              "      <th>ACC NO</th>\n",
              "      <th>ACC TYPE</th>\n",
              "      <th>PHONE</th>\n",
              "      <th>CITY</th>\n",
              "      <th>EMAIL</th>\n",
              "    </tr>\n",
              "  </thead>\n",
              "  <tbody>\n",
              "    <tr>\n",
              "      <th>0</th>\n",
              "      <td>0</td>\n",
              "      <td>Merrilllynch_CRA</td>\n",
              "      <td>Adrian Clemens</td>\n",
              "      <td>298 KB</td>\n",
              "      <td>Client Account Transfer Form</td>\n",
              "      <td>Use this form to transfer all or a portion of ...</td>\n",
              "      <td>Daniel C Paul</td>\n",
              "      <td>2 Seaport Ln</td>\n",
              "      <td>545401875</td>\n",
              "      <td>335-0012</td>\n",
              "      <td>89101454</td>\n",
              "      <td>IRA</td>\n",
              "      <td>5417542545</td>\n",
              "      <td>Boston, MA,02210</td>\n",
              "      <td>Adrian@gmail.com</td>\n",
              "    </tr>\n",
              "    <tr>\n",
              "      <th>1</th>\n",
              "      <td>1</td>\n",
              "      <td>Merrilllynch_CRA</td>\n",
              "      <td>Peter E Trosper</td>\n",
              "      <td>295 KB</td>\n",
              "      <td>Client Account Transfer Form</td>\n",
              "      <td>Use this form to transfer all or a portion of ...</td>\n",
              "      <td>Grace P Lane</td>\n",
              "      <td>450 Park Ave #18</td>\n",
              "      <td>593746465</td>\n",
              "      <td>335-8978</td>\n",
              "      <td>66667894</td>\n",
              "      <td>IRA</td>\n",
              "      <td>5417543022</td>\n",
              "      <td>New York, NY,10022</td>\n",
              "      <td>pater@gmail.com</td>\n",
              "    </tr>\n",
              "    <tr>\n",
              "      <th>2</th>\n",
              "      <td>2</td>\n",
              "      <td>Merrilllynch_CRA</td>\n",
              "      <td>Richard K Kral</td>\n",
              "      <td>298 KB</td>\n",
              "      <td>Client Account Transfer Form</td>\n",
              "      <td>Use this form to transfer all or a portion of ...</td>\n",
              "      <td>Jeanette B Hughes</td>\n",
              "      <td>340 Madison Ave</td>\n",
              "      <td>344466775</td>\n",
              "      <td>335-2125</td>\n",
              "      <td>79703212</td>\n",
              "      <td>IRA</td>\n",
              "      <td>5417543888</td>\n",
              "      <td>New York, NY,10173</td>\n",
              "      <td>Richard@gmail.com</td>\n",
              "    </tr>\n",
              "    <tr>\n",
              "      <th>3</th>\n",
              "      <td>3</td>\n",
              "      <td>Merrilllynch_CRA</td>\n",
              "      <td>Robert E Regan</td>\n",
              "      <td>298 KB</td>\n",
              "      <td>Client Account Transfer Form</td>\n",
              "      <td>Use this form to transfer all or a portion of ...</td>\n",
              "      <td>Grace M Gracia</td>\n",
              "      <td>Search Results 11988 El Camino Real #600</td>\n",
              "      <td>417414892</td>\n",
              "      <td>335-0021</td>\n",
              "      <td>NaN</td>\n",
              "      <td>IRA</td>\n",
              "      <td>5417543010</td>\n",
              "      <td>San Diego, CA,92130</td>\n",
              "      <td>Robert@gmail.com</td>\n",
              "    </tr>\n",
              "    <tr>\n",
              "      <th>4</th>\n",
              "      <td>4</td>\n",
              "      <td>Merrilllynch_CRA</td>\n",
              "      <td>Rose R Webb</td>\n",
              "      <td>298 KB</td>\n",
              "      <td>Client Account Transfer Form</td>\n",
              "      <td>Use this form to transfer all or a portion of ...</td>\n",
              "      <td>Donald S Cordova</td>\n",
              "      <td>11150CA-2 #200</td>\n",
              "      <td>539236318</td>\n",
              "      <td>335-4587</td>\n",
              "      <td>22560564</td>\n",
              "      <td>IRA</td>\n",
              "      <td>5417545879</td>\n",
              "      <td>Los Angeles, CA,90025</td>\n",
              "      <td>Rose@gmail.com</td>\n",
              "    </tr>\n",
              "  </tbody>\n",
              "</table>\n",
              "</div>"
            ],
            "text/plain": [
              "   SLNo.          CATEGORY  ...                   CITY              EMAIL\n",
              "0      0  Merrilllynch_CRA  ...       Boston, MA,02210   Adrian@gmail.com\n",
              "1      1  Merrilllynch_CRA  ...     New York, NY,10022    pater@gmail.com\n",
              "2      2  Merrilllynch_CRA  ...     New York, NY,10173  Richard@gmail.com\n",
              "3      3  Merrilllynch_CRA  ...    San Diego, CA,92130   Robert@gmail.com\n",
              "4      4  Merrilllynch_CRA  ...  Los Angeles, CA,90025     Rose@gmail.com\n",
              "\n",
              "[5 rows x 15 columns]"
            ]
          },
          "metadata": {
            "tags": []
          },
          "execution_count": 30
        }
      ]
    },
    {
      "cell_type": "code",
      "metadata": {
        "id": "EDQKZ2h5--wA",
        "colab_type": "code",
        "colab": {}
      },
      "source": [
        "final_df = pd.merge(master_df, ira_df, on='FILE NAME')"
      ],
      "execution_count": 0,
      "outputs": []
    },
    {
      "cell_type": "code",
      "metadata": {
        "id": "lv0AWj92_2-K",
        "colab_type": "code",
        "colab": {}
      },
      "source": [
        "final_df.columns = ['file_name', 'extracted_text', 'FILE_NAME', 'SLNo', 'CATEGORY',\n",
        "       'FILE_SIZE', 'TITLE', 'DESCRIPTION', 'CLIENT', 'ADDRESS',\n",
        "       'SOCIAL_SECURITY_NO', 'RELATIONSHIP_NO', 'ACC_NO', 'ACC_TYPE', 'PHONE',\n",
        "       'CITY', 'EMAIL']"
      ],
      "execution_count": 0,
      "outputs": []
    },
    {
      "cell_type": "code",
      "metadata": {
        "id": "-1TzIh3M_fqR",
        "colab_type": "code",
        "colab": {}
      },
      "source": [
        "#final_df.to_csv('final_df.csv', encoding='utf-8', index=False)"
      ],
      "execution_count": 0,
      "outputs": []
    },
    {
      "cell_type": "code",
      "metadata": {
        "id": "HrpGvUXzCZgq",
        "colab_type": "code",
        "colab": {}
      },
      "source": [
        "final_df['PHONE'] = final_df['PHONE'].apply(lambda x: '('+str(x)[:3]+')'+' '+str(x)[3:6]+'-'+str(x)[6:10])"
      ],
      "execution_count": 0,
      "outputs": []
    },
    {
      "cell_type": "code",
      "metadata": {
        "id": "kd3eNsFKLaPL",
        "colab_type": "code",
        "colab": {}
      },
      "source": [
        "for i in final_df.columns:\n",
        "    final_df[i] = final_df[i].astype('str') "
      ],
      "execution_count": 0,
      "outputs": []
    },
    {
      "cell_type": "code",
      "metadata": {
        "id": "PIqsey9mC3QZ",
        "colab_type": "code",
        "colab": {}
      },
      "source": [
        "final_df.to_csv('final_df.csv', encoding='utf-8', index=False)"
      ],
      "execution_count": 0,
      "outputs": []
    },
    {
      "cell_type": "code",
      "metadata": {
        "id": "H75dtDfaC-T1",
        "colab_type": "code",
        "outputId": "c3f7b7ac-2fb7-4858-bddd-8040fff98007",
        "colab": {
          "base_uri": "https://localhost:8080/",
          "height": 319
        }
      },
      "source": [
        "final_df.dtypes"
      ],
      "execution_count": 37,
      "outputs": [
        {
          "output_type": "execute_result",
          "data": {
            "text/plain": [
              "file_name             object\n",
              "extracted_text        object\n",
              "FILE_NAME             object\n",
              "SLNo                  object\n",
              "CATEGORY              object\n",
              "FILE_SIZE             object\n",
              "TITLE                 object\n",
              "DESCRIPTION           object\n",
              "CLIENT                object\n",
              "ADDRESS               object\n",
              "SOCIAL_SECURITY_NO    object\n",
              "RELATIONSHIP_NO       object\n",
              "ACC_NO                object\n",
              "ACC_TYPE              object\n",
              "PHONE                 object\n",
              "CITY                  object\n",
              "EMAIL                 object\n",
              "dtype: object"
            ]
          },
          "metadata": {
            "tags": []
          },
          "execution_count": 37
        }
      ]
    },
    {
      "cell_type": "markdown",
      "metadata": {
        "id": "743VMZXzHTH8",
        "colab_type": "text"
      },
      "source": [
        "# NER"
      ]
    },
    {
      "cell_type": "code",
      "metadata": {
        "id": "Y0sSdNtP8HOi",
        "colab_type": "code",
        "colab": {}
      },
      "source": [
        "import itertools"
      ],
      "execution_count": 0,
      "outputs": []
    },
    {
      "cell_type": "code",
      "metadata": {
        "id": "8uMv3mT92GGD",
        "colab_type": "code",
        "colab": {}
      },
      "source": [
        "final_df = pd.read_csv(\"final_df.csv\")\n",
        "for i in final_df.columns:\n",
        "    final_df[i] = final_df[i].astype('str') "
      ],
      "execution_count": 0,
      "outputs": []
    },
    {
      "cell_type": "code",
      "metadata": {
        "id": "QlHru7xs8Y_o",
        "colab_type": "code",
        "colab": {}
      },
      "source": [
        "final_df.columns = ['file_name', 'extracted_text', 'FILE_NAME', 'SLNo', 'CATEGORY',\n",
        "       'FILE_SIZE', 'TITLE', 'DESCRIPTION', 'CLIENT', 'ADDRESS',\n",
        "       'SOCIAL_SECURITY_NO', 'RELATIONSHIP_NO', 'ACC_NO', 'ACC_TYPE', 'PHONE',\n",
        "       'CITY', 'EMAIL']"
      ],
      "execution_count": 0,
      "outputs": []
    },
    {
      "cell_type": "code",
      "metadata": {
        "id": "PdbKM0qgKmHA",
        "colab_type": "code",
        "colab": {}
      },
      "source": [
        "final_df['TITLE'] = final_df['TITLE'].apply(lambda x: x.replace('IRA ', ''))"
      ],
      "execution_count": 0,
      "outputs": []
    },
    {
      "cell_type": "code",
      "metadata": {
        "id": "8T_PR45dK1Bn",
        "colab_type": "code",
        "outputId": "f0fff7af-2d14-4867-f103-c9074917e892",
        "colab": {
          "base_uri": "https://localhost:8080/",
          "height": 1000
        }
      },
      "source": [
        "final_df"
      ],
      "execution_count": 42,
      "outputs": [
        {
          "output_type": "execute_result",
          "data": {
            "text/html": [
              "<div>\n",
              "<style scoped>\n",
              "    .dataframe tbody tr th:only-of-type {\n",
              "        vertical-align: middle;\n",
              "    }\n",
              "\n",
              "    .dataframe tbody tr th {\n",
              "        vertical-align: top;\n",
              "    }\n",
              "\n",
              "    .dataframe thead th {\n",
              "        text-align: right;\n",
              "    }\n",
              "</style>\n",
              "<table border=\"1\" class=\"dataframe\">\n",
              "  <thead>\n",
              "    <tr style=\"text-align: right;\">\n",
              "      <th></th>\n",
              "      <th>file_name</th>\n",
              "      <th>extracted_text</th>\n",
              "      <th>FILE_NAME</th>\n",
              "      <th>SLNo</th>\n",
              "      <th>CATEGORY</th>\n",
              "      <th>FILE_SIZE</th>\n",
              "      <th>TITLE</th>\n",
              "      <th>DESCRIPTION</th>\n",
              "      <th>CLIENT</th>\n",
              "      <th>ADDRESS</th>\n",
              "      <th>SOCIAL_SECURITY_NO</th>\n",
              "      <th>RELATIONSHIP_NO</th>\n",
              "      <th>ACC_NO</th>\n",
              "      <th>ACC_TYPE</th>\n",
              "      <th>PHONE</th>\n",
              "      <th>CITY</th>\n",
              "      <th>EMAIL</th>\n",
              "    </tr>\n",
              "  </thead>\n",
              "  <tbody>\n",
              "    <tr>\n",
              "      <th>0</th>\n",
              "      <td>Zita J Rottman_.pdf</td>\n",
              "      <td>D Ameritrade Institutional Reset Form ACCOUNT ...</td>\n",
              "      <td>Zita J Rottman_</td>\n",
              "      <td>40</td>\n",
              "      <td>Ameritrade Institutional</td>\n",
              "      <td>142 KB</td>\n",
              "      <td>ACCOUNT TRANSFER FORM</td>\n",
              "      <td>A. Transfer from an ACAT eligible Brokerage Fi...</td>\n",
              "      <td>Zita J Rottman</td>\n",
              "      <td>200 Crescent Ct#1200</td>\n",
              "      <td>404711495</td>\n",
              "      <td>nan</td>\n",
              "      <td>870214590</td>\n",
              "      <td>NVDA</td>\n",
              "      <td>(541) 754-3010</td>\n",
              "      <td>nan</td>\n",
              "      <td>nan</td>\n",
              "    </tr>\n",
              "    <tr>\n",
              "      <th>1</th>\n",
              "      <td>Teresa R Woods_.pdf</td>\n",
              "      <td>D Ameritrade Institutional Reset Form ACCOUNT ...</td>\n",
              "      <td>Teresa R Woods_</td>\n",
              "      <td>59</td>\n",
              "      <td>Ameritrade Institutional</td>\n",
              "      <td>142 KB</td>\n",
              "      <td>ACCOUNT TRANSFER FORM</td>\n",
              "      <td>A. Transfer from an ACAT eligible Brokerage Fi...</td>\n",
              "      <td>Teresa R Woods</td>\n",
              "      <td>3403 Richards Avenue</td>\n",
              "      <td>139394344</td>\n",
              "      <td>nan</td>\n",
              "      <td>875032122</td>\n",
              "      <td>BABA</td>\n",
              "      <td>(541) 754-1100</td>\n",
              "      <td>nan</td>\n",
              "      <td>nan</td>\n",
              "    </tr>\n",
              "    <tr>\n",
              "      <th>2</th>\n",
              "      <td>Susan T Green_.pdf</td>\n",
              "      <td>D Ameritrade Institutional Reset Form ACCOUNT ...</td>\n",
              "      <td>Susan T Green_</td>\n",
              "      <td>28</td>\n",
              "      <td>Ameritrade Institutional</td>\n",
              "      <td>142 KB</td>\n",
              "      <td>ACCOUNT TRANSFER FORM</td>\n",
              "      <td>A. Transfer from an ACAT eligible Brokerage Fi...</td>\n",
              "      <td>Susan T Green</td>\n",
              "      <td>3116 Wright Court</td>\n",
              "      <td>517144655</td>\n",
              "      <td>nan</td>\n",
              "      <td>856901266</td>\n",
              "      <td>TGT</td>\n",
              "      <td>(541) 754-3044</td>\n",
              "      <td>nan</td>\n",
              "      <td>nan</td>\n",
              "    </tr>\n",
              "    <tr>\n",
              "      <th>3</th>\n",
              "      <td>Robert R Sheppard_.pdf</td>\n",
              "      <td>D Ameritrade Institutional Reset Form ACCOUNT ...</td>\n",
              "      <td>Robert R Sheppard_</td>\n",
              "      <td>27</td>\n",
              "      <td>Ameritrade Institutional</td>\n",
              "      <td>142 KB</td>\n",
              "      <td>ACCOUNT TRANSFER FORM</td>\n",
              "      <td>A. Transfer from an ACAT eligible Brokerage Fi...</td>\n",
              "      <td>Robert R Sheppard</td>\n",
              "      <td>3291 Hall Street</td>\n",
              "      <td>545401844</td>\n",
              "      <td>nan</td>\n",
              "      <td>987012777</td>\n",
              "      <td>NVDA</td>\n",
              "      <td>(541) 754-3222</td>\n",
              "      <td>nan</td>\n",
              "      <td>nan</td>\n",
              "    </tr>\n",
              "    <tr>\n",
              "      <th>4</th>\n",
              "      <td>Robert J Barr_.pdf</td>\n",
              "      <td>D Ameritrade Institutional Reset Form ACCOUNT ...</td>\n",
              "      <td>Robert J Barr_</td>\n",
              "      <td>26</td>\n",
              "      <td>Ameritrade Institutional</td>\n",
              "      <td>142 KB</td>\n",
              "      <td>ACCOUNT TRANSFER FORM</td>\n",
              "      <td>A. Transfer from an ACAT eligible Brokerage Fi...</td>\n",
              "      <td>Robert J Barr</td>\n",
              "      <td>4567 Willison Street</td>\n",
              "      <td>139394322</td>\n",
              "      <td>nan</td>\n",
              "      <td>875032188</td>\n",
              "      <td>BABA</td>\n",
              "      <td>(541) 754-3022</td>\n",
              "      <td>nan</td>\n",
              "      <td>nan</td>\n",
              "    </tr>\n",
              "    <tr>\n",
              "      <th>5</th>\n",
              "      <td>Pamela E Byrd_.pdf</td>\n",
              "      <td>D Ameritrade Institutional Reset Form ACCOUNT ...</td>\n",
              "      <td>Pamela E Byrd_</td>\n",
              "      <td>25</td>\n",
              "      <td>Ameritrade Institutional</td>\n",
              "      <td>142 KB</td>\n",
              "      <td>ACCOUNT TRANSFER FORM</td>\n",
              "      <td>A. Transfer from an ACAT eligible Brokerage Fi...</td>\n",
              "      <td>Pamela E Byrd</td>\n",
              "      <td>514 Stutler Lane</td>\n",
              "      <td>139394344</td>\n",
              "      <td>nan</td>\n",
              "      <td>875032122</td>\n",
              "      <td>GOOG</td>\n",
              "      <td>(541) 754-3033</td>\n",
              "      <td>nan</td>\n",
              "      <td>nan</td>\n",
              "    </tr>\n",
              "    <tr>\n",
              "      <th>6</th>\n",
              "      <td>Nora R Mills_.pdf</td>\n",
              "      <td>D Ameritrade Institutional Reset Form ACCOUNT ...</td>\n",
              "      <td>Nora R Mills_</td>\n",
              "      <td>57</td>\n",
              "      <td>Ameritrade Institutional</td>\n",
              "      <td>142 KB</td>\n",
              "      <td>ACCOUNT TRANSFER FORM</td>\n",
              "      <td>A. Transfer from an ACAT eligible Brokerage Fi...</td>\n",
              "      <td>Nora R Mills</td>\n",
              "      <td>4010 Mulberry Street</td>\n",
              "      <td>545401870</td>\n",
              "      <td>nan</td>\n",
              "      <td>987012344</td>\n",
              "      <td>JNJ</td>\n",
              "      <td>(541) 754-3055</td>\n",
              "      <td>nan</td>\n",
              "      <td>nan</td>\n",
              "    </tr>\n",
              "    <tr>\n",
              "      <th>7</th>\n",
              "      <td>Michael_C_Preston_.pdf</td>\n",
              "      <td>D Ameritrade Institutional Reset Form ACCOUNT ...</td>\n",
              "      <td>Michael_C_Preston_</td>\n",
              "      <td>48</td>\n",
              "      <td>Ameritrade Institutional</td>\n",
              "      <td>142 KB</td>\n",
              "      <td>ACCOUNT TRANSFER FORM</td>\n",
              "      <td>A. Transfer from an ACAT eligible Brokerage Fi...</td>\n",
              "      <td>Michael C Preston</td>\n",
              "      <td>4645 Hope Street</td>\n",
              "      <td>139394339</td>\n",
              "      <td>nan</td>\n",
              "      <td>875032106</td>\n",
              "      <td>BBY</td>\n",
              "      <td>(541) 754-3044</td>\n",
              "      <td>nan</td>\n",
              "      <td>nan</td>\n",
              "    </tr>\n",
              "    <tr>\n",
              "      <th>8</th>\n",
              "      <td>Mary H Craven_.pdf</td>\n",
              "      <td>D Ameritrade Institutional Reset Form ACCOUNT ...</td>\n",
              "      <td>Mary H Craven_</td>\n",
              "      <td>24</td>\n",
              "      <td>Ameritrade Institutional</td>\n",
              "      <td>142 KB</td>\n",
              "      <td>ACCOUNT TRANSFER FORM</td>\n",
              "      <td>A. Transfer from an ACAT eligible Brokerage Fi...</td>\n",
              "      <td>Mary H Craven</td>\n",
              "      <td>2397 Deans Lane</td>\n",
              "      <td>545401875</td>\n",
              "      <td>nan</td>\n",
              "      <td>987012322</td>\n",
              "      <td>JNJ</td>\n",
              "      <td>(541) 754-3055</td>\n",
              "      <td>nan</td>\n",
              "      <td>nan</td>\n",
              "    </tr>\n",
              "    <tr>\n",
              "      <th>9</th>\n",
              "      <td>Marie P Watkins_.pdf</td>\n",
              "      <td>D Ameritrade Institutional Reset Form ACCOUNT ...</td>\n",
              "      <td>Marie P Watkins_</td>\n",
              "      <td>38</td>\n",
              "      <td>Ameritrade Institutional</td>\n",
              "      <td>142 KB</td>\n",
              "      <td>ACCOUNT TRANSFER FORM</td>\n",
              "      <td>A. Transfer from an ACAT eligible Brokerage Fi...</td>\n",
              "      <td>Marie P Watkins</td>\n",
              "      <td>222 Berkeley St #15</td>\n",
              "      <td>517144661</td>\n",
              "      <td>nan</td>\n",
              "      <td>856901203</td>\n",
              "      <td>TGT</td>\n",
              "      <td>(541) 754-3012</td>\n",
              "      <td>nan</td>\n",
              "      <td>nan</td>\n",
              "    </tr>\n",
              "    <tr>\n",
              "      <th>10</th>\n",
              "      <td>Linda M Rice_.pdf</td>\n",
              "      <td>D Ameritrade Institutional Reset Form ACCOUNT ...</td>\n",
              "      <td>Linda M Rice_</td>\n",
              "      <td>56</td>\n",
              "      <td>Ameritrade Institutional</td>\n",
              "      <td>142 KB</td>\n",
              "      <td>ACCOUNT TRANSFER FORM</td>\n",
              "      <td>A. Transfer from an ACAT eligible Brokerage Fi...</td>\n",
              "      <td>Linda M Rice</td>\n",
              "      <td>4926 Hickory Heights Drive</td>\n",
              "      <td>404711411</td>\n",
              "      <td>nan</td>\n",
              "      <td>870214544</td>\n",
              "      <td>COST</td>\n",
              "      <td>(541) 754-2222</td>\n",
              "      <td>nan</td>\n",
              "      <td>nan</td>\n",
              "    </tr>\n",
              "    <tr>\n",
              "      <th>11</th>\n",
              "      <td>Lili J Thomas_.pdf</td>\n",
              "      <td>D Ameritrade Institutional Reset Form ACCOUNT ...</td>\n",
              "      <td>Lili J Thomas_</td>\n",
              "      <td>55</td>\n",
              "      <td>Ameritrade Institutional</td>\n",
              "      <td>142 KB</td>\n",
              "      <td>ACCOUNT TRANSFER FORM</td>\n",
              "      <td>A. Transfer from an ACAT eligible Brokerage Fi...</td>\n",
              "      <td>Lili J Thomas</td>\n",
              "      <td>3523 Skinner Hollow Road</td>\n",
              "      <td>404711411</td>\n",
              "      <td>nan</td>\n",
              "      <td>587102333</td>\n",
              "      <td>NFLX</td>\n",
              "      <td>(541) 754-1111</td>\n",
              "      <td>nan</td>\n",
              "      <td>nan</td>\n",
              "    </tr>\n",
              "    <tr>\n",
              "      <th>12</th>\n",
              "      <td>Kristen W Hamilton_.pdf</td>\n",
              "      <td>D Ameritrade Institutional Reset Form ACCOUNT ...</td>\n",
              "      <td>Kristen W Hamilton_</td>\n",
              "      <td>37</td>\n",
              "      <td>Ameritrade Institutional</td>\n",
              "      <td>142 KB</td>\n",
              "      <td>ACCOUNT TRANSFER FORM</td>\n",
              "      <td>A. Transfer from an ACAT eligible Brokerage Fi...</td>\n",
              "      <td>Kristen W Hamilton</td>\n",
              "      <td>1717 Arch St</td>\n",
              "      <td>139394339</td>\n",
              "      <td>nan</td>\n",
              "      <td>875032106</td>\n",
              "      <td>GOOG</td>\n",
              "      <td>(541) 754-3015</td>\n",
              "      <td>nan</td>\n",
              "      <td>nan</td>\n",
              "    </tr>\n",
              "    <tr>\n",
              "      <th>13</th>\n",
              "      <td>Joseph T Green_.pdf</td>\n",
              "      <td>D Ameritrade Institutional Reset Form ACCOUNT ...</td>\n",
              "      <td>Joseph T Green_</td>\n",
              "      <td>35</td>\n",
              "      <td>Ameritrade Institutional</td>\n",
              "      <td>142 KB</td>\n",
              "      <td>ACCOUNT TRANSFER FORM</td>\n",
              "      <td>A. Transfer from an ACAT eligible Brokerage Fi...</td>\n",
              "      <td>Joseph T Green</td>\n",
              "      <td>130 Palmer Road</td>\n",
              "      <td>404711495</td>\n",
              "      <td>nan</td>\n",
              "      <td>870214590</td>\n",
              "      <td>JNJ</td>\n",
              "      <td>(541) 754-3010</td>\n",
              "      <td>nan</td>\n",
              "      <td>nan</td>\n",
              "    </tr>\n",
              "    <tr>\n",
              "      <th>14</th>\n",
              "      <td>Joseph T Green_.pdf</td>\n",
              "      <td>D Ameritrade Institutional Reset Form ACCOUNT ...</td>\n",
              "      <td>Joseph T Green_</td>\n",
              "      <td>54</td>\n",
              "      <td>Ameritrade Institutional</td>\n",
              "      <td>142 KB</td>\n",
              "      <td>ACCOUNT TRANSFER FORM</td>\n",
              "      <td>A. Transfer from an ACAT eligible Brokerage Fi...</td>\n",
              "      <td>Joseph T Green</td>\n",
              "      <td>4481 Freshour Circle</td>\n",
              "      <td>517144644</td>\n",
              "      <td>nan</td>\n",
              "      <td>856901244</td>\n",
              "      <td>MSFT</td>\n",
              "      <td>(541) 754-3941</td>\n",
              "      <td>nan</td>\n",
              "      <td>nan</td>\n",
              "    </tr>\n",
              "    <tr>\n",
              "      <th>15</th>\n",
              "      <td>Joshua T Truitt_.pdf</td>\n",
              "      <td>D Ameritrade Institutional Reset Form ACCOUNT ...</td>\n",
              "      <td>Joshua T Truitt_</td>\n",
              "      <td>36</td>\n",
              "      <td>Ameritrade Institutional</td>\n",
              "      <td>142 KB</td>\n",
              "      <td>ACCOUNT TRANSFER FORM</td>\n",
              "      <td>A. Transfer from an ACAT eligible Brokerage Fi...</td>\n",
              "      <td>Joshua T Truitt</td>\n",
              "      <td>288 Park Ave 12th Floor</td>\n",
              "      <td>545401855</td>\n",
              "      <td>nan</td>\n",
              "      <td>987012355</td>\n",
              "      <td>NVDA</td>\n",
              "      <td>(541) 754-3055</td>\n",
              "      <td>nan</td>\n",
              "      <td>nan</td>\n",
              "    </tr>\n",
              "    <tr>\n",
              "      <th>16</th>\n",
              "      <td>Joseph N Weed_.pdf</td>\n",
              "      <td>D Ameritrade Institutional Reset Form ACCOUNT ...</td>\n",
              "      <td>Joseph N Weed_</td>\n",
              "      <td>23</td>\n",
              "      <td>Ameritrade Institutional</td>\n",
              "      <td>142 KB</td>\n",
              "      <td>ACCOUNT TRANSFER FORM</td>\n",
              "      <td>A. Transfer from an ACAT eligible Brokerage Fi...</td>\n",
              "      <td>Joseph N Weed</td>\n",
              "      <td>3242 Mahlon Street</td>\n",
              "      <td>404711455</td>\n",
              "      <td>nan</td>\n",
              "      <td>587102355</td>\n",
              "      <td>LMT</td>\n",
              "      <td>(541) 754-3055</td>\n",
              "      <td>nan</td>\n",
              "      <td>nan</td>\n",
              "    </tr>\n",
              "    <tr>\n",
              "      <th>17</th>\n",
              "      <td>James P Osborne.pdf</td>\n",
              "      <td>D Ameritrade Institutional Reset Form ACCOUNT ...</td>\n",
              "      <td>James P Osborne</td>\n",
              "      <td>45</td>\n",
              "      <td>Ameritrade Institutional</td>\n",
              "      <td>142 KB</td>\n",
              "      <td>ACCOUNT TRANSFER FORM</td>\n",
              "      <td>A. Transfer from an ACAT eligible Brokerage Fi...</td>\n",
              "      <td>James P Osborne</td>\n",
              "      <td>222 Berkeley St #15</td>\n",
              "      <td>5171454577</td>\n",
              "      <td>nan</td>\n",
              "      <td>856901203</td>\n",
              "      <td>AMZM</td>\n",
              "      <td>(541) 754-3012</td>\n",
              "      <td>nan</td>\n",
              "      <td>nan</td>\n",
              "    </tr>\n",
              "    <tr>\n",
              "      <th>18</th>\n",
              "      <td>Horace H Carpenter_.pdf</td>\n",
              "      <td>D Ameritrade Institutional Reset Form ACCOUNT ...</td>\n",
              "      <td>Horace H Carpenter_</td>\n",
              "      <td>53</td>\n",
              "      <td>Ameritrade Institutional</td>\n",
              "      <td>142 KB</td>\n",
              "      <td>ACCOUNT TRANSFER FORM</td>\n",
              "      <td>A. Transfer from an ACAT eligible Brokerage Fi...</td>\n",
              "      <td>Horace H Carpenter</td>\n",
              "      <td>646 Hershell Hollow Road</td>\n",
              "      <td>517144699</td>\n",
              "      <td>nan</td>\n",
              "      <td>856901211</td>\n",
              "      <td>TGT</td>\n",
              "      <td>(541) 754-3013</td>\n",
              "      <td>nan</td>\n",
              "      <td>nan</td>\n",
              "    </tr>\n",
              "    <tr>\n",
              "      <th>19</th>\n",
              "      <td>Harold N Samaniego_.pdf</td>\n",
              "      <td>D Ameritrade Institutional Reset Form ACCOUNT ...</td>\n",
              "      <td>Harold N Samaniego_</td>\n",
              "      <td>52</td>\n",
              "      <td>Ameritrade Institutional</td>\n",
              "      <td>142 KB</td>\n",
              "      <td>ACCOUNT TRANSFER FORM</td>\n",
              "      <td>A. Transfer from an ACAT eligible Brokerage Fi...</td>\n",
              "      <td>Harold N Samaniego</td>\n",
              "      <td>943 Roosevelt Wilson Lane</td>\n",
              "      <td>404711495</td>\n",
              "      <td>nan</td>\n",
              "      <td>870214544</td>\n",
              "      <td>JNJ</td>\n",
              "      <td>(541) 754-3111</td>\n",
              "      <td>nan</td>\n",
              "      <td>nan</td>\n",
              "    </tr>\n",
              "    <tr>\n",
              "      <th>20</th>\n",
              "      <td>Floyd K Brown_.pdf</td>\n",
              "      <td>D Ameritrade Institutional Reset Form ACCOUNT ...</td>\n",
              "      <td>Floyd K Brown_</td>\n",
              "      <td>34</td>\n",
              "      <td>Ameritrade Institutional</td>\n",
              "      <td>142 KB</td>\n",
              "      <td>ACCOUNT TRANSFER FORM</td>\n",
              "      <td>A. Transfer from an ACAT eligible Brokerage Fi...</td>\n",
              "      <td>Floyd K Brown</td>\n",
              "      <td>4989 Brighton Circle Road</td>\n",
              "      <td>404711495</td>\n",
              "      <td>nan</td>\n",
              "      <td>870214590</td>\n",
              "      <td>COST</td>\n",
              "      <td>(541) 754-3010</td>\n",
              "      <td>nan</td>\n",
              "      <td>nan</td>\n",
              "    </tr>\n",
              "    <tr>\n",
              "      <th>21</th>\n",
              "      <td>Damian C Russell.pdf</td>\n",
              "      <td>D Ameritrade Institutional Reset Form ACCOUNT ...</td>\n",
              "      <td>Damian C Russell</td>\n",
              "      <td>44</td>\n",
              "      <td>Ameritrade Institutional</td>\n",
              "      <td>142 KB</td>\n",
              "      <td>ACCOUNT TRANSFER FORM</td>\n",
              "      <td>A. Transfer from an ACAT eligible Brokerage Fi...</td>\n",
              "      <td>Damian C Russell</td>\n",
              "      <td>446 Leverton Cove Road</td>\n",
              "      <td>139394339</td>\n",
              "      <td>nan</td>\n",
              "      <td>875032122</td>\n",
              "      <td>BBY</td>\n",
              "      <td>(541) 754-2222</td>\n",
              "      <td>nan</td>\n",
              "      <td>nan</td>\n",
              "    </tr>\n",
              "    <tr>\n",
              "      <th>22</th>\n",
              "      <td>Christopher V Herring_.pdf</td>\n",
              "      <td>D Ameritrade Institutional Reset Form ACCOUNT ...</td>\n",
              "      <td>Christopher V Herring_</td>\n",
              "      <td>21</td>\n",
              "      <td>Ameritrade Institutional</td>\n",
              "      <td>142 KB</td>\n",
              "      <td>ACCOUNT TRANSFER FORM</td>\n",
              "      <td>A. Transfer from an ACAT eligible Brokerage Fi...</td>\n",
              "      <td>Christopher V Herring</td>\n",
              "      <td>4210 Hill Croft Farm Road</td>\n",
              "      <td>404711444</td>\n",
              "      <td>nan</td>\n",
              "      <td>870214588</td>\n",
              "      <td>COST</td>\n",
              "      <td>(541) 754-3033</td>\n",
              "      <td>nan</td>\n",
              "      <td>nan</td>\n",
              "    </tr>\n",
              "    <tr>\n",
              "      <th>23</th>\n",
              "      <td>Anne C Pugh_.pdf</td>\n",
              "      <td>D Ameritrade Institutional Reset Form ACCOUNT ...</td>\n",
              "      <td>Anne C Pugh_</td>\n",
              "      <td>50</td>\n",
              "      <td>Ameritrade Institutional</td>\n",
              "      <td>142 KB</td>\n",
              "      <td>ACCOUNT TRANSFER FORM</td>\n",
              "      <td>A. Transfer from an ACAT eligible Brokerage Fi...</td>\n",
              "      <td>Anne C Pugh</td>\n",
              "      <td>852 Beechwood Drive</td>\n",
              "      <td>404711444</td>\n",
              "      <td>nan</td>\n",
              "      <td>587102361</td>\n",
              "      <td>LMT</td>\n",
              "      <td>(541) 754-3033</td>\n",
              "      <td>nan</td>\n",
              "      <td>nan</td>\n",
              "    </tr>\n",
              "    <tr>\n",
              "      <th>24</th>\n",
              "      <td>Angelica E Senn_.pdf</td>\n",
              "      <td>D Ameritrade Institutional Reset Form ACCOUNT ...</td>\n",
              "      <td>Angelica E Senn_</td>\n",
              "      <td>33</td>\n",
              "      <td>Ameritrade Institutional</td>\n",
              "      <td>142 KB</td>\n",
              "      <td>ACCOUNT TRANSFER FORM</td>\n",
              "      <td>A. Transfer from an ACAT eligible Brokerage Fi...</td>\n",
              "      <td>Angelica E Senn</td>\n",
              "      <td>200 Crescent Ct#1200</td>\n",
              "      <td>404711495</td>\n",
              "      <td>nan</td>\n",
              "      <td>587102360</td>\n",
              "      <td>LMT</td>\n",
              "      <td>(541) 754-3012</td>\n",
              "      <td>nan</td>\n",
              "      <td>nan</td>\n",
              "    </tr>\n",
              "    <tr>\n",
              "      <th>25</th>\n",
              "      <td>Andrew_H_Jones_.pdf</td>\n",
              "      <td>D Ameritrade Institutional Reset Form ACCOUNT ...</td>\n",
              "      <td>Andrew_H_Jones_</td>\n",
              "      <td>32</td>\n",
              "      <td>Ameritrade Institutional</td>\n",
              "      <td>142 KB</td>\n",
              "      <td>ACCOUNT TRANSFER FORM</td>\n",
              "      <td>A. Transfer from an ACAT eligible Brokerage Fi...</td>\n",
              "      <td>Andrew H Jones</td>\n",
              "      <td>4660 Deans Lane</td>\n",
              "      <td>404711495</td>\n",
              "      <td>nan</td>\n",
              "      <td>587102355</td>\n",
              "      <td>NFLX</td>\n",
              "      <td>(541) 754-3033</td>\n",
              "      <td>nan</td>\n",
              "      <td>nan</td>\n",
              "    </tr>\n",
              "    <tr>\n",
              "      <th>26</th>\n",
              "      <td>Allan_A_Cook_.pdf</td>\n",
              "      <td>D Ameritrade Institutional Reset Form ACCOUNT ...</td>\n",
              "      <td>Allan_A_Cook_</td>\n",
              "      <td>42</td>\n",
              "      <td>Ameritrade Institutional</td>\n",
              "      <td>142 KB</td>\n",
              "      <td>ACCOUNT TRANSFER FORM</td>\n",
              "      <td>A. Transfer from an ACAT eligible Brokerage Fi...</td>\n",
              "      <td>Allan A Cook</td>\n",
              "      <td>200 Crescent Ct#1200</td>\n",
              "      <td>404711495</td>\n",
              "      <td>nan</td>\n",
              "      <td>587102360</td>\n",
              "      <td>NFLX</td>\n",
              "      <td>(541) 754-3012</td>\n",
              "      <td>nan</td>\n",
              "      <td>nan</td>\n",
              "    </tr>\n",
              "    <tr>\n",
              "      <th>27</th>\n",
              "      <td>Adrian_T_Clemens_.pdf</td>\n",
              "      <td>D Ameritrade Institutional Reset Form ACCOUNT ...</td>\n",
              "      <td>Adrian_T_Clemens_</td>\n",
              "      <td>31</td>\n",
              "      <td>Ameritrade Institutional</td>\n",
              "      <td>142 KB</td>\n",
              "      <td>ACCOUNT TRANSFER FORM</td>\n",
              "      <td>A. Transfer from an ACAT eligible Brokerage Fi...</td>\n",
              "      <td>Adrian T Clemens</td>\n",
              "      <td>280 Park Ave 12th Floor</td>\n",
              "      <td>545401875</td>\n",
              "      <td>nan</td>\n",
              "      <td>987012301</td>\n",
              "      <td>JNJ</td>\n",
              "      <td>(541) 754-3011</td>\n",
              "      <td>nan</td>\n",
              "      <td>nan</td>\n",
              "    </tr>\n",
              "    <tr>\n",
              "      <th>28</th>\n",
              "      <td>Adrian_T_Clemens_.pdf</td>\n",
              "      <td>D Ameritrade Institutional Reset Form ACCOUNT ...</td>\n",
              "      <td>Adrian_T_Clemens_</td>\n",
              "      <td>41</td>\n",
              "      <td>Ameritrade Institutional</td>\n",
              "      <td>142 KB</td>\n",
              "      <td>ACCOUNT TRANSFER FORM</td>\n",
              "      <td>A. Transfer from an ACAT eligible Brokerage Fi...</td>\n",
              "      <td>Adrian T Clemens</td>\n",
              "      <td>Search Results 280 Park Ave 12th Floor</td>\n",
              "      <td>545401875</td>\n",
              "      <td>nan</td>\n",
              "      <td>987012301</td>\n",
              "      <td>COST</td>\n",
              "      <td>(541) 754-3011</td>\n",
              "      <td>nan</td>\n",
              "      <td>nan</td>\n",
              "    </tr>\n",
              "    <tr>\n",
              "      <th>29</th>\n",
              "      <td>Addie N McClellan_.pdf</td>\n",
              "      <td>D Ameritrade Institutional Reset Form ACCOUNT ...</td>\n",
              "      <td>Addie N McClellan_</td>\n",
              "      <td>49</td>\n",
              "      <td>Ameritrade Institutional</td>\n",
              "      <td>142 KB</td>\n",
              "      <td>ACCOUNT TRANSFER FORM</td>\n",
              "      <td>A. Transfer from an ACAT eligible Brokerage Fi...</td>\n",
              "      <td>Addie N McClellan</td>\n",
              "      <td>3835 Marigold Lane</td>\n",
              "      <td>545401811</td>\n",
              "      <td>nan</td>\n",
              "      <td>987012322</td>\n",
              "      <td>NVDA</td>\n",
              "      <td>(541) 754-3022</td>\n",
              "      <td>nan</td>\n",
              "      <td>nan</td>\n",
              "    </tr>\n",
              "    <tr>\n",
              "      <th>30</th>\n",
              "      <td>Ada J Bardsley_.pdf</td>\n",
              "      <td>D Ameritrade Institutional Reset Form ACCOUNT ...</td>\n",
              "      <td>Ada J Bardsley_</td>\n",
              "      <td>30</td>\n",
              "      <td>Ameritrade Institutional</td>\n",
              "      <td>142 KB</td>\n",
              "      <td>ACCOUNT TRANSFER FORM</td>\n",
              "      <td>A. Transfer from an ACAT eligible Brokerage Fi...</td>\n",
              "      <td>Ada J Bardsley</td>\n",
              "      <td>222 Berkeley St</td>\n",
              "      <td>517144661</td>\n",
              "      <td>nan</td>\n",
              "      <td>856901255</td>\n",
              "      <td>MSFT</td>\n",
              "      <td>(541) 754-3999</td>\n",
              "      <td>nan</td>\n",
              "      <td>nan</td>\n",
              "    </tr>\n",
              "    <tr>\n",
              "      <th>31</th>\n",
              "      <td>Rose R Webb.png</td>\n",
              "      <td>DTC8862\\nACAT0671\\nA BANK OF AMERICA COMPANY\\n...</td>\n",
              "      <td>Rose R Webb</td>\n",
              "      <td>4</td>\n",
              "      <td>Merrilllynch_CRA</td>\n",
              "      <td>298 KB</td>\n",
              "      <td>Client Account Transfer Form</td>\n",
              "      <td>Use this form to transfer all or a portion of ...</td>\n",
              "      <td>Donald S Cordova</td>\n",
              "      <td>11150CA-2 #200</td>\n",
              "      <td>539236318</td>\n",
              "      <td>335-4587</td>\n",
              "      <td>22560564</td>\n",
              "      <td>IRA</td>\n",
              "      <td>(541) 754-5879</td>\n",
              "      <td>Los Angeles, CA,90025</td>\n",
              "      <td>Rose@gmail.com</td>\n",
              "    </tr>\n",
              "    <tr>\n",
              "      <th>32</th>\n",
              "      <td>Robert N Sanford.png</td>\n",
              "      <td>DTC8862\\nACAT0671\\nA BANK OF AMERICA COMPANY\\n...</td>\n",
              "      <td>Robert N Sanford</td>\n",
              "      <td>7</td>\n",
              "      <td>Merrilllynch_CRA</td>\n",
              "      <td>299 KB</td>\n",
              "      <td>Client Account Transfer Form</td>\n",
              "      <td>Use this form to transfer all or a portion of ...</td>\n",
              "      <td>Lynne M Palmer</td>\n",
              "      <td>1345 6th Ave</td>\n",
              "      <td>402115260</td>\n",
              "      <td>335-5545</td>\n",
              "      <td>66654445</td>\n",
              "      <td>IRA</td>\n",
              "      <td>(541) 754-3010</td>\n",
              "      <td>New York, NY,10105</td>\n",
              "      <td>Robert@gmail.com</td>\n",
              "    </tr>\n",
              "    <tr>\n",
              "      <th>33</th>\n",
              "      <td>Robert E Regan.png</td>\n",
              "      <td>DTC8862\\nACAT0671\\nA BANK OF AMERICA COMPANY\\n...</td>\n",
              "      <td>Robert E Regan</td>\n",
              "      <td>3</td>\n",
              "      <td>Merrilllynch_CRA</td>\n",
              "      <td>298 KB</td>\n",
              "      <td>Client Account Transfer Form</td>\n",
              "      <td>Use this form to transfer all or a portion of ...</td>\n",
              "      <td>Grace M Gracia</td>\n",
              "      <td>Search Results 11988 El Camino Real #600</td>\n",
              "      <td>417414892</td>\n",
              "      <td>335-0021</td>\n",
              "      <td>nan</td>\n",
              "      <td>IRA</td>\n",
              "      <td>(541) 754-3010</td>\n",
              "      <td>San Diego, CA,92130</td>\n",
              "      <td>Robert@gmail.com</td>\n",
              "    </tr>\n",
              "    <tr>\n",
              "      <th>34</th>\n",
              "      <td>Richard K Kral.png</td>\n",
              "      <td>DTC8862\\nACAT0671\\nA BANK OF AMERICA COMPANY\\n...</td>\n",
              "      <td>Richard K Kral</td>\n",
              "      <td>2</td>\n",
              "      <td>Merrilllynch_CRA</td>\n",
              "      <td>298 KB</td>\n",
              "      <td>Client Account Transfer Form</td>\n",
              "      <td>Use this form to transfer all or a portion of ...</td>\n",
              "      <td>Jeanette B Hughes</td>\n",
              "      <td>340 Madison Ave</td>\n",
              "      <td>344466775</td>\n",
              "      <td>335-2125</td>\n",
              "      <td>79703212</td>\n",
              "      <td>IRA</td>\n",
              "      <td>(541) 754-3888</td>\n",
              "      <td>New York, NY,10173</td>\n",
              "      <td>Richard@gmail.com</td>\n",
              "    </tr>\n",
              "    <tr>\n",
              "      <th>35</th>\n",
              "      <td>Peter E Trosper.png</td>\n",
              "      <td>DTC8862\\nACAT0671\\nA BANK OF AMERICA COMPANY\\n...</td>\n",
              "      <td>Peter E Trosper</td>\n",
              "      <td>1</td>\n",
              "      <td>Merrilllynch_CRA</td>\n",
              "      <td>295 KB</td>\n",
              "      <td>Client Account Transfer Form</td>\n",
              "      <td>Use this form to transfer all or a portion of ...</td>\n",
              "      <td>Grace P Lane</td>\n",
              "      <td>450 Park Ave #18</td>\n",
              "      <td>593746465</td>\n",
              "      <td>335-8978</td>\n",
              "      <td>66667894</td>\n",
              "      <td>IRA</td>\n",
              "      <td>(541) 754-3022</td>\n",
              "      <td>New York, NY,10022</td>\n",
              "      <td>pater@gmail.com</td>\n",
              "    </tr>\n",
              "    <tr>\n",
              "      <th>36</th>\n",
              "      <td>Harold L Brooks.pdf</td>\n",
              "      <td>DTC8862 ACAT0671 Client Account Transfer Form ...</td>\n",
              "      <td>Harold L Brooks</td>\n",
              "      <td>18</td>\n",
              "      <td>Merrilllynch_CRA</td>\n",
              "      <td>124 KB</td>\n",
              "      <td>Client Account Transfer Form</td>\n",
              "      <td>Use this form to transfer all or a portion of ...</td>\n",
              "      <td>Juanita S Salinas</td>\n",
              "      <td>Seagram Building 375 Park Ave 24th Floor</td>\n",
              "      <td>617141155</td>\n",
              "      <td>335-2546</td>\n",
              "      <td>4972333</td>\n",
              "      <td>IRA</td>\n",
              "      <td>(541) 754-2589</td>\n",
              "      <td>New York, NY,10152</td>\n",
              "      <td>harold@gmail.com</td>\n",
              "    </tr>\n",
              "    <tr>\n",
              "      <th>37</th>\n",
              "      <td>Hae F Taylor.pdf</td>\n",
              "      <td>DTC8862 ACAT0671 Client Account Transfer Form ...</td>\n",
              "      <td>Hae F Taylor</td>\n",
              "      <td>17</td>\n",
              "      <td>Merrilllynch_CRA</td>\n",
              "      <td>124 KB</td>\n",
              "      <td>Client Account Transfer Form</td>\n",
              "      <td>Use this form to transfer all or a portion of ...</td>\n",
              "      <td>Erik S Terry</td>\n",
              "      <td>745 5th Ave #2300</td>\n",
              "      <td>473834282</td>\n",
              "      <td>335-2135</td>\n",
              "      <td>55121225</td>\n",
              "      <td>IRA</td>\n",
              "      <td>(541) 754-2424</td>\n",
              "      <td>New York, NY,10151</td>\n",
              "      <td>taylor@gmail.com</td>\n",
              "    </tr>\n",
              "    <tr>\n",
              "      <th>38</th>\n",
              "      <td>Gina F Johnson.pdf</td>\n",
              "      <td>DTC8862 ACAT0671 Client Account Transfer Form ...</td>\n",
              "      <td>Gina F Johnson</td>\n",
              "      <td>16</td>\n",
              "      <td>Merrilllynch_CRA</td>\n",
              "      <td>124 KB</td>\n",
              "      <td>Client Account Transfer Form</td>\n",
              "      <td>Use this form to transfer all or a portion of ...</td>\n",
              "      <td>Phyllis E Maxwell</td>\n",
              "      <td>6300 Bridge Point Pkwy #1-500</td>\n",
              "      <td>574434684</td>\n",
              "      <td>335-2654</td>\n",
              "      <td>9965454</td>\n",
              "      <td>IRA</td>\n",
              "      <td>(541) 754-4741</td>\n",
              "      <td>Austin, TX,78730</td>\n",
              "      <td>Johnson@gmail.com</td>\n",
              "    </tr>\n",
              "    <tr>\n",
              "      <th>39</th>\n",
              "      <td>Eula R Tucker.pdf</td>\n",
              "      <td>DTC8862 ACAT0671 Client Account Transfer Form ...</td>\n",
              "      <td>Eula R Tucker</td>\n",
              "      <td>15</td>\n",
              "      <td>Merrilllynch_CRA</td>\n",
              "      <td>124 KB</td>\n",
              "      <td>Client Account Transfer Form</td>\n",
              "      <td>Use this form to transfer all or a portion of ...</td>\n",
              "      <td>Tommy F Juhl</td>\n",
              "      <td>Search Results One Letterman Dr</td>\n",
              "      <td>431169141</td>\n",
              "      <td>335-2541</td>\n",
              "      <td>67401231</td>\n",
              "      <td>IRA</td>\n",
              "      <td>(541) 754-3014</td>\n",
              "      <td>San Francisco, CA,94133</td>\n",
              "      <td>eula@gmail.com</td>\n",
              "    </tr>\n",
              "    <tr>\n",
              "      <th>40</th>\n",
              "      <td>Edna T Peres.pdf</td>\n",
              "      <td>DTC8862 ACAT0671 Client Account Transfer Form ...</td>\n",
              "      <td>Edna T Peres</td>\n",
              "      <td>14</td>\n",
              "      <td>Merrilllynch_CRA</td>\n",
              "      <td>124 KB</td>\n",
              "      <td>Client Account Transfer Form</td>\n",
              "      <td>Use this form to transfer all or a portion of ...</td>\n",
              "      <td>Jose S Hogan</td>\n",
              "      <td>2020 Calamos Ct</td>\n",
              "      <td>213205275</td>\n",
              "      <td>335-4547</td>\n",
              "      <td>77032789</td>\n",
              "      <td>IRA</td>\n",
              "      <td>(541) 754-3010</td>\n",
              "      <td>Naperville, IL, 60563</td>\n",
              "      <td>peres@gmail.com</td>\n",
              "    </tr>\n",
              "    <tr>\n",
              "      <th>41</th>\n",
              "      <td>Edith D Alexander.pdf</td>\n",
              "      <td>DTC8862 ACAT0671 Client Account Transfer Form ...</td>\n",
              "      <td>Edith D Alexander</td>\n",
              "      <td>13</td>\n",
              "      <td>Merrilllynch_CRA</td>\n",
              "      <td>123 KB</td>\n",
              "      <td>Client Account Transfer Form</td>\n",
              "      <td>Use this form to transfer all or a portion of ...</td>\n",
              "      <td>Nettie W Wright</td>\n",
              "      <td>200 Crescent Court Suite 1200</td>\n",
              "      <td>495138318</td>\n",
              "      <td>335-4547</td>\n",
              "      <td>2887454</td>\n",
              "      <td>IRA</td>\n",
              "      <td>(541) 754-3010</td>\n",
              "      <td>Dallas, TX, 75201</td>\n",
              "      <td>alexander@gmail.com</td>\n",
              "    </tr>\n",
              "    <tr>\n",
              "      <th>42</th>\n",
              "      <td>Diana J Alarcon.pdf</td>\n",
              "      <td>DTC8862 ACAT0671 Client Account Transfer Form ...</td>\n",
              "      <td>Diana J Alarcon</td>\n",
              "      <td>12</td>\n",
              "      <td>Merrilllynch_CRA</td>\n",
              "      <td>124 KB</td>\n",
              "      <td>Client Account Transfer Form</td>\n",
              "      <td>Use this form to transfer all or a portion of ...</td>\n",
              "      <td>Sue J Avila</td>\n",
              "      <td>280 Park Ave 12th Floor</td>\n",
              "      <td>383418383</td>\n",
              "      <td>335-4412</td>\n",
              "      <td>25265454</td>\n",
              "      <td>IRA</td>\n",
              "      <td>(541) 754-4547</td>\n",
              "      <td>New York, NY,10017</td>\n",
              "      <td>alarcon@gmail.com</td>\n",
              "    </tr>\n",
              "    <tr>\n",
              "      <th>43</th>\n",
              "      <td>Connie J Llanos.pdf</td>\n",
              "      <td>DTC8862 ACAT0671 Client Account Transfer Form ...</td>\n",
              "      <td>Connie J Llanos</td>\n",
              "      <td>11</td>\n",
              "      <td>Merrilllynch_CRA</td>\n",
              "      <td>124 KB</td>\n",
              "      <td>Client Account Transfer Form</td>\n",
              "      <td>Use this form to transfer all or a portion of ...</td>\n",
              "      <td>Joshua A Jimenez</td>\n",
              "      <td>2 Seaport Ln</td>\n",
              "      <td>640518538</td>\n",
              "      <td>335-0001</td>\n",
              "      <td>63701789</td>\n",
              "      <td>IRA</td>\n",
              "      <td>(541) 754-2121</td>\n",
              "      <td>Boston, MA,02210</td>\n",
              "      <td>connie@gmail.com</td>\n",
              "    </tr>\n",
              "    <tr>\n",
              "      <th>44</th>\n",
              "      <td>Cletus S Russo.pdf</td>\n",
              "      <td>DTC8862 ACAT0671 Client Account Transfer Form ...</td>\n",
              "      <td>Cletus S Russo</td>\n",
              "      <td>10</td>\n",
              "      <td>Merrilllynch_CRA</td>\n",
              "      <td>124 KB</td>\n",
              "      <td>Client Account Transfer Form</td>\n",
              "      <td>Use this form to transfer all or a portion of ...</td>\n",
              "      <td>Barbara D Cooley</td>\n",
              "      <td>1 Maynard Dr #3200</td>\n",
              "      <td>533618482</td>\n",
              "      <td>335-4454</td>\n",
              "      <td>56498273</td>\n",
              "      <td>IRA</td>\n",
              "      <td>(541) 754-4757</td>\n",
              "      <td>Park Ridge, NJ,07656</td>\n",
              "      <td>cletus@gmail.com</td>\n",
              "    </tr>\n",
              "    <tr>\n",
              "      <th>45</th>\n",
              "      <td>Cheryl J Taylor.pdf</td>\n",
              "      <td>DTC8862 ACAT0671 Client Account Transfer Form ...</td>\n",
              "      <td>Cheryl J Taylor</td>\n",
              "      <td>9</td>\n",
              "      <td>Merrilllynch_CRA</td>\n",
              "      <td>123 KB</td>\n",
              "      <td>Client Account Transfer Form</td>\n",
              "      <td>Use this form to transfer all or a portion of ...</td>\n",
              "      <td>Ruben F Bennett</td>\n",
              "      <td>6641 W Broad St #600</td>\n",
              "      <td>674410542</td>\n",
              "      <td>335-4241</td>\n",
              "      <td>28690444</td>\n",
              "      <td>IRA</td>\n",
              "      <td>(541) 754-5472</td>\n",
              "      <td>Richmond, VA 23230</td>\n",
              "      <td>taylor@gmail.com</td>\n",
              "    </tr>\n",
              "    <tr>\n",
              "      <th>46</th>\n",
              "      <td>Candy T Lee.pdf</td>\n",
              "      <td>DTC8862 ACAT0671 Client Account Transfer Form ...</td>\n",
              "      <td>Candy T Lee</td>\n",
              "      <td>8</td>\n",
              "      <td>Merrilllynch_CRA</td>\n",
              "      <td>124 KB</td>\n",
              "      <td>Client Account Transfer Form</td>\n",
              "      <td>Use this form to transfer all or a portion of ...</td>\n",
              "      <td>Pamela B Boyd</td>\n",
              "      <td>800 E Colorado Blvd # 900</td>\n",
              "      <td>204842467</td>\n",
              "      <td>335-4444</td>\n",
              "      <td>18944787</td>\n",
              "      <td>IRA</td>\n",
              "      <td>(541) 754-3021</td>\n",
              "      <td>Pasadena, CA,91101</td>\n",
              "      <td>Candy@gmail.com</td>\n",
              "    </tr>\n",
              "    <tr>\n",
              "      <th>47</th>\n",
              "      <td>Allan A Cook.png</td>\n",
              "      <td>DTC8862\\nACAT0671\\nA BANK OF AMERICA COMPANY\\n...</td>\n",
              "      <td>Allan A Cook</td>\n",
              "      <td>6</td>\n",
              "      <td>Merrilllynch_CRA</td>\n",
              "      <td>300 KB</td>\n",
              "      <td>Client Account Transfer Form</td>\n",
              "      <td>Use this form to transfer all or a portion of ...</td>\n",
              "      <td>Sabrina J McKenzie</td>\n",
              "      <td>Search Results 280 Park Ave 12th Floor</td>\n",
              "      <td>353752495</td>\n",
              "      <td>335-0212</td>\n",
              "      <td>60610454</td>\n",
              "      <td>IRA</td>\n",
              "      <td>(541) 754-1111</td>\n",
              "      <td>New York, NY,10017</td>\n",
              "      <td>Allan@gmail.com</td>\n",
              "    </tr>\n",
              "    <tr>\n",
              "      <th>48</th>\n",
              "      <td>Adrian Clemens.png</td>\n",
              "      <td>DTC8862\\nACAT0671\\nA BANK OF AMERICA COMPANY\\n...</td>\n",
              "      <td>Adrian Clemens</td>\n",
              "      <td>0</td>\n",
              "      <td>Merrilllynch_CRA</td>\n",
              "      <td>298 KB</td>\n",
              "      <td>Client Account Transfer Form</td>\n",
              "      <td>Use this form to transfer all or a portion of ...</td>\n",
              "      <td>Daniel C Paul</td>\n",
              "      <td>2 Seaport Ln</td>\n",
              "      <td>545401875</td>\n",
              "      <td>335-0012</td>\n",
              "      <td>89101454</td>\n",
              "      <td>IRA</td>\n",
              "      <td>(541) 754-2545</td>\n",
              "      <td>Boston, MA,02210</td>\n",
              "      <td>Adrian@gmail.com</td>\n",
              "    </tr>\n",
              "    <tr>\n",
              "      <th>49</th>\n",
              "      <td>Bobby_J_Cole_.pdf</td>\n",
              "      <td>CLEAR PRINT IRA Account Application charles SC...</td>\n",
              "      <td>Bobby_J_Cole_</td>\n",
              "      <td>60</td>\n",
              "      <td>Schwab_IRA</td>\n",
              "      <td>667 KB</td>\n",
              "      <td>Account Application</td>\n",
              "      <td>A Schwab Qualified Plan is a Schwab Profit Sha...</td>\n",
              "      <td>Thomas L Dodds</td>\n",
              "      <td>3977 Hillview Drive</td>\n",
              "      <td>360-80-6429</td>\n",
              "      <td>nan</td>\n",
              "      <td>7896-5893</td>\n",
              "      <td>IRA</td>\n",
              "      <td>(541) 754-2211</td>\n",
              "      <td>Appling, Georgia</td>\n",
              "      <td>Bobby@gmail.com</td>\n",
              "    </tr>\n",
              "    <tr>\n",
              "      <th>50</th>\n",
              "      <td>Thomas_L_Dodds_.pdf</td>\n",
              "      <td>CLEAR PRINT IRA Account Application charles SC...</td>\n",
              "      <td>Thomas_L_Dodds_</td>\n",
              "      <td>70</td>\n",
              "      <td>Schwab_IRA</td>\n",
              "      <td>667 KB</td>\n",
              "      <td>Account Application</td>\n",
              "      <td>A Schwab Qualified Plan is a Schwab Profit Sha...</td>\n",
              "      <td>James B Adams</td>\n",
              "      <td>3977 Hillview Drive</td>\n",
              "      <td>561-81-7321</td>\n",
              "      <td>nan</td>\n",
              "      <td>8954-7892</td>\n",
              "      <td>IRA</td>\n",
              "      <td>(707) 491-6854</td>\n",
              "      <td>Appling, Georgia</td>\n",
              "      <td>Thomas@gmail.com</td>\n",
              "    </tr>\n",
              "    <tr>\n",
              "      <th>51</th>\n",
              "      <td>Tammy_M_Pereira_.pdf</td>\n",
              "      <td>CLEAR PRINT IRA Account Application charles SC...</td>\n",
              "      <td>Tammy_M_Pereira_</td>\n",
              "      <td>69</td>\n",
              "      <td>Schwab_IRA</td>\n",
              "      <td>667 KB</td>\n",
              "      <td>Account Application</td>\n",
              "      <td>A Schwab Qualified Plan is a Schwab Profit Sha...</td>\n",
              "      <td>Allyson J Soto</td>\n",
              "      <td>3386 Hill Haven Drive</td>\n",
              "      <td>360-80-6429</td>\n",
              "      <td>nan</td>\n",
              "      <td>7457-2854</td>\n",
              "      <td>IRA</td>\n",
              "      <td>(541) 754-3000</td>\n",
              "      <td>Seattle, Washington</td>\n",
              "      <td>Tammy@gmail.com</td>\n",
              "    </tr>\n",
              "    <tr>\n",
              "      <th>52</th>\n",
              "      <td>Richard_K_Forester_.pdf</td>\n",
              "      <td>CLEAR PRINT IRA Account Application charles SC...</td>\n",
              "      <td>Richard_K_Forester_</td>\n",
              "      <td>68</td>\n",
              "      <td>Schwab_IRA</td>\n",
              "      <td>667 KB</td>\n",
              "      <td>Account Application</td>\n",
              "      <td>A Schwab Qualified Plan is a Schwab Profit Sha...</td>\n",
              "      <td>Jammy D Brown</td>\n",
              "      <td>2072 James Street</td>\n",
              "      <td>337-50-9888</td>\n",
              "      <td>nan</td>\n",
              "      <td>7457-7795</td>\n",
              "      <td>IRA</td>\n",
              "      <td>(541) 754-3555</td>\n",
              "      <td>Westfield, Wisconsin</td>\n",
              "      <td>Richard@gmail.com</td>\n",
              "    </tr>\n",
              "    <tr>\n",
              "      <th>53</th>\n",
              "      <td>James_B_Adams_.pdf</td>\n",
              "      <td>CLEAR PRINT IRA Account Application charles SC...</td>\n",
              "      <td>James_B_Adams_</td>\n",
              "      <td>64</td>\n",
              "      <td>Schwab_IRA</td>\n",
              "      <td>667 KB</td>\n",
              "      <td>Account Application</td>\n",
              "      <td>A Schwab Qualified Plan is a Schwab Profit Sha...</td>\n",
              "      <td>Joseph V Montgomery</td>\n",
              "      <td>2072 James Street</td>\n",
              "      <td>337-50-9882</td>\n",
              "      <td>nan</td>\n",
              "      <td>7457-7791</td>\n",
              "      <td>IRA</td>\n",
              "      <td>(541) 754-3551</td>\n",
              "      <td>Washington, Virginia</td>\n",
              "      <td>James@gmail.com</td>\n",
              "    </tr>\n",
              "    <tr>\n",
              "      <th>54</th>\n",
              "      <td>Edmund_L_Kroeger_.pdf</td>\n",
              "      <td>CLEAR PRINT IRA Account Application charles SC...</td>\n",
              "      <td>Edmund_L_Kroeger_</td>\n",
              "      <td>63</td>\n",
              "      <td>Schwab_IRA</td>\n",
              "      <td>667 KB</td>\n",
              "      <td>Account Application</td>\n",
              "      <td>A Schwab Qualified Plan is a Schwab Profit Sha...</td>\n",
              "      <td>Ruby B Nicholson</td>\n",
              "      <td>1288 Randall Drive</td>\n",
              "      <td>402-33-4959</td>\n",
              "      <td>nan</td>\n",
              "      <td>7457-2895</td>\n",
              "      <td>IRA</td>\n",
              "      <td>(541) 754-3055</td>\n",
              "      <td>Kula, Hawaii</td>\n",
              "      <td>Edmund@gmail.com</td>\n",
              "    </tr>\n",
              "    <tr>\n",
              "      <th>55</th>\n",
              "      <td>Donna_E_Warren_.pdf</td>\n",
              "      <td>CLEAR PRINT IRA Account Application charles SC...</td>\n",
              "      <td>Donna_E_Warren_</td>\n",
              "      <td>62</td>\n",
              "      <td>Schwab_IRA</td>\n",
              "      <td>667 KB</td>\n",
              "      <td>Account Application</td>\n",
              "      <td>A Schwab Qualified Plan is a Schwab Profit Sha...</td>\n",
              "      <td>Janie H Pagan</td>\n",
              "      <td>3845 Roguski Road</td>\n",
              "      <td>680-12-0201</td>\n",
              "      <td>nan</td>\n",
              "      <td>8896-5495</td>\n",
              "      <td>IRA</td>\n",
              "      <td>(541) 754-3001</td>\n",
              "      <td>Alexandria, Louisiana</td>\n",
              "      <td>Donna@gmail.com</td>\n",
              "    </tr>\n",
              "    <tr>\n",
              "      <th>56</th>\n",
              "      <td>Daniel_P_Woods_.pdf</td>\n",
              "      <td>CLEAR PRINT IRA Account Application charles SC...</td>\n",
              "      <td>Daniel_P_Woods_</td>\n",
              "      <td>61</td>\n",
              "      <td>Schwab_IRA</td>\n",
              "      <td>667 KB</td>\n",
              "      <td>Account Application</td>\n",
              "      <td>A Schwab Qualified Plan is a Schwab Profit Sha...</td>\n",
              "      <td>John T Craig</td>\n",
              "      <td>744 Issacs Creek Road</td>\n",
              "      <td>561-81-7321</td>\n",
              "      <td>nan</td>\n",
              "      <td>8954-7888</td>\n",
              "      <td>IRA</td>\n",
              "      <td>(707) 491-6854</td>\n",
              "      <td>Champaign, Illinois</td>\n",
              "      <td>Daniel@gmail.com</td>\n",
              "    </tr>\n",
              "    <tr>\n",
              "      <th>57</th>\n",
              "      <td>Jonathan_K_Sanchez_.pdf</td>\n",
              "      <td>CLEAR PRINT IRA Account Application charles SC...</td>\n",
              "      <td>Jonathan_K_Sanchez_</td>\n",
              "      <td>65</td>\n",
              "      <td>Schwab_IRA</td>\n",
              "      <td>668 KB</td>\n",
              "      <td>Account Application</td>\n",
              "      <td>A Schwab Qualified Plan is a Schwab Profit Sha...</td>\n",
              "      <td>Walter O Cruz</td>\n",
              "      <td>4929 B Street</td>\n",
              "      <td>680-12-0244</td>\n",
              "      <td>nan</td>\n",
              "      <td>8896-5498</td>\n",
              "      <td>IRA</td>\n",
              "      <td>(541) 754-3022</td>\n",
              "      <td>Austin, Kentucky</td>\n",
              "      <td>Jonathan@gmail.com</td>\n",
              "    </tr>\n",
              "    <tr>\n",
              "      <th>58</th>\n",
              "      <td>Karen_A_Sliva_.pdf</td>\n",
              "      <td>CLEAR PRINT IRA Account Application charles SC...</td>\n",
              "      <td>Karen_A_Sliva_</td>\n",
              "      <td>66</td>\n",
              "      <td>Schwab_IRA</td>\n",
              "      <td>667 KB</td>\n",
              "      <td>Account Application</td>\n",
              "      <td>A Schwab Qualified Plan is a Schwab Profit Sha...</td>\n",
              "      <td>Edward V Davis</td>\n",
              "      <td>213 Payne Street</td>\n",
              "      <td>337-01-4322</td>\n",
              "      <td>nan</td>\n",
              "      <td>7457-2893</td>\n",
              "      <td>IRA</td>\n",
              "      <td>(541) 754-3056</td>\n",
              "      <td>Clinchport, Virginia</td>\n",
              "      <td>Karen@gmail.com</td>\n",
              "    </tr>\n",
              "    <tr>\n",
              "      <th>59</th>\n",
              "      <td>Patricia_J_Kim_.pdf</td>\n",
              "      <td>CLEAR PRINT IRA Account Application charles SC...</td>\n",
              "      <td>Patricia_J_Kim_</td>\n",
              "      <td>67</td>\n",
              "      <td>Schwab_IRA</td>\n",
              "      <td>667 KB</td>\n",
              "      <td>Account Application</td>\n",
              "      <td>A Schwab Qualified Plan is a Schwab Profit Sha...</td>\n",
              "      <td>Taylor M Sanchez</td>\n",
              "      <td>2465 Richison Drive</td>\n",
              "      <td>360-80-6429</td>\n",
              "      <td>nan</td>\n",
              "      <td>7457-2899</td>\n",
              "      <td>IRA</td>\n",
              "      <td>(541) 754-3000</td>\n",
              "      <td>Rudyard, Montana</td>\n",
              "      <td>Patricia@gmail.com</td>\n",
              "    </tr>\n",
              "  </tbody>\n",
              "</table>\n",
              "</div>"
            ],
            "text/plain": [
              "                     file_name  ...                EMAIL\n",
              "0          Zita J Rottman_.pdf  ...                  nan\n",
              "1          Teresa R Woods_.pdf  ...                  nan\n",
              "2           Susan T Green_.pdf  ...                  nan\n",
              "3       Robert R Sheppard_.pdf  ...                  nan\n",
              "4           Robert J Barr_.pdf  ...                  nan\n",
              "5           Pamela E Byrd_.pdf  ...                  nan\n",
              "6            Nora R Mills_.pdf  ...                  nan\n",
              "7       Michael_C_Preston_.pdf  ...                  nan\n",
              "8           Mary H Craven_.pdf  ...                  nan\n",
              "9         Marie P Watkins_.pdf  ...                  nan\n",
              "10           Linda M Rice_.pdf  ...                  nan\n",
              "11          Lili J Thomas_.pdf  ...                  nan\n",
              "12     Kristen W Hamilton_.pdf  ...                  nan\n",
              "13         Joseph T Green_.pdf  ...                  nan\n",
              "14         Joseph T Green_.pdf  ...                  nan\n",
              "15        Joshua T Truitt_.pdf  ...                  nan\n",
              "16          Joseph N Weed_.pdf  ...                  nan\n",
              "17         James P Osborne.pdf  ...                  nan\n",
              "18     Horace H Carpenter_.pdf  ...                  nan\n",
              "19     Harold N Samaniego_.pdf  ...                  nan\n",
              "20          Floyd K Brown_.pdf  ...                  nan\n",
              "21        Damian C Russell.pdf  ...                  nan\n",
              "22  Christopher V Herring_.pdf  ...                  nan\n",
              "23            Anne C Pugh_.pdf  ...                  nan\n",
              "24        Angelica E Senn_.pdf  ...                  nan\n",
              "25         Andrew_H_Jones_.pdf  ...                  nan\n",
              "26           Allan_A_Cook_.pdf  ...                  nan\n",
              "27       Adrian_T_Clemens_.pdf  ...                  nan\n",
              "28       Adrian_T_Clemens_.pdf  ...                  nan\n",
              "29      Addie N McClellan_.pdf  ...                  nan\n",
              "30         Ada J Bardsley_.pdf  ...                  nan\n",
              "31             Rose R Webb.png  ...       Rose@gmail.com\n",
              "32        Robert N Sanford.png  ...     Robert@gmail.com\n",
              "33          Robert E Regan.png  ...     Robert@gmail.com\n",
              "34          Richard K Kral.png  ...    Richard@gmail.com\n",
              "35         Peter E Trosper.png  ...      pater@gmail.com\n",
              "36         Harold L Brooks.pdf  ...     harold@gmail.com\n",
              "37            Hae F Taylor.pdf  ...     taylor@gmail.com\n",
              "38          Gina F Johnson.pdf  ...    Johnson@gmail.com\n",
              "39           Eula R Tucker.pdf  ...       eula@gmail.com\n",
              "40            Edna T Peres.pdf  ...      peres@gmail.com\n",
              "41       Edith D Alexander.pdf  ...  alexander@gmail.com\n",
              "42         Diana J Alarcon.pdf  ...    alarcon@gmail.com\n",
              "43         Connie J Llanos.pdf  ...     connie@gmail.com\n",
              "44          Cletus S Russo.pdf  ...     cletus@gmail.com\n",
              "45         Cheryl J Taylor.pdf  ...     taylor@gmail.com\n",
              "46             Candy T Lee.pdf  ...      Candy@gmail.com\n",
              "47            Allan A Cook.png  ...      Allan@gmail.com\n",
              "48          Adrian Clemens.png  ...     Adrian@gmail.com\n",
              "49           Bobby_J_Cole_.pdf  ...      Bobby@gmail.com\n",
              "50         Thomas_L_Dodds_.pdf  ...     Thomas@gmail.com\n",
              "51        Tammy_M_Pereira_.pdf  ...      Tammy@gmail.com\n",
              "52     Richard_K_Forester_.pdf  ...    Richard@gmail.com\n",
              "53          James_B_Adams_.pdf  ...      James@gmail.com\n",
              "54       Edmund_L_Kroeger_.pdf  ...     Edmund@gmail.com\n",
              "55         Donna_E_Warren_.pdf  ...      Donna@gmail.com\n",
              "56         Daniel_P_Woods_.pdf  ...     Daniel@gmail.com\n",
              "57     Jonathan_K_Sanchez_.pdf  ...   Jonathan@gmail.com\n",
              "58          Karen_A_Sliva_.pdf  ...      Karen@gmail.com\n",
              "59         Patricia_J_Kim_.pdf  ...   Patricia@gmail.com\n",
              "\n",
              "[60 rows x 17 columns]"
            ]
          },
          "metadata": {
            "tags": []
          },
          "execution_count": 42
        }
      ]
    },
    {
      "cell_type": "code",
      "metadata": {
        "id": "qUBpmAS7Hi2p",
        "colab_type": "code",
        "colab": {}
      },
      "source": [
        "from sklearn.utils import shuffle"
      ],
      "execution_count": 0,
      "outputs": []
    },
    {
      "cell_type": "code",
      "metadata": {
        "id": "B1a7TtLvHi0s",
        "colab_type": "code",
        "colab": {}
      },
      "source": [
        "from sklearn.model_selection import train_test_split\n",
        "import spacy\n",
        "from spacy.util import decaying\n",
        "from spacy.matcher import PhraseMatcher\n",
        "from spacy.lang.en import English\n",
        "from spacy.util import minibatch, compounding\n",
        "from spacy.gold import GoldParse \n",
        "from spacy.scorer import Scorer\n",
        "import random"
      ],
      "execution_count": 0,
      "outputs": []
    },
    {
      "cell_type": "code",
      "metadata": {
        "id": "a6twzkDqHUAD",
        "colab_type": "code",
        "colab": {}
      },
      "source": [
        "final_df = final_df.sample(frac=1)\n",
        "final_df.reset_index(drop = True, inplace = True)\n",
        "\n",
        "train, test = train_test_split(final_df, test_size=0.1)"
      ],
      "execution_count": 0,
      "outputs": []
    },
    {
      "cell_type": "code",
      "metadata": {
        "id": "G-4UqxuDHfv5",
        "colab_type": "code",
        "outputId": "22a1248e-08ac-46f5-98a3-221aaa573b87",
        "colab": {
          "base_uri": "https://localhost:8080/",
          "height": 34
        }
      },
      "source": [
        "train.shape, test.shape"
      ],
      "execution_count": 46,
      "outputs": [
        {
          "output_type": "execute_result",
          "data": {
            "text/plain": [
              "((54, 17), (6, 17))"
            ]
          },
          "metadata": {
            "tags": []
          },
          "execution_count": 46
        }
      ]
    },
    {
      "cell_type": "code",
      "metadata": {
        "id": "MHBR0WpoIb53",
        "colab_type": "code",
        "outputId": "83c38a5a-2c86-485e-aeea-2120bcfeb397",
        "colab": {
          "base_uri": "https://localhost:8080/",
          "height": 202
        }
      },
      "source": [
        "['TITLE', 'DESCRIPTION', 'CLIENT', 'ADDRESS',\n",
        "       'SOCIAL_SECURITY_NO', 'RELATIONSHIP_NO', 'ACC_NO', 'ACC_TYPE', 'PHONE',\n",
        "       'CITY', 'EMAIL']"
      ],
      "execution_count": 47,
      "outputs": [
        {
          "output_type": "execute_result",
          "data": {
            "text/plain": [
              "['TITLE',\n",
              " 'DESCRIPTION',\n",
              " 'CLIENT',\n",
              " 'ADDRESS',\n",
              " 'SOCIAL_SECURITY_NO',\n",
              " 'RELATIONSHIP_NO',\n",
              " 'ACC_NO',\n",
              " 'ACC_TYPE',\n",
              " 'PHONE',\n",
              " 'CITY',\n",
              " 'EMAIL']"
            ]
          },
          "metadata": {
            "tags": []
          },
          "execution_count": 47
        }
      ]
    },
    {
      "cell_type": "code",
      "metadata": {
        "id": "dJqvlHC_Iz98",
        "colab_type": "code",
        "colab": {}
      },
      "source": [
        "nlp = English()\n",
        "#nlp = spacy.load(\"en_trf_bertbaseuncased_lg\")\n",
        "#nlp.vocab, attr='lemma', validate=True"
      ],
      "execution_count": 0,
      "outputs": []
    },
    {
      "cell_type": "code",
      "metadata": {
        "id": "XHhjN0_8HoQg",
        "colab_type": "code",
        "colab": {}
      },
      "source": [
        "#TITLE_matcher = PhraseMatcher(nlp.vocab, attr='LOWER')\n",
        "TITLE_matcher = PhraseMatcher(nlp.vocab, attr='LOWER')\n",
        "TITLE_patterns = [nlp(i) for i in final_df['TITLE'].to_list()]\n",
        "TITLE_matcher.add(\"TITLE\", None,*TITLE_patterns)"
      ],
      "execution_count": 0,
      "outputs": []
    },
    {
      "cell_type": "code",
      "metadata": {
        "id": "whEF68T7JeYT",
        "colab_type": "code",
        "colab": {}
      },
      "source": [
        "DESCRIPTION_matcher = PhraseMatcher(nlp.vocab, attr='LOWER')\n",
        "DESCRIPTION_patterns = [nlp(i) for i in final_df['DESCRIPTION'].to_list()]\n",
        "DESCRIPTION_matcher.add(\"DESCRIPTION\", None,*DESCRIPTION_patterns)"
      ],
      "execution_count": 0,
      "outputs": []
    },
    {
      "cell_type": "code",
      "metadata": {
        "id": "5sc9h47nKC4V",
        "colab_type": "code",
        "colab": {}
      },
      "source": [
        "CLIENT_matcher = PhraseMatcher(nlp.vocab, attr='LOWER')\n",
        "CLIENT_patterns = [nlp(i) for i in final_df['CLIENT'].to_list()]\n",
        "CLIENT_matcher.add(\"CLIENT\", None,*CLIENT_patterns)"
      ],
      "execution_count": 0,
      "outputs": []
    },
    {
      "cell_type": "code",
      "metadata": {
        "id": "LCkAq55BKDRj",
        "colab_type": "code",
        "colab": {}
      },
      "source": [
        "\n",
        "ADDRESS_matcher = PhraseMatcher(nlp.vocab, attr='LOWER')\n",
        "ADDRESS_patterns = [nlp(i) for i in final_df['ADDRESS'].to_list()]\n",
        "ADDRESS_matcher.add(\"ADDRESS\", None,*ADDRESS_patterns)"
      ],
      "execution_count": 0,
      "outputs": []
    },
    {
      "cell_type": "code",
      "metadata": {
        "id": "0jz6EYsKKKRf",
        "colab_type": "code",
        "colab": {}
      },
      "source": [
        "SOCIAL_SECURITY_NO_matcher = PhraseMatcher(nlp.vocab, attr='LOWER')\n",
        "SOCIAL_SECURITY_NO_patterns = [nlp(i) for i in final_df['SOCIAL_SECURITY_NO'].to_list()]\n",
        "SOCIAL_SECURITY_NO_matcher.add(\"SOCIAL_SECURITY_NO\", None,*SOCIAL_SECURITY_NO_patterns)"
      ],
      "execution_count": 0,
      "outputs": []
    },
    {
      "cell_type": "code",
      "metadata": {
        "id": "TTail0n2KfTz",
        "colab_type": "code",
        "colab": {}
      },
      "source": [
        "RELATIONSHIP_NO_matcher = PhraseMatcher(nlp.vocab, attr='LOWER')\n",
        "RELATIONSHIP_NO_patterns = [nlp(i) for i in final_df['RELATIONSHIP_NO'].to_list()]\n",
        "RELATIONSHIP_NO_matcher.add(\"RELATIONSHIP_NO\", None,*RELATIONSHIP_NO_patterns)"
      ],
      "execution_count": 0,
      "outputs": []
    },
    {
      "cell_type": "code",
      "metadata": {
        "id": "GfLi7Y3aM6dW",
        "colab_type": "code",
        "colab": {}
      },
      "source": [
        "ACC_NO_matcher = PhraseMatcher(nlp.vocab, attr='LOWER')\n",
        "ACC_NO_patterns = [nlp(i) for i in final_df['ACC_NO'].to_list()]\n",
        "ACC_NO_matcher.add(\"ACC_NO\", None,*ACC_NO_patterns)"
      ],
      "execution_count": 0,
      "outputs": []
    },
    {
      "cell_type": "code",
      "metadata": {
        "id": "i4He-PvhNyQz",
        "colab_type": "code",
        "colab": {}
      },
      "source": [
        "ACC_TYPE_matcher = PhraseMatcher(nlp.vocab, attr='LOWER')\n",
        "ACC_TYPE_patterns = [nlp(i) for i in final_df['ACC_TYPE'].to_list()]\n",
        "ACC_TYPE_matcher.add(\"ACC_TYPE\", None,*ACC_TYPE_patterns)"
      ],
      "execution_count": 0,
      "outputs": []
    },
    {
      "cell_type": "code",
      "metadata": {
        "id": "oIRseK0JODth",
        "colab_type": "code",
        "colab": {}
      },
      "source": [
        "PHONE_matcher = PhraseMatcher(nlp.vocab, attr='LOWER')\n",
        "PHONE_patterns = [nlp(i) for i in final_df['PHONE'].to_list()]\n",
        "PHONE_matcher.add(\"PHONE\", None,*PHONE_patterns)"
      ],
      "execution_count": 0,
      "outputs": []
    },
    {
      "cell_type": "code",
      "metadata": {
        "id": "SbjbJ37GOMPd",
        "colab_type": "code",
        "colab": {}
      },
      "source": [
        "CITY_matcher = PhraseMatcher(nlp.vocab, attr='LOWER')\n",
        "CITY_patterns = [nlp(i) for i in final_df['CITY'].to_list()]\n",
        "CITY_matcher.add(\"CITY\", None,*CITY_patterns)"
      ],
      "execution_count": 0,
      "outputs": []
    },
    {
      "cell_type": "code",
      "metadata": {
        "id": "7-pifUNaOTf3",
        "colab_type": "code",
        "colab": {}
      },
      "source": [
        "EMAIL_matcher = PhraseMatcher(nlp.vocab, attr='LOWER')\n",
        "EMAIL_patterns = [nlp(i) for i in final_df['EMAIL'].to_list()]\n",
        "EMAIL_matcher.add(\"EMAIL\", None,*EMAIL_patterns)"
      ],
      "execution_count": 0,
      "outputs": []
    },
    {
      "cell_type": "code",
      "metadata": {
        "id": "yyvHYC-pOay-",
        "colab_type": "code",
        "colab": {}
      },
      "source": [
        "TRAIN_TEXTS = train['extracted_text'].tolist()\n",
        "TEST_TEXTS = test['extracted_text'].tolist()"
      ],
      "execution_count": 0,
      "outputs": []
    },
    {
      "cell_type": "code",
      "metadata": {
        "id": "-Z0OeMBkOu6P",
        "colab_type": "code",
        "outputId": "af7b02b2-738c-42cd-dc84-9be9fc70d7a8",
        "colab": {
          "base_uri": "https://localhost:8080/",
          "height": 34
        }
      },
      "source": [
        "TRAINING_DATA = []\n",
        "\n",
        "# Create a Doc object for each text in TEXTS\n",
        "for doc in tqdm(nlp.pipe(TRAIN_TEXTS)):\n",
        "    # Match on the doc and create a list of matched spans\n",
        "    TITLE_spans = [doc[start:end] for match_id, start, end in TITLE_matcher(doc)]\n",
        "    DESCRIPTION_spans = [doc[start:end] for match_id, start, end in DESCRIPTION_matcher(doc)]\n",
        "    CLIENT_spans = [doc[start:end] for match_id, start, end in CLIENT_matcher(doc)]\n",
        "    ADDRESS_spans = [doc[start:end] for match_id, start, end in ADDRESS_matcher(doc)]\n",
        "    SOCIAL_SECURITY_NO_spans = [doc[start:end] for match_id, start, end in SOCIAL_SECURITY_NO_matcher(doc)]\n",
        "    RELATIONSHIP_NO_spans = [doc[start:end] for match_id, start, end in RELATIONSHIP_NO_matcher(doc)]\n",
        "    ACC_NO_spans = [doc[start:end] for match_id, start, end in ACC_NO_matcher(doc)]\n",
        "    ACC_TYPE_spans = [doc[start:end] for match_id, start, end in ACC_TYPE_matcher(doc)]\n",
        "    PHONE_spans = [doc[start:end] for match_id, start, end in PHONE_matcher(doc)]\n",
        "    CITY_spans = [doc[start:end] for match_id, start, end in CITY_matcher(doc)]\n",
        "    EMAIL_spans = [doc[start:end] for match_id, start, end in EMAIL_matcher(doc)]\n",
        "    \n",
        "    # Get (start character, end character, label) tuples of matches\n",
        "    entities = [(span.start_char, span.end_char, \"TITLE\") for span in TITLE_spans]\n",
        "    entities.extend([(span.start_char, span.end_char, \"DESCRIPTION\") for span in DESCRIPTION_spans])\n",
        "    entities.extend([(span.start_char, span.end_char, \"CLIENT\") for span in CLIENT_spans])\n",
        "    entities.extend([(span.start_char, span.end_char, \"ADDRESS\") for span in ADDRESS_spans])\n",
        "    entities.extend([(span.start_char, span.end_char, \"SOCIAL_SECURITY_NO\") for span in SOCIAL_SECURITY_NO_spans])\n",
        "    entities.extend([(span.start_char, span.end_char, \"RELATIONSHIP_NO\") for span in RELATIONSHIP_NO_spans])\n",
        "    entities.extend([(span.start_char, span.end_char, \"ACC_NO\") for span in ACC_NO_spans])\n",
        "    entities.extend([(span.start_char, span.end_char, \"ACC_TYPE\") for span in ACC_TYPE_spans])\n",
        "    entities.extend([(span.start_char, span.end_char, \"PHONE\") for span in PHONE_spans])\n",
        "    entities.extend([(span.start_char, span.end_char, \"CITY\") for span in CITY_spans])\n",
        "    entities.extend([(span.start_char, span.end_char, \"EMAIL\") for span in EMAIL_spans])\n",
        "\n",
        "    # Format the matches as a (doc.text, entities) tuple\n",
        "    training_example = (doc.text, {\"entities\": entities})\n",
        "    # Append the example to the training data\n",
        "    TRAINING_DATA.append(training_example)"
      ],
      "execution_count": 61,
      "outputs": [
        {
          "output_type": "stream",
          "text": [
            "54it [00:00, 417.68it/s]\n"
          ],
          "name": "stderr"
        }
      ]
    },
    {
      "cell_type": "code",
      "metadata": {
        "id": "e6mCJYvqbPGp",
        "colab_type": "code",
        "colab": {}
      },
      "source": [
        "# Remove repetated of same type entity\n",
        "for i,_ in enumerate(TRAINING_DATA):\n",
        "    TRAINING_DATA[i][1]['entities'] = ([next(b) for a, b in itertools.groupby( \n",
        "                         TRAINING_DATA[i][1]['entities'], lambda y: y[2])]) "
      ],
      "execution_count": 0,
      "outputs": []
    },
    {
      "cell_type": "code",
      "metadata": {
        "id": "NuWw2-9oajM4",
        "colab_type": "code",
        "outputId": "146cf7ab-5057-415b-a1b1-eae5b76b97d8",
        "colab": {
          "base_uri": "https://localhost:8080/",
          "height": 222
        }
      },
      "source": [
        "TRAINING_DATA[0]"
      ],
      "execution_count": 63,
      "outputs": [
        {
          "output_type": "execute_result",
          "data": {
            "text/plain": [
              "('DTC8862 ACAT0671 Client Account Transfer Form As MERRILL. Use this form to transfer all or a portion of your account from A BANK OF AMERICA COMPANY another financial institution to your Merrill Lynch, Pierce, Fenner & Smith Incorporated (\"Merrill Lynch\") account. For best results, please complete the information requested below parts 1 to 4 using ALL CAPITAL letters and black ink. If you need more room for information or signatures, use a copy of the relevant page or a blank sheet. Use one form for each account that you\\'re transferring. Things to know before you begin: • Many firms transfer assets using an automated transfer process, which typically takes 5 to 6 business days. Other firms either don\\'t use the automated process or must process some assets manually, which takes more time. The following estimated time frames for manual transfers are from the date of receipt of instructions by the delivering firm and may vary greatly: Equities, bonds and options, approximately 15 business days - Restricted securities, approximately 15 to 20 business days - Mutual funds, up to 30 business days - Foreign securities, 4 to 6 weeks Note: Annuities are not transferred using this form. Please use the Merrill Lynch Annuity Transfer Form. • Remember to update any automatic deposits or withdrawals you\\'ve set up on the account you\\'re transferring to Merrill Lynch • Some transfers may result in tax consequences, penalties or financial risk. Consult your tax and financial professionals before requesting this transfer. If you\\'re rolling over assets from a 401(k) or other employer-sponsored plan, consider all of your choices. You may be able to roll over to an IRA, roll over an old 401(k) to a 401(k) at a new employer, take a distribution or leave the account where it is, depending on your unique financial needs and retirement goals. Each choice may offer different benefits and limitations investment options and serv fees and expenses, withdrawa equir minimum distributions, tax treatment and protection from creditors and legal judgments. Additionally, there are limits to how often and when you can roll over your account. Please contact your 401(k) other employer-sponsored plan administrator for help with the transfer. Part 1 Where your account is now Attoch all pages of your most recent statement for this occount to avoid ony delays FIRM NAME FIRM PHONE CONTACT NAME ValueAct Capital (541) 754-3014 Tommy F Juhl FIRM ADDRESS CITY STATE, ZIP Search Results One Letterman Dr San Francisco, CA,94133 ACCOUNT NUMBER ACCOUNT TITLE 67401231 Eula R Tucker ACCOUNT TYPE (RETAIL/IRA etc.) SOCIAL SECURITY NUMBER (if used for tax reporting) EMPLOYER ID NUMBER (If used for tax reporting) IRA 431169141 Account holders (individual accounts) or authorized signers (for business, trust, estate, etc.) List all names exactly as they appear on this account. TITLE (If an authorized signer) NAME 1 Eula R Tucker NAME 2 TITLE (If an authorized signer) Roth SEP Other (Please specify Part 2 Merrill Lynch account receiving your transferred assets This con included Merrill Lynch account on which you receive fiduciary services from US Trust MERRILL LYNCH ACCOUNT NUMBER ACCOUNT TYPE (Choose one) 335-2541 o СМА IRA ACCOUNT TITLE (Here at Merrill Lynch) Eula R Tucker SOCIAL SECURITY NUMBER (if used for tax reporting) 431169141 EMPLOYER ID NUMBER (if used for tax reporting) Account holders (individual accounts) or authorized signers (for business, trust, estate, etc.) List all names exactly as they appear on this account. This account must have at least one owner in common with your transferring account, otherwise this process will be delayed. TITLE (If an authorized signer) NAME 1 Eula R Tucker NAME 2 TITLE (If an authorized signer) EVENING PHONE EMAIL eula@gmail.com DAYTIME PHONE (541) 754-2012 BRANCH CONTACT NAME NICK LANE BRANCH CONTACT NUMBER 866.848.6554 CODE 1566 MLPFS-03/2018 . Page 2 of 4 Part 3 Which assets should transfer to Merrill Lynch Some assets, like certain low priced stocks and proprietary money market funds, cannot be transferred into your Merrill Lynch account If your request includes non-transferoble assets it will not be processed You\\'ll need to remove them and re submit your request Before indicating which assets to transfer, you should understand that assets transfer either in cosh or in-kind. In-kind means assets transfer exactly as they are currently held. Examples include certificates of deposits (CDs) in brokerage accounts, mutual funds available at both institutions or other specific securities. In cash means assets are liquidated and proceeds deposited in your account, which may result in tox consequences, penalties or financial risk. Examples include CDs that are liquidated or mutual funds sold by the delivering firm. However, if a liquidation doesn\\'t occur before the transfer, assets will transfer in-kind. Please choose only one option: 1. Transfer ALL my assets in-kind: If you are transferring mutual funds directly from the Mutual Fund Company, list the funds and the fund account numbers in the Mutual Funds and Securities section below. If you are transferring an account from a bank that holds a certificate of deposit, complete the \\'certificate of deposit at bank\" section below. Otherwise, skip to part 4. 2. Liquidate my entire account and transfer in cash: Most financial institutions require either written or verbal instructions from the client to liquidote assets. Please send liquidation requests directly to the delivering firm before requesting a transfer through Merrill Lynch. We do not guarantee that the delivering financial institutions will occept this document as a request to liquidate assets, including certificate of deposits at a bank. If you are transferring an account from a bank that holds a certificate of deposit, complete the \"certificate of deposit at bank\\' section below. Otherwise, skip to part 4. 3. Transfer my entire account after liquidating the assets listed below: Use the sections below to list the assets you want to liquidated before your account is transferred to Merrill Lynch. Most financial institutions require either written or verbal instructions from the client to liquidate assets. Please send liquidation requests directly to the delivering firm before requesting a transfer through Merrill Lynch. We do not guarantee that delivering financial institutions will accept this document as a request to liquidate assets, including certificate of deposits at a bank 4. Transfer ONLY certain assets in-kind: Use the sections below to list the assets you want to transfer to Merrill Lynch. Many firms have minimum account balance/ value requirements. To avoid a rejected transfer, please ensure that this partial transfer request does not reduce the losing account balance/value below that requirement. If you are transferring an account from a bank that holds a certificate of deposit complete the \"certificate of deposit at bank\" section below. Otherwise, skip to part 4. CASH-Only used for transfer option 4 (Choose one): Transfer all cash Transfer only this amount $ CERTIFICATE OF DEPOSIT AT A BANK - Used for transfer options 1, 2, 3 and 4 (Choose one): Immediately liquidate CDs and transfer in cash. You may be charged a penalty for early withdrawal Wait to liquidate CDs and transfer in cash when CDs mature on (MM/DD/YYYY). For this option, submit your request at least 7 days, but no more than 14 days before maturity to ensure that we can process this request. MUTUAL FUNDS AND SECURITIES - Only used for transfer options 1, 3 or 4. Securities include stocks, bonds, exchange traded funds, brokerage certificate of deposit options and unit investment trusts. Provide all information, including the number of shares you want to transfer or liquidate. Write \"ALL\" in the quantity field if you\\'d like to transfer or liquidate all shares of a fund or a security. SECURITY NAME/SYMBOL/CUSIP MUTUAL FUND COMPANY TRANSFER QUANTITY LIQUIDATE AND ACCOUNT NUMBER TRANSFER IN CASH MSFT 650 AAPL 350 AMZM 60 TGT 650 IN-KIND TOC 0 0 0 0 0 0 0 0 0 ロロロロロロロロロロロロ CODE 1566 MLPFS-03/2018 ',\n",
              " {'entities': [(17, 45, 'TITLE'),\n",
              "   (2422, 2434, 'CLIENT'),\n",
              "   (2464, 2495, 'ADDRESS'),\n",
              "   (2705, 2714, 'SOCIAL_SECURITY_NO'),\n",
              "   (3201, 3209, 'RELATIONSHIP_NO'),\n",
              "   (2549, 2557, 'ACC_NO'),\n",
              "   (1670, 1673, 'ACC_TYPE'),\n",
              "   (2407, 2421, 'PHONE'),\n",
              "   (2496, 2519, 'CITY'),\n",
              "   (3767, 3781, 'EMAIL')]})"
            ]
          },
          "metadata": {
            "tags": []
          },
          "execution_count": 63
        }
      ]
    },
    {
      "cell_type": "code",
      "metadata": {
        "id": "gegItgpOSbRg",
        "colab_type": "code",
        "outputId": "d57155d6-5038-4079-da6a-28d487d772c7",
        "colab": {
          "base_uri": "https://localhost:8080/",
          "height": 34
        }
      },
      "source": [
        "TESTING_DATA = []\n",
        "\n",
        "# Create a Doc object for each text in TEXTS\n",
        "for doc in tqdm(nlp.pipe(TEST_TEXTS)):\n",
        "    # Match on the doc and create a list of matched spans\n",
        "    TITLE_spans = [doc[start:end] for match_id, start, end in TITLE_matcher(doc)]\n",
        "    DESCRIPTION_spans = [doc[start:end] for match_id, start, end in DESCRIPTION_matcher(doc)]\n",
        "    CLIENT_spans = [doc[start:end] for match_id, start, end in CLIENT_matcher(doc)]\n",
        "    ADDRESS_spans = [doc[start:end] for match_id, start, end in ADDRESS_matcher(doc)]\n",
        "    SOCIAL_SECURITY_NO_spans = [doc[start:end] for match_id, start, end in SOCIAL_SECURITY_NO_matcher(doc)]\n",
        "    RELATIONSHIP_NO_spans = [doc[start:end] for match_id, start, end in RELATIONSHIP_NO_matcher(doc)]\n",
        "    ACC_NO_spans = [doc[start:end] for match_id, start, end in ACC_NO_matcher(doc)]\n",
        "    ACC_TYPE_spans = [doc[start:end] for match_id, start, end in ACC_TYPE_matcher(doc)]\n",
        "    PHONE_spans = [doc[start:end] for match_id, start, end in PHONE_matcher(doc)]\n",
        "    CITY_spans = [doc[start:end] for match_id, start, end in CITY_matcher(doc)]\n",
        "    EMAIL_spans = [doc[start:end] for match_id, start, end in EMAIL_matcher(doc)]\n",
        "    \n",
        "    # Get (start character, end character, label) tuples of matches\n",
        "    entities = [(span.start_char, span.end_char, \"TITLE\") for span in TITLE_spans]\n",
        "    entities.extend([(span.start_char, span.end_char, \"DESCRIPTION\") for span in DESCRIPTION_spans])\n",
        "    entities.extend([(span.start_char, span.end_char, \"CLIENT\") for span in CLIENT_spans])\n",
        "    entities.extend([(span.start_char, span.end_char, \"ADDRESS\") for span in ADDRESS_spans])\n",
        "    entities.extend([(span.start_char, span.end_char, \"SOCIAL_SECURITY_NO\") for span in SOCIAL_SECURITY_NO_spans])\n",
        "    entities.extend([(span.start_char, span.end_char, \"RELATIONSHIP_NO\") for span in RELATIONSHIP_NO_spans])\n",
        "    entities.extend([(span.start_char, span.end_char, \"ACC_NO\") for span in ACC_NO_spans])\n",
        "    entities.extend([(span.start_char, span.end_char, \"ACC_TYPE\") for span in ACC_TYPE_spans])\n",
        "    entities.extend([(span.start_char, span.end_char, \"PHONE\") for span in PHONE_spans])\n",
        "    entities.extend([(span.start_char, span.end_char, \"CITY\") for span in CITY_spans])\n",
        "    entities.extend([(span.start_char, span.end_char, \"EMAIL\") for span in EMAIL_spans])\n",
        "\n",
        "    # Format the matches as a (doc.text, entities) tuple\n",
        "    testing_example = (doc.text, {\"entities\": entities})\n",
        "    # Append the example to the testing data\n",
        "    TESTING_DATA.append(testing_example)"
      ],
      "execution_count": 64,
      "outputs": [
        {
          "output_type": "stream",
          "text": [
            "6it [00:00, 472.07it/s]\n"
          ],
          "name": "stderr"
        }
      ]
    },
    {
      "cell_type": "code",
      "metadata": {
        "id": "9540BotIcKnY",
        "colab_type": "code",
        "colab": {}
      },
      "source": [
        "# Remove repetated of same type entity\n",
        "for i,_ in enumerate(TESTING_DATA):\n",
        "    TESTING_DATA[i][1]['entities'] = ([next(b) for a, b in itertools.groupby( \n",
        "                         TESTING_DATA[i][1]['entities'], lambda y: y[2])]) "
      ],
      "execution_count": 0,
      "outputs": []
    },
    {
      "cell_type": "code",
      "metadata": {
        "id": "YL6oXjztUjX8",
        "colab_type": "code",
        "colab": {}
      },
      "source": [
        "LABEL = ['TITLE',\n",
        " 'DESCRIPTION',\n",
        " 'CLIENT',\n",
        " 'ADDRESS',\n",
        " 'SOCIAL_SECURITY_NO',\n",
        " 'RELATIONSHIP_NO',\n",
        " 'ACC_NO',\n",
        " 'ACC_TYPE',\n",
        " 'PHONE',\n",
        " 'CITY',\n",
        " 'EMAIL']"
      ],
      "execution_count": 0,
      "outputs": []
    },
    {
      "cell_type": "code",
      "metadata": {
        "id": "RyhIPSIN_LHe",
        "colab_type": "code",
        "outputId": "c5c452f0-1919-41b8-87bf-76451a38a025",
        "colab": {
          "base_uri": "https://localhost:8080/",
          "height": 34
        }
      },
      "source": [
        "os.getcwd()"
      ],
      "execution_count": 67,
      "outputs": [
        {
          "output_type": "execute_result",
          "data": {
            "text/plain": [
              "'/content'"
            ]
          },
          "metadata": {
            "tags": []
          },
          "execution_count": 67
        }
      ]
    },
    {
      "cell_type": "code",
      "metadata": {
        "id": "LHoQMWvB-2a3",
        "colab_type": "code",
        "outputId": "c1214838-199a-45c1-dfb2-1758b21630d4",
        "colab": {
          "base_uri": "https://localhost:8080/",
          "height": 1000
        }
      },
      "source": [
        "# sets the model, output directory and training iterations \n",
        "model = None\n",
        "output_dir=os.getcwd()\n",
        "n_iter=100\n",
        "\n",
        "# Checks to see if there is a current model or no model. In this case I will be starting with a blank model \n",
        "\n",
        "if model is not None:\n",
        "    nlp1 = spacy.load(model)  # load existing spaCy model\n",
        "    print(\"Loaded model '%s'\" % model)\n",
        "else:\n",
        "    nlp1 = spacy.blank('en')  # create blank Language class\n",
        "    print(\"Created blank 'en' model\")\n",
        "\n",
        "\n",
        "\n",
        "# create the built-in pipeline components and add them to the pipeline\n",
        "    # nlp.create_pipe works for built-ins that are registered with spaCy\n",
        "if 'ner' not in nlp1.pipe_names:\n",
        "    ner = nlp1.create_pipe('ner')\n",
        "    nlp1.add_pipe(ner, last=True)\n",
        "# otherwise, get it so we can add labels\n",
        "else:\n",
        "    ner = nlp1.get_pipe('ner')\n",
        "\n",
        "# add labels\n",
        "for _, annotations in TRAINING_DATA:\n",
        "    for ent in annotations.get('entities'):\n",
        "        ner.add_label(ent[2])\n",
        "\n",
        "    # get names of other pipes to disable them during training\n",
        "other_pipes = [pipe for pipe in nlp1.pipe_names if pipe != 'ner']\n",
        "with nlp1.disable_pipes(*other_pipes):  # only train NER\n",
        "    optimizer = nlp1.begin_training()\n",
        "    for itn in range(n_iter):\n",
        "        random.shuffle(TRAINING_DATA)\n",
        "        losses = {}\n",
        "        for text, annotations in tqdm(TRAINING_DATA):\n",
        "            nlp1.update(\n",
        "                [text],  # batch of texts\n",
        "                [annotations],  # batch of annotations\n",
        "                drop=0.5,  # dropout - make it harder to memorise data\n",
        "                sgd=optimizer,  # callable to update weights\n",
        "                losses=losses)\n",
        "        print(losses)"
      ],
      "execution_count": 68,
      "outputs": [
        {
          "output_type": "stream",
          "text": [
            "\r  0%|          | 0/54 [00:00<?, ?it/s]"
          ],
          "name": "stderr"
        },
        {
          "output_type": "stream",
          "text": [
            "Created blank 'en' model\n"
          ],
          "name": "stdout"
        },
        {
          "output_type": "stream",
          "text": [
            "100%|██████████| 54/54 [00:09<00:00,  5.48it/s]\n",
            "  2%|▏         | 1/54 [00:00<00:09,  5.85it/s]"
          ],
          "name": "stderr"
        },
        {
          "output_type": "stream",
          "text": [
            "{'ner': 14148.73607901565}\n"
          ],
          "name": "stdout"
        },
        {
          "output_type": "stream",
          "text": [
            "100%|██████████| 54/54 [00:09<00:00,  5.81it/s]\n",
            "  2%|▏         | 1/54 [00:00<00:09,  5.78it/s]"
          ],
          "name": "stderr"
        },
        {
          "output_type": "stream",
          "text": [
            "{'ner': 1830.728680542579}\n"
          ],
          "name": "stdout"
        },
        {
          "output_type": "stream",
          "text": [
            "100%|██████████| 54/54 [00:09<00:00,  5.61it/s]\n",
            "  2%|▏         | 1/54 [00:00<00:09,  5.86it/s]"
          ],
          "name": "stderr"
        },
        {
          "output_type": "stream",
          "text": [
            "{'ner': 3328.900997827191}\n"
          ],
          "name": "stdout"
        },
        {
          "output_type": "stream",
          "text": [
            "100%|██████████| 54/54 [00:09<00:00,  5.61it/s]\n",
            "  2%|▏         | 1/54 [00:00<00:07,  6.94it/s]"
          ],
          "name": "stderr"
        },
        {
          "output_type": "stream",
          "text": [
            "{'ner': 2806.2206993394916}\n"
          ],
          "name": "stdout"
        },
        {
          "output_type": "stream",
          "text": [
            "100%|██████████| 54/54 [00:09<00:00,  5.49it/s]\n",
            "  2%|▏         | 1/54 [00:00<00:09,  5.67it/s]"
          ],
          "name": "stderr"
        },
        {
          "output_type": "stream",
          "text": [
            "{'ner': 4755.574025129841}\n"
          ],
          "name": "stdout"
        },
        {
          "output_type": "stream",
          "text": [
            "100%|██████████| 54/54 [00:09<00:00,  5.51it/s]\n",
            "  0%|          | 0/54 [00:00<?, ?it/s]"
          ],
          "name": "stderr"
        },
        {
          "output_type": "stream",
          "text": [
            "{'ner': 3234.8208027705705}\n"
          ],
          "name": "stdout"
        },
        {
          "output_type": "stream",
          "text": [
            "100%|██████████| 54/54 [00:09<00:00,  5.47it/s]\n",
            "  2%|▏         | 1/54 [00:00<00:08,  6.23it/s]"
          ],
          "name": "stderr"
        },
        {
          "output_type": "stream",
          "text": [
            "{'ner': 3535.249572904852}\n"
          ],
          "name": "stdout"
        },
        {
          "output_type": "stream",
          "text": [
            "100%|██████████| 54/54 [00:09<00:00,  5.54it/s]\n",
            "  2%|▏         | 1/54 [00:00<00:10,  5.05it/s]"
          ],
          "name": "stderr"
        },
        {
          "output_type": "stream",
          "text": [
            "{'ner': 2613.8328344543534}\n"
          ],
          "name": "stdout"
        },
        {
          "output_type": "stream",
          "text": [
            "100%|██████████| 54/54 [00:09<00:00,  5.53it/s]\n",
            "  0%|          | 0/54 [00:00<?, ?it/s]"
          ],
          "name": "stderr"
        },
        {
          "output_type": "stream",
          "text": [
            "{'ner': 3875.233602688556}\n"
          ],
          "name": "stdout"
        },
        {
          "output_type": "stream",
          "text": [
            "100%|██████████| 54/54 [00:09<00:00,  5.51it/s]\n",
            "  2%|▏         | 1/54 [00:00<00:06,  7.64it/s]"
          ],
          "name": "stderr"
        },
        {
          "output_type": "stream",
          "text": [
            "{'ner': 5422.728024565316}\n"
          ],
          "name": "stdout"
        },
        {
          "output_type": "stream",
          "text": [
            "100%|██████████| 54/54 [00:09<00:00,  5.62it/s]\n",
            "  0%|          | 0/54 [00:00<?, ?it/s]"
          ],
          "name": "stderr"
        },
        {
          "output_type": "stream",
          "text": [
            "{'ner': 2963.311429440344}\n"
          ],
          "name": "stdout"
        },
        {
          "output_type": "stream",
          "text": [
            "100%|██████████| 54/54 [00:09<00:00,  5.51it/s]\n",
            "  0%|          | 0/54 [00:00<?, ?it/s]"
          ],
          "name": "stderr"
        },
        {
          "output_type": "stream",
          "text": [
            "{'ner': 3268.2311646490148}\n"
          ],
          "name": "stdout"
        },
        {
          "output_type": "stream",
          "text": [
            "100%|██████████| 54/54 [00:10<00:00,  5.37it/s]\n",
            "  0%|          | 0/54 [00:00<?, ?it/s]"
          ],
          "name": "stderr"
        },
        {
          "output_type": "stream",
          "text": [
            "{'ner': 3199.5484364676677}\n"
          ],
          "name": "stdout"
        },
        {
          "output_type": "stream",
          "text": [
            "100%|██████████| 54/54 [00:09<00:00,  5.50it/s]\n",
            "  0%|          | 0/54 [00:00<?, ?it/s]"
          ],
          "name": "stderr"
        },
        {
          "output_type": "stream",
          "text": [
            "{'ner': 2898.7897044707133}\n"
          ],
          "name": "stdout"
        },
        {
          "output_type": "stream",
          "text": [
            "100%|██████████| 54/54 [00:09<00:00,  5.48it/s]\n",
            "  2%|▏         | 1/54 [00:00<00:09,  5.49it/s]"
          ],
          "name": "stderr"
        },
        {
          "output_type": "stream",
          "text": [
            "{'ner': 2326.4581069392843}\n"
          ],
          "name": "stdout"
        },
        {
          "output_type": "stream",
          "text": [
            "100%|██████████| 54/54 [00:10<00:00,  5.40it/s]\n",
            "  2%|▏         | 1/54 [00:00<00:09,  5.88it/s]"
          ],
          "name": "stderr"
        },
        {
          "output_type": "stream",
          "text": [
            "{'ner': 2686.0096110976283}\n"
          ],
          "name": "stdout"
        },
        {
          "output_type": "stream",
          "text": [
            "100%|██████████| 54/54 [00:09<00:00,  5.55it/s]\n",
            "  2%|▏         | 1/54 [00:00<00:09,  5.84it/s]"
          ],
          "name": "stderr"
        },
        {
          "output_type": "stream",
          "text": [
            "{'ner': 2351.8237815467123}\n"
          ],
          "name": "stdout"
        },
        {
          "output_type": "stream",
          "text": [
            "100%|██████████| 54/54 [00:09<00:00,  5.54it/s]\n",
            "  2%|▏         | 1/54 [00:00<00:09,  5.57it/s]"
          ],
          "name": "stderr"
        },
        {
          "output_type": "stream",
          "text": [
            "{'ner': 1502.6957770972447}\n"
          ],
          "name": "stdout"
        },
        {
          "output_type": "stream",
          "text": [
            "100%|██████████| 54/54 [00:09<00:00,  5.44it/s]\n",
            "  0%|          | 0/54 [00:00<?, ?it/s]"
          ],
          "name": "stderr"
        },
        {
          "output_type": "stream",
          "text": [
            "{'ner': 925.2249083317643}\n"
          ],
          "name": "stdout"
        },
        {
          "output_type": "stream",
          "text": [
            "100%|██████████| 54/54 [00:09<00:00,  5.41it/s]\n",
            "  2%|▏         | 1/54 [00:00<00:08,  6.08it/s]"
          ],
          "name": "stderr"
        },
        {
          "output_type": "stream",
          "text": [
            "{'ner': 1053.490007037164}\n"
          ],
          "name": "stdout"
        },
        {
          "output_type": "stream",
          "text": [
            "100%|██████████| 54/54 [00:09<00:00,  5.41it/s]\n",
            "  0%|          | 0/54 [00:00<?, ?it/s]"
          ],
          "name": "stderr"
        },
        {
          "output_type": "stream",
          "text": [
            "{'ner': 872.8232385161768}\n"
          ],
          "name": "stdout"
        },
        {
          "output_type": "stream",
          "text": [
            "100%|██████████| 54/54 [00:09<00:00,  5.46it/s]\n",
            "  2%|▏         | 1/54 [00:00<00:09,  5.58it/s]"
          ],
          "name": "stderr"
        },
        {
          "output_type": "stream",
          "text": [
            "{'ner': 565.3371692507001}\n"
          ],
          "name": "stdout"
        },
        {
          "output_type": "stream",
          "text": [
            "100%|██████████| 54/54 [00:09<00:00,  5.43it/s]\n",
            "  2%|▏         | 1/54 [00:00<00:07,  7.02it/s]"
          ],
          "name": "stderr"
        },
        {
          "output_type": "stream",
          "text": [
            "{'ner': 648.5422253899904}\n"
          ],
          "name": "stdout"
        },
        {
          "output_type": "stream",
          "text": [
            "100%|██████████| 54/54 [00:09<00:00,  5.48it/s]\n",
            "  0%|          | 0/54 [00:00<?, ?it/s]"
          ],
          "name": "stderr"
        },
        {
          "output_type": "stream",
          "text": [
            "{'ner': 545.7492338855934}\n"
          ],
          "name": "stdout"
        },
        {
          "output_type": "stream",
          "text": [
            "100%|██████████| 54/54 [00:09<00:00,  5.41it/s]\n",
            "  0%|          | 0/54 [00:00<?, ?it/s]"
          ],
          "name": "stderr"
        },
        {
          "output_type": "stream",
          "text": [
            "{'ner': 481.28972623353025}\n"
          ],
          "name": "stdout"
        },
        {
          "output_type": "stream",
          "text": [
            "100%|██████████| 54/54 [00:09<00:00,  5.51it/s]\n",
            "  2%|▏         | 1/54 [00:00<00:07,  7.03it/s]"
          ],
          "name": "stderr"
        },
        {
          "output_type": "stream",
          "text": [
            "{'ner': 562.2317488872807}\n"
          ],
          "name": "stdout"
        },
        {
          "output_type": "stream",
          "text": [
            "100%|██████████| 54/54 [00:09<00:00,  5.52it/s]\n",
            "  0%|          | 0/54 [00:00<?, ?it/s]"
          ],
          "name": "stderr"
        },
        {
          "output_type": "stream",
          "text": [
            "{'ner': 514.077601364338}\n"
          ],
          "name": "stdout"
        },
        {
          "output_type": "stream",
          "text": [
            "100%|██████████| 54/54 [00:10<00:00,  5.29it/s]\n",
            "  2%|▏         | 1/54 [00:00<00:06,  7.97it/s]"
          ],
          "name": "stderr"
        },
        {
          "output_type": "stream",
          "text": [
            "{'ner': 611.0052874736424}\n"
          ],
          "name": "stdout"
        },
        {
          "output_type": "stream",
          "text": [
            "100%|██████████| 54/54 [00:10<00:00,  5.33it/s]\n",
            "  0%|          | 0/54 [00:00<?, ?it/s]"
          ],
          "name": "stderr"
        },
        {
          "output_type": "stream",
          "text": [
            "{'ner': 562.1944199368644}\n"
          ],
          "name": "stdout"
        },
        {
          "output_type": "stream",
          "text": [
            "100%|██████████| 54/54 [00:09<00:00,  5.62it/s]\n",
            "  2%|▏         | 1/54 [00:00<00:07,  6.66it/s]"
          ],
          "name": "stderr"
        },
        {
          "output_type": "stream",
          "text": [
            "{'ner': 390.91132213011076}\n"
          ],
          "name": "stdout"
        },
        {
          "output_type": "stream",
          "text": [
            "100%|██████████| 54/54 [00:10<00:00,  5.40it/s]\n",
            "  0%|          | 0/54 [00:00<?, ?it/s]"
          ],
          "name": "stderr"
        },
        {
          "output_type": "stream",
          "text": [
            "{'ner': 477.40624734798143}\n"
          ],
          "name": "stdout"
        },
        {
          "output_type": "stream",
          "text": [
            "100%|██████████| 54/54 [00:09<00:00,  5.43it/s]\n",
            "  0%|          | 0/54 [00:00<?, ?it/s]"
          ],
          "name": "stderr"
        },
        {
          "output_type": "stream",
          "text": [
            "{'ner': 591.5040403357394}\n"
          ],
          "name": "stdout"
        },
        {
          "output_type": "stream",
          "text": [
            "100%|██████████| 54/54 [00:10<00:00,  5.34it/s]\n",
            "  2%|▏         | 1/54 [00:00<00:08,  6.52it/s]"
          ],
          "name": "stderr"
        },
        {
          "output_type": "stream",
          "text": [
            "{'ner': 424.32789038715043}\n"
          ],
          "name": "stdout"
        },
        {
          "output_type": "stream",
          "text": [
            "100%|██████████| 54/54 [00:10<00:00,  5.23it/s]\n",
            "  0%|          | 0/54 [00:00<?, ?it/s]"
          ],
          "name": "stderr"
        },
        {
          "output_type": "stream",
          "text": [
            "{'ner': 359.7069270170913}\n"
          ],
          "name": "stdout"
        },
        {
          "output_type": "stream",
          "text": [
            "100%|██████████| 54/54 [00:10<00:00,  5.19it/s]\n",
            "  2%|▏         | 1/54 [00:00<00:08,  6.30it/s]"
          ],
          "name": "stderr"
        },
        {
          "output_type": "stream",
          "text": [
            "{'ner': 480.4509126514227}\n"
          ],
          "name": "stdout"
        },
        {
          "output_type": "stream",
          "text": [
            "100%|██████████| 54/54 [00:10<00:00,  5.39it/s]\n",
            "  2%|▏         | 1/54 [00:00<00:08,  6.62it/s]"
          ],
          "name": "stderr"
        },
        {
          "output_type": "stream",
          "text": [
            "{'ner': 381.821878023577}\n"
          ],
          "name": "stdout"
        },
        {
          "output_type": "stream",
          "text": [
            "100%|██████████| 54/54 [00:10<00:00,  5.32it/s]\n",
            "  2%|▏         | 1/54 [00:00<00:08,  6.54it/s]"
          ],
          "name": "stderr"
        },
        {
          "output_type": "stream",
          "text": [
            "{'ner': 336.43231471370353}\n"
          ],
          "name": "stdout"
        },
        {
          "output_type": "stream",
          "text": [
            "100%|██████████| 54/54 [00:10<00:00,  5.30it/s]\n",
            "  2%|▏         | 1/54 [00:00<00:09,  5.40it/s]"
          ],
          "name": "stderr"
        },
        {
          "output_type": "stream",
          "text": [
            "{'ner': 507.14338613765193}\n"
          ],
          "name": "stdout"
        },
        {
          "output_type": "stream",
          "text": [
            "100%|██████████| 54/54 [00:10<00:00,  5.22it/s]\n",
            "  2%|▏         | 1/54 [00:00<00:10,  5.13it/s]"
          ],
          "name": "stderr"
        },
        {
          "output_type": "stream",
          "text": [
            "{'ner': 339.0050749005926}\n"
          ],
          "name": "stdout"
        },
        {
          "output_type": "stream",
          "text": [
            "100%|██████████| 54/54 [00:10<00:00,  5.32it/s]\n",
            "  2%|▏         | 1/54 [00:00<00:08,  6.25it/s]"
          ],
          "name": "stderr"
        },
        {
          "output_type": "stream",
          "text": [
            "{'ner': 284.87275831778726}\n"
          ],
          "name": "stdout"
        },
        {
          "output_type": "stream",
          "text": [
            "100%|██████████| 54/54 [00:09<00:00,  5.46it/s]\n",
            "  2%|▏         | 1/54 [00:00<00:09,  5.80it/s]"
          ],
          "name": "stderr"
        },
        {
          "output_type": "stream",
          "text": [
            "{'ner': 364.6469720332284}\n"
          ],
          "name": "stdout"
        },
        {
          "output_type": "stream",
          "text": [
            "100%|██████████| 54/54 [00:09<00:00,  5.48it/s]\n",
            "  2%|▏         | 1/54 [00:00<00:07,  7.07it/s]"
          ],
          "name": "stderr"
        },
        {
          "output_type": "stream",
          "text": [
            "{'ner': 316.34122513095355}\n"
          ],
          "name": "stdout"
        },
        {
          "output_type": "stream",
          "text": [
            "100%|██████████| 54/54 [00:09<00:00,  5.46it/s]\n",
            "  0%|          | 0/54 [00:00<?, ?it/s]"
          ],
          "name": "stderr"
        },
        {
          "output_type": "stream",
          "text": [
            "{'ner': 806.4455350851324}\n"
          ],
          "name": "stdout"
        },
        {
          "output_type": "stream",
          "text": [
            "100%|██████████| 54/54 [00:10<00:00,  5.38it/s]\n",
            "  0%|          | 0/54 [00:00<?, ?it/s]"
          ],
          "name": "stderr"
        },
        {
          "output_type": "stream",
          "text": [
            "{'ner': 331.5236156586853}\n"
          ],
          "name": "stdout"
        },
        {
          "output_type": "stream",
          "text": [
            "100%|██████████| 54/54 [00:09<00:00,  5.55it/s]\n",
            "  0%|          | 0/54 [00:00<?, ?it/s]"
          ],
          "name": "stderr"
        },
        {
          "output_type": "stream",
          "text": [
            "{'ner': 291.70871241580386}\n"
          ],
          "name": "stdout"
        },
        {
          "output_type": "stream",
          "text": [
            "100%|██████████| 54/54 [00:10<00:00,  5.18it/s]\n",
            "  2%|▏         | 1/54 [00:00<00:08,  6.16it/s]"
          ],
          "name": "stderr"
        },
        {
          "output_type": "stream",
          "text": [
            "{'ner': 283.1882812365403}\n"
          ],
          "name": "stdout"
        },
        {
          "output_type": "stream",
          "text": [
            "100%|██████████| 54/54 [00:10<00:00,  5.33it/s]\n",
            "  2%|▏         | 1/54 [00:00<00:08,  6.25it/s]"
          ],
          "name": "stderr"
        },
        {
          "output_type": "stream",
          "text": [
            "{'ner': 222.4951996350808}\n"
          ],
          "name": "stdout"
        },
        {
          "output_type": "stream",
          "text": [
            "100%|██████████| 54/54 [00:10<00:00,  5.38it/s]\n",
            "  0%|          | 0/54 [00:00<?, ?it/s]"
          ],
          "name": "stderr"
        },
        {
          "output_type": "stream",
          "text": [
            "{'ner': 205.1029961867531}\n"
          ],
          "name": "stdout"
        },
        {
          "output_type": "stream",
          "text": [
            "100%|██████████| 54/54 [00:10<00:00,  5.12it/s]\n",
            "  0%|          | 0/54 [00:00<?, ?it/s]"
          ],
          "name": "stderr"
        },
        {
          "output_type": "stream",
          "text": [
            "{'ner': 375.1620479786898}\n"
          ],
          "name": "stdout"
        },
        {
          "output_type": "stream",
          "text": [
            "100%|██████████| 54/54 [00:10<00:00,  5.02it/s]\n",
            "  0%|          | 0/54 [00:00<?, ?it/s]"
          ],
          "name": "stderr"
        },
        {
          "output_type": "stream",
          "text": [
            "{'ner': 234.75463846725546}\n"
          ],
          "name": "stdout"
        },
        {
          "output_type": "stream",
          "text": [
            "100%|██████████| 54/54 [00:10<00:00,  4.99it/s]\n",
            "  2%|▏         | 1/54 [00:00<00:09,  5.38it/s]"
          ],
          "name": "stderr"
        },
        {
          "output_type": "stream",
          "text": [
            "{'ner': 306.05929008551897}\n"
          ],
          "name": "stdout"
        },
        {
          "output_type": "stream",
          "text": [
            "100%|██████████| 54/54 [00:10<00:00,  4.96it/s]\n",
            "  0%|          | 0/54 [00:00<?, ?it/s]"
          ],
          "name": "stderr"
        },
        {
          "output_type": "stream",
          "text": [
            "{'ner': 314.63216432270985}\n"
          ],
          "name": "stdout"
        },
        {
          "output_type": "stream",
          "text": [
            "100%|██████████| 54/54 [00:10<00:00,  5.08it/s]\n",
            "  2%|▏         | 1/54 [00:00<00:08,  6.06it/s]"
          ],
          "name": "stderr"
        },
        {
          "output_type": "stream",
          "text": [
            "{'ner': 202.63331960814705}\n"
          ],
          "name": "stdout"
        },
        {
          "output_type": "stream",
          "text": [
            "100%|██████████| 54/54 [00:10<00:00,  4.98it/s]\n",
            "  0%|          | 0/54 [00:00<?, ?it/s]"
          ],
          "name": "stderr"
        },
        {
          "output_type": "stream",
          "text": [
            "{'ner': 332.8818908579237}\n"
          ],
          "name": "stdout"
        },
        {
          "output_type": "stream",
          "text": [
            "100%|██████████| 54/54 [00:10<00:00,  4.95it/s]\n",
            "  0%|          | 0/54 [00:00<?, ?it/s]"
          ],
          "name": "stderr"
        },
        {
          "output_type": "stream",
          "text": [
            "{'ner': 233.36602854270376}\n"
          ],
          "name": "stdout"
        },
        {
          "output_type": "stream",
          "text": [
            "100%|██████████| 54/54 [00:10<00:00,  4.93it/s]\n",
            "  0%|          | 0/54 [00:00<?, ?it/s]"
          ],
          "name": "stderr"
        },
        {
          "output_type": "stream",
          "text": [
            "{'ner': 253.65521085822488}\n"
          ],
          "name": "stdout"
        },
        {
          "output_type": "stream",
          "text": [
            "100%|██████████| 54/54 [00:10<00:00,  4.98it/s]\n",
            "  2%|▏         | 1/54 [00:00<00:08,  6.01it/s]"
          ],
          "name": "stderr"
        },
        {
          "output_type": "stream",
          "text": [
            "{'ner': 210.75254623424894}\n"
          ],
          "name": "stdout"
        },
        {
          "output_type": "stream",
          "text": [
            "100%|██████████| 54/54 [00:10<00:00,  5.14it/s]\n",
            "  2%|▏         | 1/54 [00:00<00:09,  5.55it/s]"
          ],
          "name": "stderr"
        },
        {
          "output_type": "stream",
          "text": [
            "{'ner': 167.81734390294508}\n"
          ],
          "name": "stdout"
        },
        {
          "output_type": "stream",
          "text": [
            "100%|██████████| 54/54 [00:10<00:00,  5.25it/s]\n",
            "  2%|▏         | 1/54 [00:00<00:09,  5.85it/s]"
          ],
          "name": "stderr"
        },
        {
          "output_type": "stream",
          "text": [
            "{'ner': 217.75325668229834}\n"
          ],
          "name": "stdout"
        },
        {
          "output_type": "stream",
          "text": [
            "100%|██████████| 54/54 [00:10<00:00,  5.17it/s]\n",
            "  2%|▏         | 1/54 [00:00<00:08,  6.14it/s]"
          ],
          "name": "stderr"
        },
        {
          "output_type": "stream",
          "text": [
            "{'ner': 184.55613262666716}\n"
          ],
          "name": "stdout"
        },
        {
          "output_type": "stream",
          "text": [
            "100%|██████████| 54/54 [00:10<00:00,  5.21it/s]\n",
            "  0%|          | 0/54 [00:00<?, ?it/s]"
          ],
          "name": "stderr"
        },
        {
          "output_type": "stream",
          "text": [
            "{'ner': 213.95563926457913}\n"
          ],
          "name": "stdout"
        },
        {
          "output_type": "stream",
          "text": [
            "100%|██████████| 54/54 [00:10<00:00,  5.16it/s]\n",
            "  0%|          | 0/54 [00:00<?, ?it/s]"
          ],
          "name": "stderr"
        },
        {
          "output_type": "stream",
          "text": [
            "{'ner': 185.35636156370322}\n"
          ],
          "name": "stdout"
        },
        {
          "output_type": "stream",
          "text": [
            "100%|██████████| 54/54 [00:10<00:00,  5.10it/s]\n",
            "  2%|▏         | 1/54 [00:00<00:07,  6.90it/s]"
          ],
          "name": "stderr"
        },
        {
          "output_type": "stream",
          "text": [
            "{'ner': 155.79919051924415}\n"
          ],
          "name": "stdout"
        },
        {
          "output_type": "stream",
          "text": [
            "100%|██████████| 54/54 [00:10<00:00,  5.27it/s]\n",
            "  2%|▏         | 1/54 [00:00<00:07,  7.17it/s]"
          ],
          "name": "stderr"
        },
        {
          "output_type": "stream",
          "text": [
            "{'ner': 194.6944962566019}\n"
          ],
          "name": "stdout"
        },
        {
          "output_type": "stream",
          "text": [
            "100%|██████████| 54/54 [00:10<00:00,  5.33it/s]\n",
            "  2%|▏         | 1/54 [00:00<00:07,  7.02it/s]"
          ],
          "name": "stderr"
        },
        {
          "output_type": "stream",
          "text": [
            "{'ner': 173.12060029452655}\n"
          ],
          "name": "stdout"
        },
        {
          "output_type": "stream",
          "text": [
            "100%|██████████| 54/54 [00:10<00:00,  5.18it/s]\n",
            "  2%|▏         | 1/54 [00:00<00:10,  5.13it/s]"
          ],
          "name": "stderr"
        },
        {
          "output_type": "stream",
          "text": [
            "{'ner': 105.0325040018497}\n"
          ],
          "name": "stdout"
        },
        {
          "output_type": "stream",
          "text": [
            "100%|██████████| 54/54 [00:10<00:00,  5.20it/s]\n",
            "  2%|▏         | 1/54 [00:00<00:10,  5.29it/s]"
          ],
          "name": "stderr"
        },
        {
          "output_type": "stream",
          "text": [
            "{'ner': 103.16101400884598}\n"
          ],
          "name": "stdout"
        },
        {
          "output_type": "stream",
          "text": [
            "100%|██████████| 54/54 [00:10<00:00,  5.17it/s]\n",
            "  2%|▏         | 1/54 [00:00<00:10,  5.28it/s]"
          ],
          "name": "stderr"
        },
        {
          "output_type": "stream",
          "text": [
            "{'ner': 120.62778298879206}\n"
          ],
          "name": "stdout"
        },
        {
          "output_type": "stream",
          "text": [
            "100%|██████████| 54/54 [00:10<00:00,  5.19it/s]\n",
            "  2%|▏         | 1/54 [00:00<00:09,  5.72it/s]"
          ],
          "name": "stderr"
        },
        {
          "output_type": "stream",
          "text": [
            "{'ner': 114.75415342010865}\n"
          ],
          "name": "stdout"
        },
        {
          "output_type": "stream",
          "text": [
            "100%|██████████| 54/54 [00:10<00:00,  5.21it/s]\n",
            "  2%|▏         | 1/54 [00:00<00:09,  5.69it/s]"
          ],
          "name": "stderr"
        },
        {
          "output_type": "stream",
          "text": [
            "{'ner': 137.9427290302259}\n"
          ],
          "name": "stdout"
        },
        {
          "output_type": "stream",
          "text": [
            "100%|██████████| 54/54 [00:10<00:00,  5.27it/s]\n",
            "  0%|          | 0/54 [00:00<?, ?it/s]"
          ],
          "name": "stderr"
        },
        {
          "output_type": "stream",
          "text": [
            "{'ner': 114.46565055892862}\n"
          ],
          "name": "stdout"
        },
        {
          "output_type": "stream",
          "text": [
            "100%|██████████| 54/54 [00:10<00:00,  5.26it/s]\n",
            "  2%|▏         | 1/54 [00:00<00:08,  6.38it/s]"
          ],
          "name": "stderr"
        },
        {
          "output_type": "stream",
          "text": [
            "{'ner': 90.54173886506958}\n"
          ],
          "name": "stdout"
        },
        {
          "output_type": "stream",
          "text": [
            "100%|██████████| 54/54 [00:10<00:00,  5.19it/s]\n",
            "  2%|▏         | 1/54 [00:00<00:08,  6.08it/s]"
          ],
          "name": "stderr"
        },
        {
          "output_type": "stream",
          "text": [
            "{'ner': 147.3794895819649}\n"
          ],
          "name": "stdout"
        },
        {
          "output_type": "stream",
          "text": [
            "100%|██████████| 54/54 [00:10<00:00,  5.21it/s]\n",
            "  2%|▏         | 1/54 [00:00<00:08,  6.28it/s]"
          ],
          "name": "stderr"
        },
        {
          "output_type": "stream",
          "text": [
            "{'ner': 94.35055348037021}\n"
          ],
          "name": "stdout"
        },
        {
          "output_type": "stream",
          "text": [
            "100%|██████████| 54/54 [00:10<00:00,  5.15it/s]\n",
            "  2%|▏         | 1/54 [00:00<00:08,  6.44it/s]"
          ],
          "name": "stderr"
        },
        {
          "output_type": "stream",
          "text": [
            "{'ner': 106.98570243030518}\n"
          ],
          "name": "stdout"
        },
        {
          "output_type": "stream",
          "text": [
            "100%|██████████| 54/54 [00:09<00:00,  5.45it/s]\n",
            "  0%|          | 0/54 [00:00<?, ?it/s]"
          ],
          "name": "stderr"
        },
        {
          "output_type": "stream",
          "text": [
            "{'ner': 118.6376534970962}\n"
          ],
          "name": "stdout"
        },
        {
          "output_type": "stream",
          "text": [
            "100%|██████████| 54/54 [00:10<00:00,  5.12it/s]\n",
            "  2%|▏         | 1/54 [00:00<00:10,  5.14it/s]"
          ],
          "name": "stderr"
        },
        {
          "output_type": "stream",
          "text": [
            "{'ner': 92.09109307635799}\n"
          ],
          "name": "stdout"
        },
        {
          "output_type": "stream",
          "text": [
            "100%|██████████| 54/54 [00:10<00:00,  5.24it/s]\n",
            "  2%|▏         | 1/54 [00:00<00:10,  5.17it/s]"
          ],
          "name": "stderr"
        },
        {
          "output_type": "stream",
          "text": [
            "{'ner': 101.98715339190112}\n"
          ],
          "name": "stdout"
        },
        {
          "output_type": "stream",
          "text": [
            "100%|██████████| 54/54 [00:10<00:00,  5.13it/s]\n",
            "  2%|▏         | 1/54 [00:00<00:10,  5.24it/s]"
          ],
          "name": "stderr"
        },
        {
          "output_type": "stream",
          "text": [
            "{'ner': 93.70723665038085}\n"
          ],
          "name": "stdout"
        },
        {
          "output_type": "stream",
          "text": [
            "100%|██████████| 54/54 [00:10<00:00,  5.16it/s]\n",
            "  2%|▏         | 1/54 [00:00<00:08,  6.14it/s]"
          ],
          "name": "stderr"
        },
        {
          "output_type": "stream",
          "text": [
            "{'ner': 71.00132333618083}\n"
          ],
          "name": "stdout"
        },
        {
          "output_type": "stream",
          "text": [
            "100%|██████████| 54/54 [00:10<00:00,  5.21it/s]\n",
            "  2%|▏         | 1/54 [00:00<00:10,  5.04it/s]"
          ],
          "name": "stderr"
        },
        {
          "output_type": "stream",
          "text": [
            "{'ner': 84.62480761147229}\n"
          ],
          "name": "stdout"
        },
        {
          "output_type": "stream",
          "text": [
            "100%|██████████| 54/54 [00:10<00:00,  5.28it/s]\n",
            "  0%|          | 0/54 [00:00<?, ?it/s]"
          ],
          "name": "stderr"
        },
        {
          "output_type": "stream",
          "text": [
            "{'ner': 81.3724343201024}\n"
          ],
          "name": "stdout"
        },
        {
          "output_type": "stream",
          "text": [
            "100%|██████████| 54/54 [00:10<00:00,  5.04it/s]\n",
            "  0%|          | 0/54 [00:00<?, ?it/s]"
          ],
          "name": "stderr"
        },
        {
          "output_type": "stream",
          "text": [
            "{'ner': 87.69834198499215}\n"
          ],
          "name": "stdout"
        },
        {
          "output_type": "stream",
          "text": [
            "100%|██████████| 54/54 [00:10<00:00,  5.09it/s]\n",
            "  2%|▏         | 1/54 [00:00<00:08,  6.46it/s]"
          ],
          "name": "stderr"
        },
        {
          "output_type": "stream",
          "text": [
            "{'ner': 77.40792416717515}\n"
          ],
          "name": "stdout"
        },
        {
          "output_type": "stream",
          "text": [
            "100%|██████████| 54/54 [00:10<00:00,  5.14it/s]\n",
            "  0%|          | 0/54 [00:00<?, ?it/s]"
          ],
          "name": "stderr"
        },
        {
          "output_type": "stream",
          "text": [
            "{'ner': 88.53237400832629}\n"
          ],
          "name": "stdout"
        },
        {
          "output_type": "stream",
          "text": [
            "100%|██████████| 54/54 [00:10<00:00,  5.20it/s]\n",
            "  2%|▏         | 1/54 [00:00<00:09,  5.40it/s]"
          ],
          "name": "stderr"
        },
        {
          "output_type": "stream",
          "text": [
            "{'ner': 62.18211193863961}\n"
          ],
          "name": "stdout"
        },
        {
          "output_type": "stream",
          "text": [
            "100%|██████████| 54/54 [00:10<00:00,  5.24it/s]\n",
            "  2%|▏         | 1/54 [00:00<00:08,  5.97it/s]"
          ],
          "name": "stderr"
        },
        {
          "output_type": "stream",
          "text": [
            "{'ner': 125.46916017108126}\n"
          ],
          "name": "stdout"
        },
        {
          "output_type": "stream",
          "text": [
            "100%|██████████| 54/54 [00:10<00:00,  5.12it/s]\n",
            "  2%|▏         | 1/54 [00:00<00:09,  5.35it/s]"
          ],
          "name": "stderr"
        },
        {
          "output_type": "stream",
          "text": [
            "{'ner': 58.82632463889721}\n"
          ],
          "name": "stdout"
        },
        {
          "output_type": "stream",
          "text": [
            "100%|██████████| 54/54 [00:10<00:00,  5.11it/s]\n",
            "  0%|          | 0/54 [00:00<?, ?it/s]"
          ],
          "name": "stderr"
        },
        {
          "output_type": "stream",
          "text": [
            "{'ner': 83.71476878838575}\n"
          ],
          "name": "stdout"
        },
        {
          "output_type": "stream",
          "text": [
            "100%|██████████| 54/54 [00:10<00:00,  5.10it/s]\n",
            "  0%|          | 0/54 [00:00<?, ?it/s]"
          ],
          "name": "stderr"
        },
        {
          "output_type": "stream",
          "text": [
            "{'ner': 81.20815718059343}\n"
          ],
          "name": "stdout"
        },
        {
          "output_type": "stream",
          "text": [
            "100%|██████████| 54/54 [00:10<00:00,  5.13it/s]\n",
            "  2%|▏         | 1/54 [00:00<00:07,  7.14it/s]"
          ],
          "name": "stderr"
        },
        {
          "output_type": "stream",
          "text": [
            "{'ner': 47.97691504959057}\n"
          ],
          "name": "stdout"
        },
        {
          "output_type": "stream",
          "text": [
            "100%|██████████| 54/54 [00:10<00:00,  5.38it/s]\n",
            "  2%|▏         | 1/54 [00:00<00:10,  5.26it/s]"
          ],
          "name": "stderr"
        },
        {
          "output_type": "stream",
          "text": [
            "{'ner': 84.68654278784228}\n"
          ],
          "name": "stdout"
        },
        {
          "output_type": "stream",
          "text": [
            "100%|██████████| 54/54 [00:10<00:00,  5.13it/s]\n",
            "  0%|          | 0/54 [00:00<?, ?it/s]"
          ],
          "name": "stderr"
        },
        {
          "output_type": "stream",
          "text": [
            "{'ner': 76.56357803097474}\n"
          ],
          "name": "stdout"
        },
        {
          "output_type": "stream",
          "text": [
            "100%|██████████| 54/54 [00:10<00:00,  5.08it/s]\n",
            "  2%|▏         | 1/54 [00:00<00:08,  6.27it/s]"
          ],
          "name": "stderr"
        },
        {
          "output_type": "stream",
          "text": [
            "{'ner': 53.39916310590634}\n"
          ],
          "name": "stdout"
        },
        {
          "output_type": "stream",
          "text": [
            "100%|██████████| 54/54 [00:10<00:00,  5.24it/s]\n",
            "  0%|          | 0/54 [00:00<?, ?it/s]"
          ],
          "name": "stderr"
        },
        {
          "output_type": "stream",
          "text": [
            "{'ner': 75.02845660346695}\n"
          ],
          "name": "stdout"
        },
        {
          "output_type": "stream",
          "text": [
            "100%|██████████| 54/54 [00:10<00:00,  5.25it/s]\n",
            "  2%|▏         | 1/54 [00:00<00:09,  5.50it/s]"
          ],
          "name": "stderr"
        },
        {
          "output_type": "stream",
          "text": [
            "{'ner': 43.75410255460325}\n"
          ],
          "name": "stdout"
        },
        {
          "output_type": "stream",
          "text": [
            "100%|██████████| 54/54 [00:10<00:00,  5.14it/s]\n",
            "  0%|          | 0/54 [00:00<?, ?it/s]"
          ],
          "name": "stderr"
        },
        {
          "output_type": "stream",
          "text": [
            "{'ner': 51.60119475488547}\n"
          ],
          "name": "stdout"
        },
        {
          "output_type": "stream",
          "text": [
            "100%|██████████| 54/54 [00:10<00:00,  5.12it/s]\n",
            "  0%|          | 0/54 [00:00<?, ?it/s]"
          ],
          "name": "stderr"
        },
        {
          "output_type": "stream",
          "text": [
            "{'ner': 54.53087415851151}\n"
          ],
          "name": "stdout"
        },
        {
          "output_type": "stream",
          "text": [
            "100%|██████████| 54/54 [00:10<00:00,  5.04it/s]\n",
            "  2%|▏         | 1/54 [00:00<00:10,  5.25it/s]"
          ],
          "name": "stderr"
        },
        {
          "output_type": "stream",
          "text": [
            "{'ner': 69.3301175368728}\n"
          ],
          "name": "stdout"
        },
        {
          "output_type": "stream",
          "text": [
            "100%|██████████| 54/54 [00:10<00:00,  5.05it/s]"
          ],
          "name": "stderr"
        },
        {
          "output_type": "stream",
          "text": [
            "{'ner': 63.07436027462579}\n"
          ],
          "name": "stdout"
        },
        {
          "output_type": "stream",
          "text": [
            "\n"
          ],
          "name": "stderr"
        }
      ]
    },
    {
      "cell_type": "code",
      "metadata": {
        "id": "puI6XecsD59C",
        "colab_type": "code",
        "outputId": "1e8de4bc-6cc0-4359-ada3-c676e01eeac8",
        "colab": {
          "base_uri": "https://localhost:8080/",
          "height": 50
        }
      },
      "source": [
        "output_dir=os.getcwd()+'/model'\n",
        "print(output_dir)\n",
        "\n",
        "# save model to output directory\n",
        "if output_dir is not None:\n",
        "    output_dir = Path(output_dir)\n",
        "if not output_dir.exists():\n",
        "    output_dir.mkdir()\n",
        "nlp1.to_disk(output_dir)\n",
        "print(\"Saved model to\", output_dir)"
      ],
      "execution_count": 87,
      "outputs": [
        {
          "output_type": "stream",
          "text": [
            "/content/model\n",
            "Saved model to /content/model\n"
          ],
          "name": "stdout"
        }
      ]
    },
    {
      "cell_type": "code",
      "metadata": {
        "id": "uyRO8stN-2W1",
        "colab_type": "code",
        "outputId": "e446e6bf-3622-4540-b7ac-d3150c8a0a9d",
        "colab": {
          "base_uri": "https://localhost:8080/",
          "height": 34
        }
      },
      "source": [
        "# test the saved model\n",
        "print(\"Loading from\", output_dir)\n",
        "nlp2 = spacy.load(output_dir)\n",
        "\n",
        "def predict_entities(text, nlp2):\n",
        "    # test the trained model\n",
        "    doc = nlp2(text)\n",
        "    entities = []\n",
        "    for ent in doc.ents:\n",
        "        entities.append((ent.text, ent.label_))\n",
        "    return entities"
      ],
      "execution_count": 88,
      "outputs": [
        {
          "output_type": "stream",
          "text": [
            "Loading from /content/model\n"
          ],
          "name": "stdout"
        }
      ]
    },
    {
      "cell_type": "code",
      "metadata": {
        "id": "b0wb2BeU-2Rf",
        "colab_type": "code",
        "colab": {}
      },
      "source": [
        "out = predict_entities(TEST_TEXTS[0], nlp2)"
      ],
      "execution_count": 0,
      "outputs": []
    },
    {
      "cell_type": "code",
      "metadata": {
        "id": "gg3k3DweFPr3",
        "colab_type": "code",
        "outputId": "49e75ecb-68e0-4162-c978-6586a6a5be85",
        "colab": {
          "base_uri": "https://localhost:8080/",
          "height": 185
        }
      },
      "source": [
        "out"
      ],
      "execution_count": 90,
      "outputs": [
        {
          "output_type": "execute_result",
          "data": {
            "text/plain": [
              "[('Client Account Transfer Form', 'TITLE'),\n",
              " ('IRA', 'ACC_TYPE'),\n",
              " ('(541) 754-2589', 'PHONE'),\n",
              " ('Juanita S Salinas', 'CLIENT'),\n",
              " ('Seagram Building, 375 Park Ave 24th floor', 'CITY'),\n",
              " ('New York, NY, 10152', 'CITY'),\n",
              " ('04972333', 'ACC_NO'),\n",
              " ('617141155', 'SOCIAL_SECURITY_NO'),\n",
              " ('335-2546', 'RELATIONSHIP_NO'),\n",
              " ('harold@gmail.com', 'EMAIL')]"
            ]
          },
          "metadata": {
            "tags": []
          },
          "execution_count": 90
        }
      ]
    },
    {
      "cell_type": "code",
      "metadata": {
        "id": "3oxGJbFi-2ME",
        "colab_type": "code",
        "outputId": "3a27d7e3-d50d-462f-8e39-0d83d305ba2c",
        "colab": {
          "base_uri": "https://localhost:8080/",
          "height": 168
        }
      },
      "source": [
        "out = predict_entities(TEST_TEXTS[1], nlp2)\n",
        "out"
      ],
      "execution_count": 91,
      "outputs": [
        {
          "output_type": "execute_result",
          "data": {
            "text/plain": [
              "[('Client Account Transfer Form', 'TITLE'),\n",
              " ('IRA', 'ACC_TYPE'),\n",
              " ('(541) 754-3010', 'PHONE'),\n",
              " ('Grace M Garcia', 'CLIENT'),\n",
              " ('Search Results 11988', 'ADDRESS'),\n",
              " ('San Diego, CA,92130', 'CITY'),\n",
              " ('417414892', 'SOCIAL_SECURITY_NO'),\n",
              " ('335-0021', 'RELATIONSHIP_NO'),\n",
              " ('Robert@gmail.com', 'EMAIL')]"
            ]
          },
          "metadata": {
            "tags": []
          },
          "execution_count": 91
        }
      ]
    },
    {
      "cell_type": "code",
      "metadata": {
        "id": "_2j_U-sBpgkM",
        "colab_type": "code",
        "outputId": "bda5e710-57cf-45e2-b292-8460791a4b0f",
        "colab": {
          "base_uri": "https://localhost:8080/",
          "height": 185
        }
      },
      "source": [
        "out = predict_entities(TEST_TEXTS[2], nlp2)\n",
        "out"
      ],
      "execution_count": 92,
      "outputs": [
        {
          "output_type": "execute_result",
          "data": {
            "text/plain": [
              "[('Client Account Transfer Form', 'TITLE'),\n",
              " ('IRA', 'ACC_TYPE'),\n",
              " ('340 Madison Ave', 'ADDRESS'),\n",
              " ('79703212', 'ACC_NO'),\n",
              " ('(541) 754-3888', 'PHONE'),\n",
              " ('Jeanette B Hughes', 'CLIENT'),\n",
              " ('New York, NY,10173', 'CITY'),\n",
              " ('344466775', 'SOCIAL_SECURITY_NO'),\n",
              " ('335-2125', 'RELATIONSHIP_NO'),\n",
              " ('Richard@gmail.com', 'EMAIL')]"
            ]
          },
          "metadata": {
            "tags": []
          },
          "execution_count": 92
        }
      ]
    },
    {
      "cell_type": "code",
      "metadata": {
        "id": "ltiDIrpGIICg",
        "colab_type": "code",
        "outputId": "5e8111c7-fda1-45b4-fae3-c429575a4cdd",
        "colab": {
          "base_uri": "https://localhost:8080/",
          "height": 151
        }
      },
      "source": [
        "out = predict_entities(TEST_TEXTS[3], nlp2)\n",
        "out"
      ],
      "execution_count": 93,
      "outputs": [
        {
          "output_type": "execute_result",
          "data": {
            "text/plain": [
              "[('IRA', 'ACC_TYPE'),\n",
              " ('Account Application', 'TITLE'),\n",
              " ('Richard K Forester', 'CLIENT'),\n",
              " ('3482 Comfort Court', 'ADDRESS'),\n",
              " ('2072 James Street', 'ADDRESS'),\n",
              " ('(541) 754-3022', 'PHONE'),\n",
              " ('337-50-9888', 'SOCIAL_SECURITY_NO'),\n",
              " ('Richard@gmail.com', 'EMAIL')]"
            ]
          },
          "metadata": {
            "tags": []
          },
          "execution_count": 93
        }
      ]
    },
    {
      "cell_type": "code",
      "metadata": {
        "id": "hySVLBDsIgZF",
        "colab_type": "code",
        "outputId": "5f274f6b-5379-4a56-e8d3-25a901c845d1",
        "colab": {
          "base_uri": "https://localhost:8080/",
          "height": 134
        }
      },
      "source": [
        "out = predict_entities(TEST_TEXTS[4], nlp2)\n",
        "out"
      ],
      "execution_count": 94,
      "outputs": [
        {
          "output_type": "execute_result",
          "data": {
            "text/plain": [
              "[('Client Account Transfer Form', 'TITLE'),\n",
              " ('IRA', 'ACC_TYPE'),\n",
              " ('(541) 754-3021', 'PHONE'),\n",
              " ('Pamela B Boyd', 'CLIENT'),\n",
              " ('204842467', 'SOCIAL_SECURITY_NO'),\n",
              " ('335-4444', 'RELATIONSHIP_NO'),\n",
              " ('Candy@gmail.com', 'EMAIL')]"
            ]
          },
          "metadata": {
            "tags": []
          },
          "execution_count": 94
        }
      ]
    },
    {
      "cell_type": "code",
      "metadata": {
        "id": "2t0ats6mIjI3",
        "colab_type": "code",
        "outputId": "ade9d2c1-ce1c-4d18-91f1-c944061f7903",
        "colab": {
          "base_uri": "https://localhost:8080/",
          "height": 151
        }
      },
      "source": [
        "out = predict_entities(TEST_TEXTS[5], nlp2)\n",
        "out"
      ],
      "execution_count": 95,
      "outputs": [
        {
          "output_type": "execute_result",
          "data": {
            "text/plain": [
              "[('IRA', 'ACC_TYPE'),\n",
              " ('Account Application', 'TITLE'),\n",
              " (\"4929 B Street Mother's Maiden Name Karen A Sliva State City AUSTIN Kentucky Zip Code 42123 Zip Code 89555\",\n",
              "  'ADDRESS'),\n",
              " ('1459 Rockford Road', 'ADDRESS'),\n",
              " ('(541) 754-3088', 'PHONE'),\n",
              " ('680-12-0244', 'SOCIAL_SECURITY_NO'),\n",
              " ('Jonathan@gmail.com', 'EMAIL')]"
            ]
          },
          "metadata": {
            "tags": []
          },
          "execution_count": 95
        }
      ]
    },
    {
      "cell_type": "code",
      "metadata": {
        "id": "ob8b0fOlpQJb",
        "colab_type": "code",
        "outputId": "70d73e8e-f2ac-4b06-bc33-385d93533a82",
        "colab": {
          "base_uri": "https://localhost:8080/",
          "height": 34
        }
      },
      "source": [
        "len(TEST_TEXTS)"
      ],
      "execution_count": 96,
      "outputs": [
        {
          "output_type": "execute_result",
          "data": {
            "text/plain": [
              "6"
            ]
          },
          "metadata": {
            "tags": []
          },
          "execution_count": 96
        }
      ]
    },
    {
      "cell_type": "code",
      "metadata": {
        "id": "GBnJ8xm8JHzy",
        "colab_type": "code",
        "outputId": "322ee1db-6bc2-42be-9cb5-c4bbeec68ae3",
        "colab": {
          "base_uri": "https://localhost:8080/",
          "height": 54
        }
      },
      "source": [
        "TEST_TEXTS[5]"
      ],
      "execution_count": 97,
      "outputs": [
        {
          "output_type": "execute_result",
          "data": {
            "text/plain": [
              "'CLEAR PRINT IRA Account Application charles SCHWAB Page 1 of 8 Investment Advisor (\"IA\") Information (This portion to be completed by IA.) IA Firm Name (Please print.: Jonathan K Sanchez IA Master Account Number: 8 8 9 6 -5 498 Service Team: IA Contact Information (if follow-up is required): Note: To transfer or distribute IRA assets to a beneficiary due to the death of the account holder, please use the inherited IRA Application. 1. Select IRA Type (Select only ONE type of account.) Traditional IRA. (Select only one.) Contributory IRA Rollover IRA Rollover from an employer retirement plan $ Name of Employer Sponsoring the Plan Approximate Total Value of Distribution Expected Distribution Date By signing this application, I elect that my IRA assets identified above be considered a rollover. This election is required required by the IRS to qualify my contribution as a rollover contribution. Roth IRA. (Select only one.) Roth Contributory Roth Conversion (from a Schwab Qualified Plan*) Current Schwab Qualified Plan to convert: Note: You are required to complete and attach the appropriate Schwab qualified plan distribution form. (Tax withholding information will be provided within the distribution form.) Roth Conversion (from a Schwab Traditional IRA). To process your Roth conversion, elect your tax withholding below. Current Schwab Traditional IRA to convert: Amount to convert to Roth IRA Full conversion (The entire balance of your IRA will be converted.) Partial conversion (Only a portion of your IRA will be converted.) Cash amount to be converted: $ Attach a separate list of securities to be converted. Important Tax Withholding Election Notice: Distributions from your IRA are generally subject to federal (and possibly state) income tax. Even if you elect in writing not to have federal and/or state income tax withheld, you are liable for payment of federal and state income taxes, if applicable, on the taxable portion of your distribution. You may also be subject to tax penalties under the estimated tax payment rules if your withholding and payment of estimated tax, if any, are not adequate. va Your tax withholding election will remain in effect on all distributions from your Traditional IRA until you change or revoke it. You may change or revoke your tax withholding election at any time by submitting your requests to Schwab. Withholding income taxes may subject you to IRS penalties if you are under age 594, because the amount withheld is considered a distribution. Schwab recommends that you contact your tax advisor regarding your tax withholding election. Federal Income Tax Withholding: Please select a withholding instruction for the taxable distribution that results from the conversion. If you do not make an election or have not previously made an election, Schwab is required to withhold 10% for payment of federal (and possibly state) income tax from your gross distribution. Do not withhold tax Withhold federal income tax: 10% 15% 20% Other % (Federal tax withholding must be a whole number and must be at least 10% and not more than 99% when combined with state income tax withholding. If you reside in AR, CA, DE, GA, IA, KS, MA, ME, NC, NE, OK, OR, or VT and federal income tax withholding is applied, Schwab will also apply state income tax withholding based upon your state\\'s minimum tax rate CHARLES SCHWAB USE ONLY: Account Number ESIG ©2019 Charles Schwab & Co., Inc. (\"Schwab\"). All rights reserved. Member SIPC. CC2416646 (0519-9GXP) APP10539-50 (05/19) * APP 10 5 3 9 - 50 0 1 * . Page 2 of 8 1. Select IRA Type (Continued) *A Schwab Qualified Plan is a Schwab Profit Sharing Qualified Retirement Plan or Keogh, a Schwab Individual 401(k), or a Schwab 403(b)(7) Account. State Income Tax Withholding: State tax withholding may be required from your distribution. In some cases, you may elect not to have withholding apply, or you may elect to increase the rate of withholding. In other cases, state tax withholding is not available. Refer to the State Income Tax Withholding Information sheet for specific information concerning your state\\'s withholding rates. While Schwab makes every effort to obtain information about state tax laws from sources believed to be reliable, Schwab cannot guarantee the accuracy or timeliness of state tax withholding information because state laws are subject to constant change and interpretation. We recommend that you contact your tax advisor regarding your tax withholding elections and to answer any questions that you may have regarding your state\\'s withholding laws. If you do not make an election, Schwab will apply withholding (if required) at the minimum rate based on your state of residency as determined by your legal address of record on your account. Do not withhold tax Withhold state income tax at the rate of: (specify %) (State tax withholding must be at least your state\\'s minimum tax rate, either a whole number [e.g., 15%] or a whole and fractional number to one decimal point (e.g., 15.5%), and not more than 99% when combined with federal income tax withholding.) If you move between states with differing income tax withholding laws, Schwab will apply state income tax withholding (if required) at the rate you have provided above or at the minimum rate based on the laws for your new state of residency, whichever is higher. SIMPLE IRA. Note: This form can only be used to add participants to an existing plan. SIMPLE IRA Name of Business Employer\\'s Group Plan Number Simplified Employee Pension IRA (SEP-IRA). (Select only one). Note: Application must include Adoption Agreement and Employer\\'s Agreement. SEP-IRA SARSEP-IRA Name of Business (Middle) K (Last) Sanchez 2. Account Holder Information Name (First) Jonathan Are you known by another name? Specify: Walter O Cruz Home/Legal Street Address (No P.O.Boxes, please) 4929 B Street Mother\\'s Maiden Name Karen A Sliva State City AUSTIN Kentucky Zip Code 42123 Zip Code 89555 State New York Cellular Telephone Number Mailing Address (If different from above; P.O. boxes may be used.) 1459 Rockford Road Home Telephone Number (541) 754-3088 Social Security/Tax ID Number 680-12-0244 City Brooklyn Business Telephone Number (541) 754-3022 Date of Birth (mm/dd/yyyy 7/5/1979 Email Address Jonathan@gmail.com Country of Legal Residence Country(ies) of Citizenship (Must list ail: if not a U.S. citizen, please complete identification information below.) O USA Other: INDIA Other: Country of Birth (Required for foreign citizens and/or foreign residents only. USA Other: INDIA * By providing your email address, you consent to receiving email from Schwab. Information about opting out of certain email communications is provided at www.schwab.com/privacy. ESIG ©2019 Charles Schwab & Co., Inc. (\"Schwab\"). All rights reserved. Member SIPC. CC2416646 (0519-9GXP) APP10539-50 (05/19) * APP 10 5 3 9 - 5 OO 2 * '"
            ]
          },
          "metadata": {
            "tags": []
          },
          "execution_count": 97
        }
      ]
    },
    {
      "cell_type": "code",
      "metadata": {
        "id": "XCoesoMpQrIw",
        "colab_type": "code",
        "colab": {}
      },
      "source": [
        "# "
      ],
      "execution_count": 0,
      "outputs": []
    },
    {
      "cell_type": "markdown",
      "metadata": {
        "id": "BSYdHs2jS8Pi",
        "colab_type": "text"
      },
      "source": [
        "# Prediction - OCR then NER"
      ]
    },
    {
      "cell_type": "code",
      "metadata": {
        "id": "OBSrqjZ9TVsA",
        "colab_type": "code",
        "outputId": "ee81e189-ad57-4f49-d7a7-67d9263cb5e2",
        "colab": {
          "base_uri": "https://localhost:8080/",
          "height": 34
        }
      },
      "source": [
        "print(\"Loading from\", output_dir)\n",
        "nlp2 = spacy.load(output_dir)\n",
        "\n",
        "def predict_entities(text, nlp2):\n",
        "    # test the trained model\n",
        "    doc = nlp2(text)\n",
        "    entities = []\n",
        "    for ent in doc.ents:\n",
        "        entities.append((ent.text, ent.label_))\n",
        "    return entities"
      ],
      "execution_count": 99,
      "outputs": [
        {
          "output_type": "stream",
          "text": [
            "Loading from /content/model\n"
          ],
          "name": "stdout"
        }
      ]
    },
    {
      "cell_type": "code",
      "metadata": {
        "id": "CdsDP2nTTALD",
        "colab_type": "code",
        "colab": {}
      },
      "source": [
        "def predict_ocr_ner(path_): \n",
        "    print(path_)\n",
        "    file_name = path_.split('/')[-1]\n",
        "    print(file_name)\n",
        "    if Path(file_name).suffix == '.pdf':\n",
        "        extracted_text = detect_text_from_pdf(pdf_path = path_, num_of_pages = 2)\n",
        "        return predict_entities(extracted_text, nlp2)\n",
        "    elif Path(file_name).suffix == '.png' or 'jpg':\n",
        "        extracted_text = detect_text_from_image(path_)\n",
        "        return predict_entities(extracted_text, nlp2)\n",
        "    else:\n",
        "        pass"
      ],
      "execution_count": 0,
      "outputs": []
    },
    {
      "cell_type": "markdown",
      "metadata": {
        "id": "SQ4O3W8HoCbI",
        "colab_type": "text"
      },
      "source": [
        "MERILLYN\n"
      ]
    },
    {
      "cell_type": "code",
      "metadata": {
        "id": "XHf8FHuAY7Fo",
        "colab_type": "code",
        "colab": {
          "base_uri": "https://localhost:8080/",
          "height": 1000
        },
        "outputId": "be0879b2-0157-4e90-ecd0-a27a56e77405"
      },
      "source": [
        "result_text = detect_text_from_image('/content/drive/My Drive/DOC-NER/Merrilllynch_CRA/Adrian Clemens.png')\n",
        "\n",
        "print(result_text)\n",
        "\n",
        "#for path in path_list:\n",
        "#    text_ = detect_text_from_image(path)\n",
        "#    # write to file "
      ],
      "execution_count": 115,
      "outputs": [
        {
          "output_type": "stream",
          "text": [
            "Texts:\n",
            "DTC8862\n",
            "ACAT0671\n",
            "A BANK OF AMERICA COMPANY\n",
            "Client Account Transfer Form\n",
            "Use this form to transfer all or a portion of your account from\n",
            "MERRILL\n",
            "another financial institution to your Merrill Lynch, Pierce, Fenner &\n",
            "Smith Incorporated (“Merrill Lynch”) account.\n",
            "For best results, please complete the information requested below in parts 1 to 4 using ALL CAPITAL letters and\n",
            "black ink. If you need more room for information or signatures, use a copy of the relevant page or a blank sheet. Use\n",
            "one form for each account that you're transferring.\n",
            "Things to know before you begin:\n",
            "Many firms transfer assets using an automated transfer process, which typically takes 5 to 6 business days. Other\n",
            "firms either don't use the automated process or must process some assets manually, which takes more time. The\n",
            "following estimated time frames for manual transfers are from the date of eipt of instructions by the deli\n",
            "firm and may vary greatly:\n",
            "· Equities, bonds and options, approximately 15 business days\n",
            "Restricted securities, approximately 15 to 20 business days\n",
            "Mutual funds, up to 30 business days\n",
            "- Foreign securities, 4 to 6 weeks\n",
            "Note: Annuities are not transferred using this form. Please use the Merrill Lynch Annuity Transfer Form.\n",
            "Remember to update any automatic deposits or withdrawals you've set up on the account you're transferring to\n",
            "Merrill Lynch.\n",
            "• Some transfers may result in tax consequences, penalties or financial risk. Consult your tax and financial\n",
            "professionals before requesting this transfer.\n",
            "If you're rolling over assets from a 401(k) or other employer-sponsored plan, consider all of your choices. You may\n",
            "be able to roll over to an IRA, roll over an old 401(k) to a 401(k) at a new employer, take a distribution or leave the\n",
            "account where it is, depending on your unique financial needs and retirement goals. Each choice may offer different\n",
            "benefits and limitations including investment options and services, fees and expenses, withdrawal options, required\n",
            "minimum distributions, tax treatment and protection from creditors and legal judgments. Additionally, there are\n",
            "limits to how often and when you can roll over your account. Please contact your 401(k) or other employer-sponsored\n",
            "plan administrator for help with the transfer.\n",
            "Part 1\n",
            "Where\n",
            "your account\n",
            "is now\n",
            "FIRM NAME\n",
            "AEW Capital\n",
            "FIRM ADDRESS\n",
            "2 Seaport Ln\n",
            "ACCOUNT NUMBER\n",
            "89101454\n",
            "FIRM PHONE\n",
            "CONTACT NAME\n",
            "(541) 754-2545\n",
            "Daniel C Paul\n",
            "CITY, STATE, ZIP\n",
            "| Boston, MA,02210\n",
            "ACCOUNT TITLE\n",
            "Adrian T Clemens\n",
            "Attach all pages\n",
            "of your most recent\n",
            "statement for this\n",
            "account to avoid\n",
            "any delays\n",
            "EMPLOYER ID NUMBER (If used for\n",
            "repo\n",
            "ACCOUNT TYPE (RETAIL/IRA etc.)\n",
            "IRA\n",
            "SOCIAL SECURITY NUMBER (If used for tax reporting)\n",
            "545401875\n",
            "Account holders (individual accounts) or authorized signers (for business, trust, estate, etc.)\n",
            "List all names exactly as they appear on this account.\n",
            "NAME 1\n",
            "TITLE (If an authorized signer)\n",
            "Adrian T Clemens\n",
            "NAME 2\n",
            "TITLE (If an authorized signer)\n",
            "Roth\n",
            "O SEP\n",
            "Other (Please specify)\n",
            "Part 2\n",
            "Merrill Lynch account\n",
            "receiving your\n",
            "transferred assets\n",
            "MERRILL LYNCH ACCOUNT NUMBER ACCOUNT TYPE (Choose one)\n",
            "335-0012\n",
            "OCMA IRA\n",
            "ACCOUNT TITLE (Here at Merrill Lynch)\n",
            "Adrian T Clemens\n",
            "SOCIAL SECURITY NUMBER (If used for tax reporting)\n",
            "545401875\n",
            "EMPLOYER ID NUMBER (If used for tax reporting)\n",
            "This can include a\n",
            "Merrill Lynch account\n",
            "on which you receive\n",
            "fiduciary services\n",
            "from U.S. Trust.\n",
            "Account holders (individual accounts) or authorized signers (for business, trust, estate, etc.)\n",
            "List all names exactly as they appear on this account. This account must have at least one owner in common with\n",
            "your transferring account, otherwise this process will be delayed.\n",
            "TITLE (If an authorized signer)\n",
            "NAME 1\n",
            "Adrian T Clemens\n",
            "NAME 2\n",
            "TITLE (If an authorized signer)\n",
            "EVENING PHONE\n",
            "EMAIL\n",
            "DAYTIME PHONE\n",
            "(541) 754-3254\n",
            "Adrian@gmail.com\n",
            "BRANCH CONTACT NAME\n",
            "NICK LANE\n",
            "BRANCH CONTACT NUMBER\n",
            "866.848.6554\n",
            "CODE 1566 MLPFS - 03/2018\n",
            "\n"
          ],
          "name": "stdout"
        }
      ]
    },
    {
      "cell_type": "code",
      "metadata": {
        "id": "brXQHiszhFFJ",
        "colab_type": "code",
        "colab": {
          "base_uri": "https://localhost:8080/",
          "height": 235
        },
        "outputId": "59627f86-9a9d-4f7f-fdb5-b65bbb26142c"
      },
      "source": [
        "new_pdf = '/content/drive/My Drive/DOC-NER/Merrilllynch_CRA/Adrian Clemens.png'\n",
        "result = predict_ocr_ner(new_pdf)\n",
        "result"
      ],
      "execution_count": 117,
      "outputs": [
        {
          "output_type": "stream",
          "text": [
            "/content/drive/My Drive/DOC-NER/Merrilllynch_CRA/Adrian Clemens.png\n",
            "Adrian Clemens.png\n",
            "Texts:\n"
          ],
          "name": "stdout"
        },
        {
          "output_type": "execute_result",
          "data": {
            "text/plain": [
              "[('Client Account Transfer Form', 'TITLE'),\n",
              " ('IRA', 'ACC_TYPE'),\n",
              " ('2 Seaport Ln', 'ADDRESS'),\n",
              " ('89101454', 'ACC_NO'),\n",
              " ('(541) 754-2545', 'PHONE'),\n",
              " ('Daniel C Paul', 'CLIENT'),\n",
              " ('Boston, MA,02210', 'CITY'),\n",
              " ('545401875', 'SOCIAL_SECURITY_NO'),\n",
              " ('335-0012', 'RELATIONSHIP_NO'),\n",
              " ('Adrian@gmail.com', 'EMAIL')]"
            ]
          },
          "metadata": {
            "tags": []
          },
          "execution_count": 117
        }
      ]
    },
    {
      "cell_type": "markdown",
      "metadata": {
        "id": "uMpNp-IxoOks",
        "colab_type": "text"
      },
      "source": [
        "AMERITRADE\n"
      ]
    },
    {
      "cell_type": "code",
      "metadata": {
        "id": "2biHvHK5bAW5",
        "colab_type": "code",
        "colab": {
          "base_uri": "https://localhost:8080/",
          "height": 1000
        },
        "outputId": "b482129f-ab94-4af6-9469-a2a882462e2a"
      },
      "source": [
        "pdf_file_path = '/content/drive/My Drive/DOC-NER/Ameritrade Institutional/Anne C Pugh_.pdf'\n",
        "pages = convert_from_path(pdf_file_path, 200)\n",
        "pdf_file_path_ = pdf_file_path.replace(' ', '_')\n",
        "pdf_file_path_ = Path(pdf_file_path_).stem\n",
        "for page in pages[0:1]:\n",
        "    #print(pdf_file_path_+ '_'+page+'.jpg', 'JPEG')\n",
        "\n",
        "    #page.save(pdf_file_path_+ '_'+page+'.jpg', 'JPEG')\n",
        "    page.save(pdf_file_path_ + '.jpg')\n",
        "page.save(pdf_file_path_ + '.jpg')\n",
        "result_text = detect_text_from_image(pdf_file_path_ + '.jpg')\n",
        "\n",
        "print(result_text)"
      ],
      "execution_count": 145,
      "outputs": [
        {
          "output_type": "stream",
          "text": [
            "Texts:\n",
            "Reset Form\n",
            "TD Ameritrade\n",
            "Institutional\n",
            "ACCOUNT TRANSFER FORM\n",
            "TO TRANSFER YOUR EXISTING\n",
            "ACCOUNT TO TD AMERITRADE\n",
            "Account # 874589644\n",
            "Advisor Code 800589988\n",
            "Case #\n",
            "1\n",
            "PLEASE ATTACH A COPY OF YOUR LATEST STATEMENT.\n",
            "TD AMERITRADE ACCOUNT INFORMATION\n",
            "Account Title/Registration:\n",
            "Anne C Pugh\n",
            "Social Security Number/Tax ID:\n",
            "Clearing Number:\n",
            "404711444\n",
            "0188\n",
            "Personal Trust\n",
            "Limited Liability Company\n",
            "Roth IRA\n",
            "Individual\n",
            "(Non-Qualified)\n",
            "D Qualified Retirement Plan\n",
            "Employer Plan Type:\n",
            "Joint\n",
            "Estate\n",
            "Partnership/Investment Club\n",
            "SEP IRA\n",
            "Simple IRA\n",
            "UTMA/UGMA\n",
            "Corporate\n",
            "Traditional IRA/Rollover IRA\n",
            "Coverdell ESA\n",
            "Beneficiary IRA\n",
            "Other:\n",
            "2\n",
            "INFORMATION ON THE ACCOUNT YOU ARE TRANSFERRING FROM\n",
            "Account Title/Registration as shown on your statement:\n",
            "Account Number:\n",
            "Anne C Pugh\n",
            "587102361\n",
            "Name of Delivering Firm:\n",
            "LMT\n",
            "Physical Address of Firm (no PO BOX):\n",
            "Telephone Number (required):\n",
            "852 Beechwood Drive\n",
            "(541) 754-3033\n",
            "Personal Trust\n",
            "Limited Liability Company\n",
            "Roth IRA\n",
            "Individual\n",
            "(Non-Qualified)\n",
            "I Qualified Retirement Plan\n",
            "Employer Plan Type:\n",
            "Joint\n",
            "Estate\n",
            "Partnership/Investment Club\n",
            "SEP IRA\n",
            "Simple IRA\n",
            "Has SIMPLE IRA been funded for at least two years?\n",
            "Yes No\n",
            "OUTMA/UGMA\n",
            "Corporate\n",
            "Traditional IRA/Rollover IRA\n",
            "Coverdell ESA\n",
            "Beneficiary IRA\n",
            "Other:\n",
            "3\n",
            "LIST THE ASSETS YOU WANT TO TRANSFER\n",
            "A. Transfer from an ACAT eligible Brokerage Firm, Bank, Insurance/Annuity Co., Trust Co., or Transfer Agent - Check box for full\n",
            "or partial transfer. For partial transfers, list descriptions of assets and shares. Unless otherwise indicated, TD Ameritrade will transfer in full.\n",
            "Please note – The ACAT system does not allow for liquidation requests. To place trades, please contact your current custodian prior to\n",
            "submitting the transfer request. Most banks, insurance annuity, and trust companies require original wet-ink signature mailed to TD Ameritrade.\n",
            "If transferring in Alternative Investments, please obtain a copy of the Transfer In Only Alternative Investment Client Custody\n",
            "Agreement from your Advisor, the terms of which will apply to our custody of your Alternative Investments. No signature is required.\n",
            "Full Transfer - To transfer entire account, check box and\n",
            "Partial Transfer - List specific security. If bonds are being transferred,\n",
            "skip to Section 4 (if applicable), then to the Signature Section. please supply the Bond CUSIP.\n",
            "Description of Asset\n",
            "(Partial transfers only)\n",
            "Quantity\n",
            "(Indicate # of shares or \"ALL\")\n",
            "Description of Asset\n",
            "(Partial transfers only)\n",
            "Quantity\n",
            "(Indicate # of shares or \"ALL\")\n",
            "NELX\n",
            "200\n",
            "BA\n",
            "150\n",
            "LMT\n",
            "200\n",
            "MCD\n",
            "300\n",
            "For additional securities, see attached list.\n",
            "Page 1 of 5\n",
            "TDAI 9582 REV. 02/17\n",
            "\n"
          ],
          "name": "stdout"
        }
      ]
    },
    {
      "cell_type": "code",
      "metadata": {
        "id": "Fx4Moyv7Ttw1",
        "colab_type": "code",
        "outputId": "e2a2e66e-4ba2-443c-d604-e89101d73498",
        "colab": {
          "base_uri": "https://localhost:8080/",
          "height": 202
        }
      },
      "source": [
        "new_pdf = '/content/Anne_C_Pugh_.jpg'\n",
        "result = predict_ocr_ner(new_pdf)\n",
        "result"
      ],
      "execution_count": 146,
      "outputs": [
        {
          "output_type": "stream",
          "text": [
            "/content/Anne_C_Pugh_.jpg\n",
            "Anne_C_Pugh_.jpg\n",
            "Texts:\n"
          ],
          "name": "stdout"
        },
        {
          "output_type": "execute_result",
          "data": {
            "text/plain": [
              "[('ACCOUNT TRANSFER FORM', 'TITLE'),\n",
              " ('Anne C Pugh', 'CLIENT'),\n",
              " ('404711444', 'SOCIAL_SECURITY_NO'),\n",
              " ('IRA', 'ACC_TYPE'),\n",
              " ('Anne C Pugh', 'CLIENT'),\n",
              " ('587102361', 'SOCIAL_SECURITY_NO'),\n",
              " ('852 Beechwood Drive', 'ADDRESS'),\n",
              " ('(541) 754-3033', 'PHONE')]"
            ]
          },
          "metadata": {
            "tags": []
          },
          "execution_count": 146
        }
      ]
    },
    {
      "cell_type": "markdown",
      "metadata": {
        "id": "To3NPN8woWHL",
        "colab_type": "text"
      },
      "source": [
        "SCHWAB"
      ]
    },
    {
      "cell_type": "code",
      "metadata": {
        "id": "Tj8rY5FXj1ov",
        "colab_type": "code",
        "colab": {
          "base_uri": "https://localhost:8080/",
          "height": 1000
        },
        "outputId": "a17f0461-bb24-4183-96bb-0f2228663f6d"
      },
      "source": [
        "pdf_file_path = '/content/drive/My Drive/DOC-NER/Schwab_IRA/Karen_A_Sliva_.pdf'\n",
        "pages = convert_from_path(pdf_file_path, 200)\n",
        "pdf_file_path_ = pdf_file_path.replace(' ', '_')\n",
        "pdf_file_path_ = Path(pdf_file_path_).stem\n",
        "for page in pages[0:2]:\n",
        "    #print(pdf_file_path_+ '_'+page+'.jpg', 'JPEG')\n",
        "\n",
        "    #page.save(pdf_file_path_+ '_'+page+'.jpg', 'JPEG')\n",
        "    page.save(pdf_file_path_ + '.jpg')\n",
        "page.save(pdf_file_path_ + '.jpg')\n",
        "result_text = detect_text_from_image(pdf_file_path_ + '.jpg')\n",
        "\n",
        "print(result_text)"
      ],
      "execution_count": 147,
      "outputs": [
        {
          "output_type": "stream",
          "text": [
            "Texts:\n",
            "Page 2 of 8\n",
            "1. Select IRA Type (Continued)\n",
            "*A Schwab Qualified Plan is a Schwab Profit Sharing Qualified Retirement Plan or Keogh, a Schwab Individual 401(k), or a Schwab 403(b)(7) Account.\n",
            "State Income Tax Withholding: State tax withholding may be required from your distribution. In some cases, you may elect not to have withholding\n",
            "apply, or you may elect to increase the rate of withholding. In other cases, state tax withholding is not available. Refer to the State Income Tax\n",
            "Withholding Information sheet for specific information concerning your state's withholding rates.\n",
            "While Schwab makes every effort to obtain information about state tax laws from sources believed to be reliable, Schwab cannot guarantee the\n",
            "accuracy or timeliness of state tax withholding information because state laws are subject to constant change and interpretation. We recommend\n",
            "that you contact your tax advisor regarding your tax withholding elections and to answer any questions that you may have regarding your state's\n",
            "withholding laws.\n",
            "If you do not make an election, Schwab will apply withholding (if required) at the minimum rate based on your state of residency as determined by your\n",
            "legal address of record on your account.\n",
            "Do not withhold tax\n",
            "o o\n",
            "Withhold state income tax at the rate of: (specify\n",
            "%) (State tax withholding must be at least your state's minimum tax rate, either a\n",
            "whole number [e.g., 15%] or a whole and fractional number to one decimal point (e.g., 15.5%], and not more than 99% when combined with\n",
            "federal income tax withholding.)\n",
            "If you move between states with differing income tax withholding laws, Schwab will apply state income tax withholding (if required) at the rate you have\n",
            "provided above or at the minimum rate based on the laws for your new state of residency, whichever is higher.\n",
            "SIMPLE IRA. Note: This form can only be used to add participants to an existing plan.\n",
            "SIMPLE IRA\n",
            "Name of Business\n",
            "Employer's Group Plan Number\n",
            "Simplified Employee Pension IRA (SEP-IRA). (Select only one). Note: Application must include Adoption Agreement and Employer's Agreement.\n",
            "O SEP-IRA\n",
            "O SARSEP-IRA\n",
            "Name of Business\n",
            "2. Account Holder Information\n",
            "Name (First)\n",
            "(Middle)\n",
            "(Last)\n",
            "Sliva\n",
            "Karen\n",
            "А.\n",
            "Mother's Maiden Name\n",
            "Are you known by another name? Specify:\n",
            "Edward V Davis\n",
            "State\n",
            "Zip Code\n",
            "Melissa R Waterbury\n",
            "City\n",
            "Clinchport\n",
            "City\n",
            "San Francisco\n",
            "Virginia\n",
            "24244\n",
            "State\n",
            "Zip Code\n",
            "California\n",
            "94103\n",
            "Home/Legal Street Address (No P.O. boxes, please)\n",
            "213 Payne Street\n",
            "Mailing Address (If different from above; P.O. boxes may be used.)\n",
            "4715 Sycamore Street\n",
            "Home Telephone Number\n",
            "(541) 754-3016\n",
            "Social Security/Tax ID Number\n",
            "337-01-4322\n",
            "Cellular Telephone Number\n",
            "Business Telephone Number\n",
            "(541) 754-3056\n",
            "Date of Birth (mm/dd/yyyy)\n",
            "10/25/1989\n",
            "Email Address*\n",
            "Karen@gmail.com\n",
            "Country(ies) of Citizenship (Must list all; if not a U.S. citizen, please complete identification information below.)\n",
            "Country of Legal Residence\n",
            "USA\n",
            "Other:\n",
            "USA Other:\n",
            "Other:\n",
            "Country of Birth (Required for foreign citizens and/or foreign residents only.)\n",
            "By providing your email address, you consent to receiving email from Schwab. Information about opting out of certain email communications is\n",
            "provided at www.schwab.com/privacy.\n",
            "ESIG\n",
            "©2019 Charles Schwab & Co., Inc. (\"Schwab\"). All rights reserved. Member SIPC.\n",
            "CC2416646 (0519-9GXP) APP10539-50 (05/19)\n",
            "* A P P 1 0 5 3 9 - 5 O\n",
            "0 2 *\n",
            "\n"
          ],
          "name": "stdout"
        }
      ]
    },
    {
      "cell_type": "code",
      "metadata": {
        "id": "wnebPZ7EkDpj",
        "colab_type": "code",
        "colab": {
          "base_uri": "https://localhost:8080/",
          "height": 202
        },
        "outputId": "46a32f75-a148-4a61-8fb9-345913cbf587"
      },
      "source": [
        "new_pdf = '/content/Karen_A_Sliva_.jpg'\n",
        "result = predict_ocr_ner(new_pdf)\n",
        "result"
      ],
      "execution_count": 148,
      "outputs": [
        {
          "output_type": "stream",
          "text": [
            "/content/Karen_A_Sliva_.jpg\n",
            "Karen_A_Sliva_.jpg\n",
            "Texts:\n"
          ],
          "name": "stdout"
        },
        {
          "output_type": "execute_result",
          "data": {
            "text/plain": [
              "[('Edward V Davis', 'CLIENT'),\n",
              " ('San Francisco\\nVirginia\\n24244', 'CITY'),\n",
              " ('94103', 'ACC_NO'),\n",
              " ('213 Payne Street', 'ADDRESS'),\n",
              " ('(541) 754-3016', 'PHONE'),\n",
              " ('337-01-4322', 'SOCIAL_SECURITY_NO'),\n",
              " ('(541) 754-3056', 'PHONE'),\n",
              " ('Karen@gmail.com', 'ACC_NO')]"
            ]
          },
          "metadata": {
            "tags": []
          },
          "execution_count": 148
        }
      ]
    },
    {
      "cell_type": "code",
      "metadata": {
        "id": "sFYaMg3pmfkO",
        "colab_type": "code",
        "colab": {}
      },
      "source": [
        ""
      ],
      "execution_count": 0,
      "outputs": []
    },
    {
      "cell_type": "code",
      "metadata": {
        "id": "pv3IGsSlUCEF",
        "colab_type": "code",
        "colab": {}
      },
      "source": [
        "import spacy \n",
        "from spacy.gold import GoldParse \n",
        "from spacy.scorer import Scorer\n",
        " \n",
        "def evaluate(ner_model, examples):    \n",
        "    scorer = Scorer()    \n",
        "    for input_, annot in examples:        \n",
        "        doc_gold_text = ner_model.make_doc(input_)        \n",
        "        gold = GoldParse(doc_gold_text, entities=annot['entities'])        \n",
        "        pred_value = ner_model(input_)        \n",
        "        scorer.score(pred_value, gold)    \n",
        "        return scorer.scores\n",
        " \n",
        "output_dir = \"model\"\n",
        "nlp2 = spacy.load(output_dir)\n",
        " \n",
        "results = evaluate(nlp2, TESTING_DATA)"
      ],
      "execution_count": 0,
      "outputs": []
    },
    {
      "cell_type": "code",
      "metadata": {
        "id": "c0Q2Wvlmp-Rl",
        "colab_type": "code",
        "outputId": "79f69221-1575-4dce-bee1-7eed902503ab",
        "colab": {
          "base_uri": "https://localhost:8080/",
          "height": 336
        }
      },
      "source": [
        "results"
      ],
      "execution_count": 86,
      "outputs": [
        {
          "output_type": "execute_result",
          "data": {
            "text/plain": [
              "{'ents_f': 82.35294117647058,\n",
              " 'ents_p': 70.0,\n",
              " 'ents_per_type': {'ACC_NO': {'f': 0.0, 'p': 0.0, 'r': 0.0},\n",
              "  'ACC_TYPE': {'f': 100.0, 'p': 100.0, 'r': 100.0},\n",
              "  'CITY': {'f': 0.0, 'p': 0.0, 'r': 0.0},\n",
              "  'CLIENT': {'f': 100.0, 'p': 100.0, 'r': 100.0},\n",
              "  'EMAIL': {'f': 100.0, 'p': 100.0, 'r': 100.0},\n",
              "  'PHONE': {'f': 100.0, 'p': 100.0, 'r': 100.0},\n",
              "  'RELATIONSHIP_NO': {'f': 100.0, 'p': 100.0, 'r': 100.0},\n",
              "  'SOCIAL_SECURITY_NO': {'f': 100.0, 'p': 100.0, 'r': 100.0},\n",
              "  'TITLE': {'f': 100.0, 'p': 100.0, 'r': 100.0}},\n",
              " 'ents_r': 100.0,\n",
              " 'las': 0.0,\n",
              " 'las_per_type': {'': {'f': 0.0, 'p': 0.0, 'r': 0.0}},\n",
              " 'tags_acc': 0.0,\n",
              " 'textcat_score': 0.0,\n",
              " 'textcats_per_cat': {},\n",
              " 'token_acc': 100.0,\n",
              " 'uas': 0.0}"
            ]
          },
          "metadata": {
            "tags": []
          },
          "execution_count": 86
        }
      ]
    },
    {
      "cell_type": "code",
      "metadata": {
        "id": "fpvhM23vqYAD",
        "colab_type": "code",
        "colab": {}
      },
      "source": [
        ""
      ],
      "execution_count": 0,
      "outputs": []
    }
  ]
}